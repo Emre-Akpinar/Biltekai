{
 "cells": [
  {
   "cell_type": "code",
   "outputs": [
    {
     "name": "stdout",
     "output_type": "stream",
     "text": [
      "[3 1 0 3 4 2]\n"
     ]
    }
   ],
   "source": [
    "from sklearn.preprocessing import LabelEncoder\n",
    "data = (\"red\", \"green\", \"blue\", \"red\", \"yellow\", \"orange\")\n",
    "labelencoder = LabelEncoder()\n",
    "labelencoded = labelencoder.fit_transform(data)\n",
    "\n",
    "print(labelencoded)"
   ],
   "metadata": {
    "collapsed": false,
    "ExecuteTime": {
     "end_time": "2024-08-24T22:22:51.079098Z",
     "start_time": "2024-08-24T22:22:51.074104Z"
    }
   },
   "id": "ca5666677dfbbb16",
   "execution_count": 19
  },
  {
   "cell_type": "code",
   "outputs": [
    {
     "name": "stdout",
     "output_type": "stream",
     "text": [
      "<Compressed Sparse Row sparse matrix of dtype 'float64'\n",
      "\twith 6 stored elements and shape (6, 5)>\n",
      "  Coords\tValues\n",
      "  (0, 3)\t1.0\n",
      "  (1, 1)\t1.0\n",
      "  (2, 0)\t1.0\n",
      "  (3, 3)\t1.0\n",
      "  (4, 4)\t1.0\n",
      "  (5, 2)\t1.0\n"
     ]
    }
   ],
   "source": [
    "from sklearn.preprocessing import OneHotEncoder\n",
    "import numpy as np\n",
    "data = np.array([\"red\", \"green\", \"blue\", \"red\", \"yellow\", \"orange\"]).reshape(-1,1)\n",
    "onehotencoder = OneHotEncoder()\n",
    "onehotencoded = onehotencoder.fit_transform(data)\n",
    "\n",
    "print(onehotencoded)"
   ],
   "metadata": {
    "collapsed": false,
    "ExecuteTime": {
     "end_time": "2024-08-24T22:30:38.104067Z",
     "start_time": "2024-08-24T22:30:38.099875Z"
    }
   },
   "id": "f8e6a27ba7694118",
   "execution_count": 28
  },
  {
   "cell_type": "code",
   "outputs": [
    {
     "name": "stdout",
     "output_type": "stream",
     "text": [
      "[[0.]\n",
      " [1.]\n",
      " [2.]\n",
      " [1.]\n",
      " [0.]]\n"
     ]
    }
   ],
   "source": [
    "from sklearn.preprocessing import OrdinalEncoder\n",
    "data = np.array(['low', 'medium', 'high', 'medium', 'low']).reshape(-1,1)\n",
    "ordinal_encoder = OrdinalEncoder(categories=[[\"low\",\"medium\",\"high\"]]) #Categories is auto in default\n",
    "ordinal_encoded = ordinal_encoder.fit_transform(data)\n",
    "\n",
    "print(ordinal_encoded)"
   ],
   "metadata": {
    "collapsed": false,
    "ExecuteTime": {
     "end_time": "2024-08-24T22:57:08.410933Z",
     "start_time": "2024-08-24T22:57:08.406525Z"
    }
   },
   "id": "22e4ca8ba708ff9e",
   "execution_count": 35
  },
  {
   "cell_type": "code",
   "outputs": [
    {
     "name": "stdout",
     "output_type": "stream",
     "text": [
      "  category  target   encoded\n",
      "0        A       1  0.666667\n",
      "1        B       0  0.500000\n",
      "2        A       1  0.666667\n",
      "3        C       0  0.000000\n",
      "4        B       1  0.500000\n",
      "5        A       0  0.666667\n"
     ]
    }
   ],
   "source": [
    "## Binary encoding\n",
    "\n",
    "import pandas as pd\n",
    "\n",
    "# Sample data\n",
    "data = pd.DataFrame({\n",
    "    'category': ['A', 'B', 'A', 'C', 'B', 'A'],\n",
    "    'target': [1, 0, 1, 0, 1, 0]\n",
    "})\n",
    "\n",
    "# Calculate mean target for each category\n",
    "mean_target = data.groupby('category')['target'].mean()\n",
    "\n",
    "# Map categories to mean target values\n",
    "data['encoded'] = data['category'].map(mean_target)\n",
    "\n",
    "print(data)\n"
   ],
   "metadata": {
    "collapsed": false,
    "ExecuteTime": {
     "end_time": "2024-08-24T23:19:15.735592Z",
     "start_time": "2024-08-24T23:19:15.729081Z"
    }
   },
   "id": "d9bf9e50167b7a2d",
   "execution_count": 46
  },
  {
   "cell_type": "code",
   "outputs": [
    {
     "name": "stdout",
     "output_type": "stream",
     "text": [
      "  category  encoded\n",
      "0        A        3\n",
      "1        B        2\n",
      "2        A        3\n",
      "3        C        1\n",
      "4        B        2\n",
      "5        A        3\n"
     ]
    }
   ],
   "source": [
    "## Frequency encoding\n",
    "\n",
    "import pandas as pd\n",
    "data = pd.DataFrame({\n",
    "    'category': [\"A\",\"B\",\"A\",\"C\",\"B\",\"A\"]\n",
    "})\n",
    "freq = data[\"category\"].value_counts()\n",
    "data[\"encoded\"] = data[\"category\"].map(freq)\n",
    "print(data)"
   ],
   "metadata": {
    "collapsed": false,
    "ExecuteTime": {
     "end_time": "2024-08-25T01:09:54.060120Z",
     "start_time": "2024-08-25T01:09:54.055056Z"
    }
   },
   "id": "28cec3cf769fa673",
   "execution_count": 76
  },
  {
   "cell_type": "code",
   "outputs": [
    {
     "data": {
      "text/plain": "  Encoding Technique                                         Advantages  \\\n0     Label Encoding                     – Simple and easy to implement   \n1                                           – Suitable for ordinal data   \n2   One-Hot Encoding                        – Suitable for nominal data   \n3                            – Avoids introducing ordinal relationships   \n4                     – Maintains information on the values of each ...   \n5   Ordinal Encoding                – Preserves the order of categories   \n6                                           – Suitable for ordinal data   \n7    Target Encoding  – Can improve model performance by incorporati...   \n8                              – Suitable for high-cardinality features   \n\n                                       Disadvantages  \n0  – Introduces arbitrary ordinal relationships f...  \n1                  – May not work well with outliers  \n2  – Can lead to increased dimensionality and spa...  \n3  – May cause overfitting, especially with many ...  \n4                                                     \n5                    – Not suitable for nominal data  \n6  – Assumes equal spacing between categories, wh...  \n7  – Prone to overfitting, especially with small ...  \n8  – Requires careful handling to avoid data leakage  ",
      "text/html": "<div>\n<style scoped>\n    .dataframe tbody tr th:only-of-type {\n        vertical-align: middle;\n    }\n\n    .dataframe tbody tr th {\n        vertical-align: top;\n    }\n\n    .dataframe thead th {\n        text-align: right;\n    }\n</style>\n<table border=\"1\" class=\"dataframe\">\n  <thead>\n    <tr style=\"text-align: right;\">\n      <th></th>\n      <th>Encoding Technique</th>\n      <th>Advantages</th>\n      <th>Disadvantages</th>\n    </tr>\n  </thead>\n  <tbody>\n    <tr>\n      <th>0</th>\n      <td>Label Encoding</td>\n      <td>– Simple and easy to implement</td>\n      <td>– Introduces arbitrary ordinal relationships f...</td>\n    </tr>\n    <tr>\n      <th>1</th>\n      <td></td>\n      <td>– Suitable for ordinal data</td>\n      <td>– May not work well with outliers</td>\n    </tr>\n    <tr>\n      <th>2</th>\n      <td>One-Hot Encoding</td>\n      <td>– Suitable for nominal data</td>\n      <td>– Can lead to increased dimensionality and spa...</td>\n    </tr>\n    <tr>\n      <th>3</th>\n      <td></td>\n      <td>– Avoids introducing ordinal relationships</td>\n      <td>– May cause overfitting, especially with many ...</td>\n    </tr>\n    <tr>\n      <th>4</th>\n      <td></td>\n      <td>– Maintains information on the values of each ...</td>\n      <td></td>\n    </tr>\n    <tr>\n      <th>5</th>\n      <td>Ordinal Encoding</td>\n      <td>– Preserves the order of categories</td>\n      <td>– Not suitable for nominal data</td>\n    </tr>\n    <tr>\n      <th>6</th>\n      <td></td>\n      <td>– Suitable for ordinal data</td>\n      <td>– Assumes equal spacing between categories, wh...</td>\n    </tr>\n    <tr>\n      <th>7</th>\n      <td>Target Encoding</td>\n      <td>– Can improve model performance by incorporati...</td>\n      <td>– Prone to overfitting, especially with small ...</td>\n    </tr>\n    <tr>\n      <th>8</th>\n      <td></td>\n      <td>– Suitable for high-cardinality features</td>\n      <td>– Requires careful handling to avoid data leakage</td>\n    </tr>\n  </tbody>\n</table>\n</div>"
     },
     "execution_count": 125,
     "metadata": {},
     "output_type": "execute_result"
    }
   ],
   "source": [
    "df = pd.read_excel(\"Encoding Techniques.xlsx\")\n",
    "df.replace([np.nan],\"\",inplace=True)\n",
    "df"
   ],
   "metadata": {
    "collapsed": false,
    "ExecuteTime": {
     "end_time": "2024-08-25T01:40:33.076609Z",
     "start_time": "2024-08-25T01:40:33.063652Z"
    }
   },
   "id": "d20a0915d1916df7",
   "execution_count": 125
  },
  {
   "cell_type": "markdown",
   "source": [
    "Nominal Data: Use One-Hot Encoding or Frequency Encoding.\n",
    "Ordinal Data: Use Label Encoding or Ordinal Encoding.\n",
    "High-Cardinality Features: Use Target Encoding or Frequency Encoding.\n",
    "Avoiding Overfitting: Be cautious with Target Encoding and consider using cross-validation techniques to prevent data leakage."
   ],
   "metadata": {
    "collapsed": false
   },
   "id": "31a6abae68a632c6"
  },
  {
   "cell_type": "code",
   "outputs": [],
   "source": [],
   "metadata": {
    "collapsed": false
   },
   "id": "239cbf91fcd0e728"
  }
 ],
 "metadata": {
  "kernelspec": {
   "display_name": "Python 3",
   "language": "python",
   "name": "python3"
  },
  "language_info": {
   "codemirror_mode": {
    "name": "ipython",
    "version": 2
   },
   "file_extension": ".py",
   "mimetype": "text/x-python",
   "name": "python",
   "nbconvert_exporter": "python",
   "pygments_lexer": "ipython2",
   "version": "2.7.6"
  }
 },
 "nbformat": 4,
 "nbformat_minor": 5
}
