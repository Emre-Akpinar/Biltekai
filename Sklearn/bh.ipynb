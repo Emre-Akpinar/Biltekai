{
 "cells": [
  {
   "cell_type": "code",
   "execution_count": 1,
   "id": "initial_id",
   "metadata": {
    "collapsed": true,
    "ExecuteTime": {
     "end_time": "2024-08-11T20:54:32.552985Z",
     "start_time": "2024-08-11T20:54:32.456253Z"
    }
   },
   "outputs": [],
   "source": [
    "from sklearn.datasets import fetch_openml"
   ]
  },
  {
   "cell_type": "code",
   "outputs": [],
   "source": [
    "titanic = fetch_openml(\"titanic\",version = 1, as_frame = True)\n",
    "df = titanic.data"
   ],
   "metadata": {
    "collapsed": false,
    "ExecuteTime": {
     "end_time": "2024-08-11T20:55:56.628482Z",
     "start_time": "2024-08-11T20:55:56.612467Z"
    }
   },
   "id": "54f301d4e12d75a8",
   "execution_count": 2
  },
  {
   "cell_type": "code",
   "outputs": [
    {
     "data": {
      "text/plain": "      pclass                                             name     sex  \\\n0          1                    Allen, Miss. Elisabeth Walton  female   \n1          1                   Allison, Master. Hudson Trevor    male   \n2          1                     Allison, Miss. Helen Loraine  female   \n3          1             Allison, Mr. Hudson Joshua Creighton    male   \n4          1  Allison, Mrs. Hudson J C (Bessie Waldo Daniels)  female   \n...      ...                                              ...     ...   \n1304       3                             Zabour, Miss. Hileni  female   \n1305       3                            Zabour, Miss. Thamine  female   \n1306       3                        Zakarian, Mr. Mapriededer    male   \n1307       3                              Zakarian, Mr. Ortin    male   \n1308       3                               Zimmerman, Mr. Leo    male   \n\n          age  sibsp  parch  ticket      fare    cabin embarked boat   body  \\\n0     29.0000      0      0   24160  211.3375       B5        S    2    NaN   \n1      0.9167      1      2  113781  151.5500  C22 C26        S   11    NaN   \n2      2.0000      1      2  113781  151.5500  C22 C26        S  NaN    NaN   \n3     30.0000      1      2  113781  151.5500  C22 C26        S  NaN  135.0   \n4     25.0000      1      2  113781  151.5500  C22 C26        S  NaN    NaN   \n...       ...    ...    ...     ...       ...      ...      ...  ...    ...   \n1304  14.5000      1      0    2665   14.4542      NaN        C  NaN  328.0   \n1305      NaN      1      0    2665   14.4542      NaN        C  NaN    NaN   \n1306  26.5000      0      0    2656    7.2250      NaN        C  NaN  304.0   \n1307  27.0000      0      0    2670    7.2250      NaN        C  NaN    NaN   \n1308  29.0000      0      0  315082    7.8750      NaN        S  NaN    NaN   \n\n                            home.dest  \n0                        St Louis, MO  \n1     Montreal, PQ / Chesterville, ON  \n2     Montreal, PQ / Chesterville, ON  \n3     Montreal, PQ / Chesterville, ON  \n4     Montreal, PQ / Chesterville, ON  \n...                               ...  \n1304                              NaN  \n1305                              NaN  \n1306                              NaN  \n1307                              NaN  \n1308                              NaN  \n\n[1309 rows x 13 columns]",
      "text/html": "<div>\n<style scoped>\n    .dataframe tbody tr th:only-of-type {\n        vertical-align: middle;\n    }\n\n    .dataframe tbody tr th {\n        vertical-align: top;\n    }\n\n    .dataframe thead th {\n        text-align: right;\n    }\n</style>\n<table border=\"1\" class=\"dataframe\">\n  <thead>\n    <tr style=\"text-align: right;\">\n      <th></th>\n      <th>pclass</th>\n      <th>name</th>\n      <th>sex</th>\n      <th>age</th>\n      <th>sibsp</th>\n      <th>parch</th>\n      <th>ticket</th>\n      <th>fare</th>\n      <th>cabin</th>\n      <th>embarked</th>\n      <th>boat</th>\n      <th>body</th>\n      <th>home.dest</th>\n    </tr>\n  </thead>\n  <tbody>\n    <tr>\n      <th>0</th>\n      <td>1</td>\n      <td>Allen, Miss. Elisabeth Walton</td>\n      <td>female</td>\n      <td>29.0000</td>\n      <td>0</td>\n      <td>0</td>\n      <td>24160</td>\n      <td>211.3375</td>\n      <td>B5</td>\n      <td>S</td>\n      <td>2</td>\n      <td>NaN</td>\n      <td>St Louis, MO</td>\n    </tr>\n    <tr>\n      <th>1</th>\n      <td>1</td>\n      <td>Allison, Master. Hudson Trevor</td>\n      <td>male</td>\n      <td>0.9167</td>\n      <td>1</td>\n      <td>2</td>\n      <td>113781</td>\n      <td>151.5500</td>\n      <td>C22 C26</td>\n      <td>S</td>\n      <td>11</td>\n      <td>NaN</td>\n      <td>Montreal, PQ / Chesterville, ON</td>\n    </tr>\n    <tr>\n      <th>2</th>\n      <td>1</td>\n      <td>Allison, Miss. Helen Loraine</td>\n      <td>female</td>\n      <td>2.0000</td>\n      <td>1</td>\n      <td>2</td>\n      <td>113781</td>\n      <td>151.5500</td>\n      <td>C22 C26</td>\n      <td>S</td>\n      <td>NaN</td>\n      <td>NaN</td>\n      <td>Montreal, PQ / Chesterville, ON</td>\n    </tr>\n    <tr>\n      <th>3</th>\n      <td>1</td>\n      <td>Allison, Mr. Hudson Joshua Creighton</td>\n      <td>male</td>\n      <td>30.0000</td>\n      <td>1</td>\n      <td>2</td>\n      <td>113781</td>\n      <td>151.5500</td>\n      <td>C22 C26</td>\n      <td>S</td>\n      <td>NaN</td>\n      <td>135.0</td>\n      <td>Montreal, PQ / Chesterville, ON</td>\n    </tr>\n    <tr>\n      <th>4</th>\n      <td>1</td>\n      <td>Allison, Mrs. Hudson J C (Bessie Waldo Daniels)</td>\n      <td>female</td>\n      <td>25.0000</td>\n      <td>1</td>\n      <td>2</td>\n      <td>113781</td>\n      <td>151.5500</td>\n      <td>C22 C26</td>\n      <td>S</td>\n      <td>NaN</td>\n      <td>NaN</td>\n      <td>Montreal, PQ / Chesterville, ON</td>\n    </tr>\n    <tr>\n      <th>...</th>\n      <td>...</td>\n      <td>...</td>\n      <td>...</td>\n      <td>...</td>\n      <td>...</td>\n      <td>...</td>\n      <td>...</td>\n      <td>...</td>\n      <td>...</td>\n      <td>...</td>\n      <td>...</td>\n      <td>...</td>\n      <td>...</td>\n    </tr>\n    <tr>\n      <th>1304</th>\n      <td>3</td>\n      <td>Zabour, Miss. Hileni</td>\n      <td>female</td>\n      <td>14.5000</td>\n      <td>1</td>\n      <td>0</td>\n      <td>2665</td>\n      <td>14.4542</td>\n      <td>NaN</td>\n      <td>C</td>\n      <td>NaN</td>\n      <td>328.0</td>\n      <td>NaN</td>\n    </tr>\n    <tr>\n      <th>1305</th>\n      <td>3</td>\n      <td>Zabour, Miss. Thamine</td>\n      <td>female</td>\n      <td>NaN</td>\n      <td>1</td>\n      <td>0</td>\n      <td>2665</td>\n      <td>14.4542</td>\n      <td>NaN</td>\n      <td>C</td>\n      <td>NaN</td>\n      <td>NaN</td>\n      <td>NaN</td>\n    </tr>\n    <tr>\n      <th>1306</th>\n      <td>3</td>\n      <td>Zakarian, Mr. Mapriededer</td>\n      <td>male</td>\n      <td>26.5000</td>\n      <td>0</td>\n      <td>0</td>\n      <td>2656</td>\n      <td>7.2250</td>\n      <td>NaN</td>\n      <td>C</td>\n      <td>NaN</td>\n      <td>304.0</td>\n      <td>NaN</td>\n    </tr>\n    <tr>\n      <th>1307</th>\n      <td>3</td>\n      <td>Zakarian, Mr. Ortin</td>\n      <td>male</td>\n      <td>27.0000</td>\n      <td>0</td>\n      <td>0</td>\n      <td>2670</td>\n      <td>7.2250</td>\n      <td>NaN</td>\n      <td>C</td>\n      <td>NaN</td>\n      <td>NaN</td>\n      <td>NaN</td>\n    </tr>\n    <tr>\n      <th>1308</th>\n      <td>3</td>\n      <td>Zimmerman, Mr. Leo</td>\n      <td>male</td>\n      <td>29.0000</td>\n      <td>0</td>\n      <td>0</td>\n      <td>315082</td>\n      <td>7.8750</td>\n      <td>NaN</td>\n      <td>S</td>\n      <td>NaN</td>\n      <td>NaN</td>\n      <td>NaN</td>\n    </tr>\n  </tbody>\n</table>\n<p>1309 rows × 13 columns</p>\n</div>"
     },
     "execution_count": 3,
     "metadata": {},
     "output_type": "execute_result"
    }
   ],
   "source": [
    "df"
   ],
   "metadata": {
    "collapsed": false,
    "ExecuteTime": {
     "end_time": "2024-08-11T20:55:58.581012Z",
     "start_time": "2024-08-11T20:55:58.568031Z"
    }
   },
   "id": "a2256ce4b003f68f",
   "execution_count": 3
  },
  {
   "cell_type": "code",
   "outputs": [],
   "source": [
    "df[\"survived\"] = titanic[\"target\"]"
   ],
   "metadata": {
    "collapsed": false,
    "ExecuteTime": {
     "end_time": "2024-08-11T20:56:12.384742Z",
     "start_time": "2024-08-11T20:56:12.381785Z"
    }
   },
   "id": "31c67c43219f5a31",
   "execution_count": 4
  },
  {
   "cell_type": "code",
   "outputs": [
    {
     "data": {
      "text/plain": "      pclass                                             name     sex  \\\n0          1                    Allen, Miss. Elisabeth Walton  female   \n1          1                   Allison, Master. Hudson Trevor    male   \n2          1                     Allison, Miss. Helen Loraine  female   \n3          1             Allison, Mr. Hudson Joshua Creighton    male   \n4          1  Allison, Mrs. Hudson J C (Bessie Waldo Daniels)  female   \n...      ...                                              ...     ...   \n1304       3                             Zabour, Miss. Hileni  female   \n1305       3                            Zabour, Miss. Thamine  female   \n1306       3                        Zakarian, Mr. Mapriededer    male   \n1307       3                              Zakarian, Mr. Ortin    male   \n1308       3                               Zimmerman, Mr. Leo    male   \n\n          age  sibsp  parch  ticket      fare    cabin embarked boat   body  \\\n0     29.0000      0      0   24160  211.3375       B5        S    2    NaN   \n1      0.9167      1      2  113781  151.5500  C22 C26        S   11    NaN   \n2      2.0000      1      2  113781  151.5500  C22 C26        S  NaN    NaN   \n3     30.0000      1      2  113781  151.5500  C22 C26        S  NaN  135.0   \n4     25.0000      1      2  113781  151.5500  C22 C26        S  NaN    NaN   \n...       ...    ...    ...     ...       ...      ...      ...  ...    ...   \n1304  14.5000      1      0    2665   14.4542      NaN        C  NaN  328.0   \n1305      NaN      1      0    2665   14.4542      NaN        C  NaN    NaN   \n1306  26.5000      0      0    2656    7.2250      NaN        C  NaN  304.0   \n1307  27.0000      0      0    2670    7.2250      NaN        C  NaN    NaN   \n1308  29.0000      0      0  315082    7.8750      NaN        S  NaN    NaN   \n\n                            home.dest survived  \n0                        St Louis, MO        1  \n1     Montreal, PQ / Chesterville, ON        1  \n2     Montreal, PQ / Chesterville, ON        0  \n3     Montreal, PQ / Chesterville, ON        0  \n4     Montreal, PQ / Chesterville, ON        0  \n...                               ...      ...  \n1304                              NaN        0  \n1305                              NaN        0  \n1306                              NaN        0  \n1307                              NaN        0  \n1308                              NaN        0  \n\n[1309 rows x 14 columns]",
      "text/html": "<div>\n<style scoped>\n    .dataframe tbody tr th:only-of-type {\n        vertical-align: middle;\n    }\n\n    .dataframe tbody tr th {\n        vertical-align: top;\n    }\n\n    .dataframe thead th {\n        text-align: right;\n    }\n</style>\n<table border=\"1\" class=\"dataframe\">\n  <thead>\n    <tr style=\"text-align: right;\">\n      <th></th>\n      <th>pclass</th>\n      <th>name</th>\n      <th>sex</th>\n      <th>age</th>\n      <th>sibsp</th>\n      <th>parch</th>\n      <th>ticket</th>\n      <th>fare</th>\n      <th>cabin</th>\n      <th>embarked</th>\n      <th>boat</th>\n      <th>body</th>\n      <th>home.dest</th>\n      <th>survived</th>\n    </tr>\n  </thead>\n  <tbody>\n    <tr>\n      <th>0</th>\n      <td>1</td>\n      <td>Allen, Miss. Elisabeth Walton</td>\n      <td>female</td>\n      <td>29.0000</td>\n      <td>0</td>\n      <td>0</td>\n      <td>24160</td>\n      <td>211.3375</td>\n      <td>B5</td>\n      <td>S</td>\n      <td>2</td>\n      <td>NaN</td>\n      <td>St Louis, MO</td>\n      <td>1</td>\n    </tr>\n    <tr>\n      <th>1</th>\n      <td>1</td>\n      <td>Allison, Master. Hudson Trevor</td>\n      <td>male</td>\n      <td>0.9167</td>\n      <td>1</td>\n      <td>2</td>\n      <td>113781</td>\n      <td>151.5500</td>\n      <td>C22 C26</td>\n      <td>S</td>\n      <td>11</td>\n      <td>NaN</td>\n      <td>Montreal, PQ / Chesterville, ON</td>\n      <td>1</td>\n    </tr>\n    <tr>\n      <th>2</th>\n      <td>1</td>\n      <td>Allison, Miss. Helen Loraine</td>\n      <td>female</td>\n      <td>2.0000</td>\n      <td>1</td>\n      <td>2</td>\n      <td>113781</td>\n      <td>151.5500</td>\n      <td>C22 C26</td>\n      <td>S</td>\n      <td>NaN</td>\n      <td>NaN</td>\n      <td>Montreal, PQ / Chesterville, ON</td>\n      <td>0</td>\n    </tr>\n    <tr>\n      <th>3</th>\n      <td>1</td>\n      <td>Allison, Mr. Hudson Joshua Creighton</td>\n      <td>male</td>\n      <td>30.0000</td>\n      <td>1</td>\n      <td>2</td>\n      <td>113781</td>\n      <td>151.5500</td>\n      <td>C22 C26</td>\n      <td>S</td>\n      <td>NaN</td>\n      <td>135.0</td>\n      <td>Montreal, PQ / Chesterville, ON</td>\n      <td>0</td>\n    </tr>\n    <tr>\n      <th>4</th>\n      <td>1</td>\n      <td>Allison, Mrs. Hudson J C (Bessie Waldo Daniels)</td>\n      <td>female</td>\n      <td>25.0000</td>\n      <td>1</td>\n      <td>2</td>\n      <td>113781</td>\n      <td>151.5500</td>\n      <td>C22 C26</td>\n      <td>S</td>\n      <td>NaN</td>\n      <td>NaN</td>\n      <td>Montreal, PQ / Chesterville, ON</td>\n      <td>0</td>\n    </tr>\n    <tr>\n      <th>...</th>\n      <td>...</td>\n      <td>...</td>\n      <td>...</td>\n      <td>...</td>\n      <td>...</td>\n      <td>...</td>\n      <td>...</td>\n      <td>...</td>\n      <td>...</td>\n      <td>...</td>\n      <td>...</td>\n      <td>...</td>\n      <td>...</td>\n      <td>...</td>\n    </tr>\n    <tr>\n      <th>1304</th>\n      <td>3</td>\n      <td>Zabour, Miss. Hileni</td>\n      <td>female</td>\n      <td>14.5000</td>\n      <td>1</td>\n      <td>0</td>\n      <td>2665</td>\n      <td>14.4542</td>\n      <td>NaN</td>\n      <td>C</td>\n      <td>NaN</td>\n      <td>328.0</td>\n      <td>NaN</td>\n      <td>0</td>\n    </tr>\n    <tr>\n      <th>1305</th>\n      <td>3</td>\n      <td>Zabour, Miss. Thamine</td>\n      <td>female</td>\n      <td>NaN</td>\n      <td>1</td>\n      <td>0</td>\n      <td>2665</td>\n      <td>14.4542</td>\n      <td>NaN</td>\n      <td>C</td>\n      <td>NaN</td>\n      <td>NaN</td>\n      <td>NaN</td>\n      <td>0</td>\n    </tr>\n    <tr>\n      <th>1306</th>\n      <td>3</td>\n      <td>Zakarian, Mr. Mapriededer</td>\n      <td>male</td>\n      <td>26.5000</td>\n      <td>0</td>\n      <td>0</td>\n      <td>2656</td>\n      <td>7.2250</td>\n      <td>NaN</td>\n      <td>C</td>\n      <td>NaN</td>\n      <td>304.0</td>\n      <td>NaN</td>\n      <td>0</td>\n    </tr>\n    <tr>\n      <th>1307</th>\n      <td>3</td>\n      <td>Zakarian, Mr. Ortin</td>\n      <td>male</td>\n      <td>27.0000</td>\n      <td>0</td>\n      <td>0</td>\n      <td>2670</td>\n      <td>7.2250</td>\n      <td>NaN</td>\n      <td>C</td>\n      <td>NaN</td>\n      <td>NaN</td>\n      <td>NaN</td>\n      <td>0</td>\n    </tr>\n    <tr>\n      <th>1308</th>\n      <td>3</td>\n      <td>Zimmerman, Mr. Leo</td>\n      <td>male</td>\n      <td>29.0000</td>\n      <td>0</td>\n      <td>0</td>\n      <td>315082</td>\n      <td>7.8750</td>\n      <td>NaN</td>\n      <td>S</td>\n      <td>NaN</td>\n      <td>NaN</td>\n      <td>NaN</td>\n      <td>0</td>\n    </tr>\n  </tbody>\n</table>\n<p>1309 rows × 14 columns</p>\n</div>"
     },
     "execution_count": 5,
     "metadata": {},
     "output_type": "execute_result"
    }
   ],
   "source": [
    "df"
   ],
   "metadata": {
    "collapsed": false,
    "ExecuteTime": {
     "end_time": "2024-08-11T20:56:13.796055Z",
     "start_time": "2024-08-11T20:56:13.785984Z"
    }
   },
   "id": "93af1c2be757f52f",
   "execution_count": 5
  },
  {
   "cell_type": "code",
   "outputs": [],
   "source": [
    "df.drop([\"name\",\"sibsp\",\"parch\",\"cabin\",\"boat\",\"home.dest\"],axis=1,inplace=True)"
   ],
   "metadata": {
    "collapsed": false,
    "ExecuteTime": {
     "end_time": "2024-08-11T20:57:19.963280Z",
     "start_time": "2024-08-11T20:57:19.959661Z"
    }
   },
   "id": "400f6a07c2b40b4f",
   "execution_count": 6
  },
  {
   "cell_type": "code",
   "outputs": [
    {
     "data": {
      "text/plain": "      pclass     sex      age  ticket      fare embarked   body survived\n0          1  female  29.0000   24160  211.3375        S    NaN        1\n1          1    male   0.9167  113781  151.5500        S    NaN        1\n2          1  female   2.0000  113781  151.5500        S    NaN        0\n3          1    male  30.0000  113781  151.5500        S  135.0        0\n4          1  female  25.0000  113781  151.5500        S    NaN        0\n...      ...     ...      ...     ...       ...      ...    ...      ...\n1304       3  female  14.5000    2665   14.4542        C  328.0        0\n1305       3  female      NaN    2665   14.4542        C    NaN        0\n1306       3    male  26.5000    2656    7.2250        C  304.0        0\n1307       3    male  27.0000    2670    7.2250        C    NaN        0\n1308       3    male  29.0000  315082    7.8750        S    NaN        0\n\n[1309 rows x 8 columns]",
      "text/html": "<div>\n<style scoped>\n    .dataframe tbody tr th:only-of-type {\n        vertical-align: middle;\n    }\n\n    .dataframe tbody tr th {\n        vertical-align: top;\n    }\n\n    .dataframe thead th {\n        text-align: right;\n    }\n</style>\n<table border=\"1\" class=\"dataframe\">\n  <thead>\n    <tr style=\"text-align: right;\">\n      <th></th>\n      <th>pclass</th>\n      <th>sex</th>\n      <th>age</th>\n      <th>ticket</th>\n      <th>fare</th>\n      <th>embarked</th>\n      <th>body</th>\n      <th>survived</th>\n    </tr>\n  </thead>\n  <tbody>\n    <tr>\n      <th>0</th>\n      <td>1</td>\n      <td>female</td>\n      <td>29.0000</td>\n      <td>24160</td>\n      <td>211.3375</td>\n      <td>S</td>\n      <td>NaN</td>\n      <td>1</td>\n    </tr>\n    <tr>\n      <th>1</th>\n      <td>1</td>\n      <td>male</td>\n      <td>0.9167</td>\n      <td>113781</td>\n      <td>151.5500</td>\n      <td>S</td>\n      <td>NaN</td>\n      <td>1</td>\n    </tr>\n    <tr>\n      <th>2</th>\n      <td>1</td>\n      <td>female</td>\n      <td>2.0000</td>\n      <td>113781</td>\n      <td>151.5500</td>\n      <td>S</td>\n      <td>NaN</td>\n      <td>0</td>\n    </tr>\n    <tr>\n      <th>3</th>\n      <td>1</td>\n      <td>male</td>\n      <td>30.0000</td>\n      <td>113781</td>\n      <td>151.5500</td>\n      <td>S</td>\n      <td>135.0</td>\n      <td>0</td>\n    </tr>\n    <tr>\n      <th>4</th>\n      <td>1</td>\n      <td>female</td>\n      <td>25.0000</td>\n      <td>113781</td>\n      <td>151.5500</td>\n      <td>S</td>\n      <td>NaN</td>\n      <td>0</td>\n    </tr>\n    <tr>\n      <th>...</th>\n      <td>...</td>\n      <td>...</td>\n      <td>...</td>\n      <td>...</td>\n      <td>...</td>\n      <td>...</td>\n      <td>...</td>\n      <td>...</td>\n    </tr>\n    <tr>\n      <th>1304</th>\n      <td>3</td>\n      <td>female</td>\n      <td>14.5000</td>\n      <td>2665</td>\n      <td>14.4542</td>\n      <td>C</td>\n      <td>328.0</td>\n      <td>0</td>\n    </tr>\n    <tr>\n      <th>1305</th>\n      <td>3</td>\n      <td>female</td>\n      <td>NaN</td>\n      <td>2665</td>\n      <td>14.4542</td>\n      <td>C</td>\n      <td>NaN</td>\n      <td>0</td>\n    </tr>\n    <tr>\n      <th>1306</th>\n      <td>3</td>\n      <td>male</td>\n      <td>26.5000</td>\n      <td>2656</td>\n      <td>7.2250</td>\n      <td>C</td>\n      <td>304.0</td>\n      <td>0</td>\n    </tr>\n    <tr>\n      <th>1307</th>\n      <td>3</td>\n      <td>male</td>\n      <td>27.0000</td>\n      <td>2670</td>\n      <td>7.2250</td>\n      <td>C</td>\n      <td>NaN</td>\n      <td>0</td>\n    </tr>\n    <tr>\n      <th>1308</th>\n      <td>3</td>\n      <td>male</td>\n      <td>29.0000</td>\n      <td>315082</td>\n      <td>7.8750</td>\n      <td>S</td>\n      <td>NaN</td>\n      <td>0</td>\n    </tr>\n  </tbody>\n</table>\n<p>1309 rows × 8 columns</p>\n</div>"
     },
     "execution_count": 7,
     "metadata": {},
     "output_type": "execute_result"
    }
   ],
   "source": [
    "df"
   ],
   "metadata": {
    "collapsed": false,
    "ExecuteTime": {
     "end_time": "2024-08-11T20:57:21.115284Z",
     "start_time": "2024-08-11T20:57:21.106778Z"
    }
   },
   "id": "67887cd9acbc2c57",
   "execution_count": 7
  },
  {
   "cell_type": "code",
   "outputs": [],
   "source": [
    "from sklearn.impute import SimpleImputer\n",
    "\n",
    "def parameter(df):\n",
    "    for col in df.columns[df.isnull().any()]:\n",
    "        if df[col].dtype == \"int64\" or df[col].dtype == \"float64\":\n",
    "            strategy = \"mean\"\n",
    "        else:\n",
    "            strategy = \"most_frequent\"\n",
    "        \n",
    "        imp = SimpleImputer(strategy = strategy)\n",
    "        df[[col]] = imp.fit_transform(df[[col]])"
   ],
   "metadata": {
    "collapsed": false,
    "ExecuteTime": {
     "end_time": "2024-08-11T20:57:44.507067Z",
     "start_time": "2024-08-11T20:57:44.428387Z"
    }
   },
   "id": "6f50254150185c10",
   "execution_count": 8
  },
  {
   "cell_type": "code",
   "outputs": [],
   "source": [
    "parameter(df)"
   ],
   "metadata": {
    "collapsed": false,
    "ExecuteTime": {
     "end_time": "2024-08-11T20:57:48.994579Z",
     "start_time": "2024-08-11T20:57:48.982977Z"
    }
   },
   "id": "a0666a6e0fe00eee",
   "execution_count": 9
  },
  {
   "cell_type": "code",
   "outputs": [
    {
     "data": {
      "text/plain": "pclass      0\nsex         0\nage         0\nticket      0\nfare        0\nembarked    0\nbody        0\nsurvived    0\ndtype: int64"
     },
     "execution_count": 10,
     "metadata": {},
     "output_type": "execute_result"
    }
   ],
   "source": [
    "df.isnull().sum()"
   ],
   "metadata": {
    "collapsed": false,
    "ExecuteTime": {
     "end_time": "2024-08-11T20:57:56.638883Z",
     "start_time": "2024-08-11T20:57:56.634610Z"
    }
   },
   "id": "4fb67653766d687c",
   "execution_count": 10
  },
  {
   "cell_type": "code",
   "outputs": [
    {
     "data": {
      "text/plain": "      pclass     sex        age  ticket      fare embarked        body  \\\n0          1  female  29.000000   24160  211.3375        S  160.809917   \n1          1    male   0.916700  113781  151.5500        S  160.809917   \n2          1  female   2.000000  113781  151.5500        S  160.809917   \n3          1    male  30.000000  113781  151.5500        S  135.000000   \n4          1  female  25.000000  113781  151.5500        S  160.809917   \n...      ...     ...        ...     ...       ...      ...         ...   \n1304       3  female  14.500000    2665   14.4542        C  328.000000   \n1305       3  female  29.881135    2665   14.4542        C  160.809917   \n1306       3    male  26.500000    2656    7.2250        C  304.000000   \n1307       3    male  27.000000    2670    7.2250        C  160.809917   \n1308       3    male  29.000000  315082    7.8750        S  160.809917   \n\n     survived  \n0           1  \n1           1  \n2           0  \n3           0  \n4           0  \n...       ...  \n1304        0  \n1305        0  \n1306        0  \n1307        0  \n1308        0  \n\n[1309 rows x 8 columns]",
      "text/html": "<div>\n<style scoped>\n    .dataframe tbody tr th:only-of-type {\n        vertical-align: middle;\n    }\n\n    .dataframe tbody tr th {\n        vertical-align: top;\n    }\n\n    .dataframe thead th {\n        text-align: right;\n    }\n</style>\n<table border=\"1\" class=\"dataframe\">\n  <thead>\n    <tr style=\"text-align: right;\">\n      <th></th>\n      <th>pclass</th>\n      <th>sex</th>\n      <th>age</th>\n      <th>ticket</th>\n      <th>fare</th>\n      <th>embarked</th>\n      <th>body</th>\n      <th>survived</th>\n    </tr>\n  </thead>\n  <tbody>\n    <tr>\n      <th>0</th>\n      <td>1</td>\n      <td>female</td>\n      <td>29.000000</td>\n      <td>24160</td>\n      <td>211.3375</td>\n      <td>S</td>\n      <td>160.809917</td>\n      <td>1</td>\n    </tr>\n    <tr>\n      <th>1</th>\n      <td>1</td>\n      <td>male</td>\n      <td>0.916700</td>\n      <td>113781</td>\n      <td>151.5500</td>\n      <td>S</td>\n      <td>160.809917</td>\n      <td>1</td>\n    </tr>\n    <tr>\n      <th>2</th>\n      <td>1</td>\n      <td>female</td>\n      <td>2.000000</td>\n      <td>113781</td>\n      <td>151.5500</td>\n      <td>S</td>\n      <td>160.809917</td>\n      <td>0</td>\n    </tr>\n    <tr>\n      <th>3</th>\n      <td>1</td>\n      <td>male</td>\n      <td>30.000000</td>\n      <td>113781</td>\n      <td>151.5500</td>\n      <td>S</td>\n      <td>135.000000</td>\n      <td>0</td>\n    </tr>\n    <tr>\n      <th>4</th>\n      <td>1</td>\n      <td>female</td>\n      <td>25.000000</td>\n      <td>113781</td>\n      <td>151.5500</td>\n      <td>S</td>\n      <td>160.809917</td>\n      <td>0</td>\n    </tr>\n    <tr>\n      <th>...</th>\n      <td>...</td>\n      <td>...</td>\n      <td>...</td>\n      <td>...</td>\n      <td>...</td>\n      <td>...</td>\n      <td>...</td>\n      <td>...</td>\n    </tr>\n    <tr>\n      <th>1304</th>\n      <td>3</td>\n      <td>female</td>\n      <td>14.500000</td>\n      <td>2665</td>\n      <td>14.4542</td>\n      <td>C</td>\n      <td>328.000000</td>\n      <td>0</td>\n    </tr>\n    <tr>\n      <th>1305</th>\n      <td>3</td>\n      <td>female</td>\n      <td>29.881135</td>\n      <td>2665</td>\n      <td>14.4542</td>\n      <td>C</td>\n      <td>160.809917</td>\n      <td>0</td>\n    </tr>\n    <tr>\n      <th>1306</th>\n      <td>3</td>\n      <td>male</td>\n      <td>26.500000</td>\n      <td>2656</td>\n      <td>7.2250</td>\n      <td>C</td>\n      <td>304.000000</td>\n      <td>0</td>\n    </tr>\n    <tr>\n      <th>1307</th>\n      <td>3</td>\n      <td>male</td>\n      <td>27.000000</td>\n      <td>2670</td>\n      <td>7.2250</td>\n      <td>C</td>\n      <td>160.809917</td>\n      <td>0</td>\n    </tr>\n    <tr>\n      <th>1308</th>\n      <td>3</td>\n      <td>male</td>\n      <td>29.000000</td>\n      <td>315082</td>\n      <td>7.8750</td>\n      <td>S</td>\n      <td>160.809917</td>\n      <td>0</td>\n    </tr>\n  </tbody>\n</table>\n<p>1309 rows × 8 columns</p>\n</div>"
     },
     "execution_count": 11,
     "metadata": {},
     "output_type": "execute_result"
    }
   ],
   "source": [
    "df"
   ],
   "metadata": {
    "collapsed": false,
    "ExecuteTime": {
     "end_time": "2024-08-11T20:58:03.444593Z",
     "start_time": "2024-08-11T20:58:03.435525Z"
    }
   },
   "id": "9ed8a149ac9a8c23",
   "execution_count": 11
  },
  {
   "cell_type": "code",
   "outputs": [],
   "source": [],
   "metadata": {
    "collapsed": false
   },
   "id": "f67a7d3fd0ca3a52"
  }
 ],
 "metadata": {
  "kernelspec": {
   "display_name": "Python 3",
   "language": "python",
   "name": "python3"
  },
  "language_info": {
   "codemirror_mode": {
    "name": "ipython",
    "version": 2
   },
   "file_extension": ".py",
   "mimetype": "text/x-python",
   "name": "python",
   "nbconvert_exporter": "python",
   "pygments_lexer": "ipython2",
   "version": "2.7.6"
  }
 },
 "nbformat": 4,
 "nbformat_minor": 5
}
