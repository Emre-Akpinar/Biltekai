{
 "cells": [
  {
   "cell_type": "code",
   "execution_count": 41,
   "id": "initial_id",
   "metadata": {
    "collapsed": true,
    "ExecuteTime": {
     "end_time": "2024-05-07T22:08:06.256903Z",
     "start_time": "2024-05-07T22:08:06.252942Z"
    }
   },
   "outputs": [],
   "source": [
    "import pandas as pd"
   ]
  },
  {
   "cell_type": "markdown",
   "source": [
    "Read in a csv file:"
   ],
   "metadata": {
    "collapsed": false
   },
   "id": "fe4dcfb9c0a3814"
  },
  {
   "cell_type": "code",
   "outputs": [
    {
     "data": {
      "text/plain": "                   Flavor Base Flavor Liked  Flavor Rating  Texture Rating  \\\n0     Mint Chocolate Chip     Vanilla   Yes           10.0             8.0   \n1               Chocolate   Chocolate   Yes            8.8             7.6   \n2                 Vanilla     Vanilla    No            4.7             5.0   \n3            Cookie Dough     Vanilla   Yes            6.9             6.5   \n4              Rocky Road   Chocolate   Yes            8.2             7.0   \n5               Pistachio     Vanilla    No            2.3             3.4   \n6             Cake Batter     Vanilla   Yes            6.5             6.0   \n7              Neapolitan     Vanilla    No            3.8             5.0   \n8  Chocolte Fudge Brownie   Chocolate   Yes            8.2             7.1   \n\n   Total Rating  \n0          18.0  \n1          16.6  \n2           9.7  \n3          13.4  \n4          15.2  \n5           5.7  \n6          12.5  \n7           8.8  \n8          15.3  ",
      "text/html": "<div>\n<style scoped>\n    .dataframe tbody tr th:only-of-type {\n        vertical-align: middle;\n    }\n\n    .dataframe tbody tr th {\n        vertical-align: top;\n    }\n\n    .dataframe thead th {\n        text-align: right;\n    }\n</style>\n<table border=\"1\" class=\"dataframe\">\n  <thead>\n    <tr style=\"text-align: right;\">\n      <th></th>\n      <th>Flavor</th>\n      <th>Base Flavor</th>\n      <th>Liked</th>\n      <th>Flavor Rating</th>\n      <th>Texture Rating</th>\n      <th>Total Rating</th>\n    </tr>\n  </thead>\n  <tbody>\n    <tr>\n      <th>0</th>\n      <td>Mint Chocolate Chip</td>\n      <td>Vanilla</td>\n      <td>Yes</td>\n      <td>10.0</td>\n      <td>8.0</td>\n      <td>18.0</td>\n    </tr>\n    <tr>\n      <th>1</th>\n      <td>Chocolate</td>\n      <td>Chocolate</td>\n      <td>Yes</td>\n      <td>8.8</td>\n      <td>7.6</td>\n      <td>16.6</td>\n    </tr>\n    <tr>\n      <th>2</th>\n      <td>Vanilla</td>\n      <td>Vanilla</td>\n      <td>No</td>\n      <td>4.7</td>\n      <td>5.0</td>\n      <td>9.7</td>\n    </tr>\n    <tr>\n      <th>3</th>\n      <td>Cookie Dough</td>\n      <td>Vanilla</td>\n      <td>Yes</td>\n      <td>6.9</td>\n      <td>6.5</td>\n      <td>13.4</td>\n    </tr>\n    <tr>\n      <th>4</th>\n      <td>Rocky Road</td>\n      <td>Chocolate</td>\n      <td>Yes</td>\n      <td>8.2</td>\n      <td>7.0</td>\n      <td>15.2</td>\n    </tr>\n    <tr>\n      <th>5</th>\n      <td>Pistachio</td>\n      <td>Vanilla</td>\n      <td>No</td>\n      <td>2.3</td>\n      <td>3.4</td>\n      <td>5.7</td>\n    </tr>\n    <tr>\n      <th>6</th>\n      <td>Cake Batter</td>\n      <td>Vanilla</td>\n      <td>Yes</td>\n      <td>6.5</td>\n      <td>6.0</td>\n      <td>12.5</td>\n    </tr>\n    <tr>\n      <th>7</th>\n      <td>Neapolitan</td>\n      <td>Vanilla</td>\n      <td>No</td>\n      <td>3.8</td>\n      <td>5.0</td>\n      <td>8.8</td>\n    </tr>\n    <tr>\n      <th>8</th>\n      <td>Chocolte Fudge Brownie</td>\n      <td>Chocolate</td>\n      <td>Yes</td>\n      <td>8.2</td>\n      <td>7.1</td>\n      <td>15.3</td>\n    </tr>\n  </tbody>\n</table>\n</div>"
     },
     "execution_count": 42,
     "metadata": {},
     "output_type": "execute_result"
    }
   ],
   "source": [
    "df = pd.read_csv(r\"C:\\Users\\akpin\\PycharmProjects\\Pandas\\Flavors.csv\")\n",
    "df"
   ],
   "metadata": {
    "collapsed": false,
    "ExecuteTime": {
     "end_time": "2024-05-07T22:08:07.516651Z",
     "start_time": "2024-05-07T22:08:07.508135Z"
    }
   },
   "id": "5d3e7d6b00a0ce99",
   "execution_count": 42
  },
  {
   "cell_type": "markdown",
   "source": [
    "## Grouping the frame by the column Base Flavor:"
   ],
   "metadata": {
    "collapsed": false
   },
   "id": "53dbe9ac1981d815"
  },
  {
   "cell_type": "code",
   "outputs": [],
   "source": [
    "group_by_frame = df.groupby(\"Base Flavor\")"
   ],
   "metadata": {
    "collapsed": false,
    "ExecuteTime": {
     "end_time": "2024-05-07T22:08:11.465912Z",
     "start_time": "2024-05-07T22:08:11.462870Z"
    }
   },
   "id": "987817084cd60928",
   "execution_count": 43
  },
  {
   "cell_type": "markdown",
   "source": [
    "## Aggregations"
   ],
   "metadata": {
    "collapsed": false
   },
   "id": "7b8262d563ed48f5"
  },
  {
   "cell_type": "markdown",
   "source": [
    "#### Mean()"
   ],
   "metadata": {
    "collapsed": false
   },
   "id": "54f04a0f7bf1b48a"
  },
  {
   "cell_type": "code",
   "outputs": [
    {
     "data": {
      "text/plain": "             Flavor Rating  Texture Rating  Total Rating\nBase Flavor                                             \nChocolate              8.4        7.233333         15.70\nVanilla                5.7        5.650000         11.35",
      "text/html": "<div>\n<style scoped>\n    .dataframe tbody tr th:only-of-type {\n        vertical-align: middle;\n    }\n\n    .dataframe tbody tr th {\n        vertical-align: top;\n    }\n\n    .dataframe thead th {\n        text-align: right;\n    }\n</style>\n<table border=\"1\" class=\"dataframe\">\n  <thead>\n    <tr style=\"text-align: right;\">\n      <th></th>\n      <th>Flavor Rating</th>\n      <th>Texture Rating</th>\n      <th>Total Rating</th>\n    </tr>\n    <tr>\n      <th>Base Flavor</th>\n      <th></th>\n      <th></th>\n      <th></th>\n    </tr>\n  </thead>\n  <tbody>\n    <tr>\n      <th>Chocolate</th>\n      <td>8.4</td>\n      <td>7.233333</td>\n      <td>15.70</td>\n    </tr>\n    <tr>\n      <th>Vanilla</th>\n      <td>5.7</td>\n      <td>5.650000</td>\n      <td>11.35</td>\n    </tr>\n  </tbody>\n</table>\n</div>"
     },
     "execution_count": 44,
     "metadata": {},
     "output_type": "execute_result"
    }
   ],
   "source": [
    "group_by_frame.mean(\"Base Flavor\")"
   ],
   "metadata": {
    "collapsed": false,
    "ExecuteTime": {
     "end_time": "2024-05-07T22:08:20.043092Z",
     "start_time": "2024-05-07T22:08:20.035568Z"
    }
   },
   "id": "972c01572e1a02e3",
   "execution_count": 44
  },
  {
   "cell_type": "markdown",
   "source": [
    "#### Count()"
   ],
   "metadata": {
    "collapsed": false
   },
   "id": "53169d0e93bfe4e9"
  },
  {
   "cell_type": "code",
   "outputs": [
    {
     "data": {
      "text/plain": "             Flavor  Liked  Flavor Rating  Texture Rating  Total Rating\nBase Flavor                                                            \nChocolate         3      3              3               3             3\nVanilla           6      6              6               6             6",
      "text/html": "<div>\n<style scoped>\n    .dataframe tbody tr th:only-of-type {\n        vertical-align: middle;\n    }\n\n    .dataframe tbody tr th {\n        vertical-align: top;\n    }\n\n    .dataframe thead th {\n        text-align: right;\n    }\n</style>\n<table border=\"1\" class=\"dataframe\">\n  <thead>\n    <tr style=\"text-align: right;\">\n      <th></th>\n      <th>Flavor</th>\n      <th>Liked</th>\n      <th>Flavor Rating</th>\n      <th>Texture Rating</th>\n      <th>Total Rating</th>\n    </tr>\n    <tr>\n      <th>Base Flavor</th>\n      <th></th>\n      <th></th>\n      <th></th>\n      <th></th>\n      <th></th>\n    </tr>\n  </thead>\n  <tbody>\n    <tr>\n      <th>Chocolate</th>\n      <td>3</td>\n      <td>3</td>\n      <td>3</td>\n      <td>3</td>\n      <td>3</td>\n    </tr>\n    <tr>\n      <th>Vanilla</th>\n      <td>6</td>\n      <td>6</td>\n      <td>6</td>\n      <td>6</td>\n      <td>6</td>\n    </tr>\n  </tbody>\n</table>\n</div>"
     },
     "execution_count": 45,
     "metadata": {},
     "output_type": "execute_result"
    }
   ],
   "source": [
    "df.groupby(\"Base Flavor\").count()"
   ],
   "metadata": {
    "collapsed": false,
    "ExecuteTime": {
     "end_time": "2024-05-07T22:08:33.740580Z",
     "start_time": "2024-05-07T22:08:33.734524Z"
    }
   },
   "id": "324bf5fe832a72b9",
   "execution_count": 45
  },
  {
   "cell_type": "markdown",
   "source": [
    "#### Mİn()"
   ],
   "metadata": {
    "collapsed": false
   },
   "id": "71d7bde09700cb96"
  },
  {
   "cell_type": "code",
   "outputs": [
    {
     "data": {
      "text/plain": "            Flavor Base Flavor  Flavor Rating  Texture Rating  Total Rating\nLiked                                                                      \nNo      Neapolitan     Vanilla            2.3             3.4           5.7\nYes    Cake Batter   Chocolate            6.5             6.0          12.5",
      "text/html": "<div>\n<style scoped>\n    .dataframe tbody tr th:only-of-type {\n        vertical-align: middle;\n    }\n\n    .dataframe tbody tr th {\n        vertical-align: top;\n    }\n\n    .dataframe thead th {\n        text-align: right;\n    }\n</style>\n<table border=\"1\" class=\"dataframe\">\n  <thead>\n    <tr style=\"text-align: right;\">\n      <th></th>\n      <th>Flavor</th>\n      <th>Base Flavor</th>\n      <th>Flavor Rating</th>\n      <th>Texture Rating</th>\n      <th>Total Rating</th>\n    </tr>\n    <tr>\n      <th>Liked</th>\n      <th></th>\n      <th></th>\n      <th></th>\n      <th></th>\n      <th></th>\n    </tr>\n  </thead>\n  <tbody>\n    <tr>\n      <th>No</th>\n      <td>Neapolitan</td>\n      <td>Vanilla</td>\n      <td>2.3</td>\n      <td>3.4</td>\n      <td>5.7</td>\n    </tr>\n    <tr>\n      <th>Yes</th>\n      <td>Cake Batter</td>\n      <td>Chocolate</td>\n      <td>6.5</td>\n      <td>6.0</td>\n      <td>12.5</td>\n    </tr>\n  </tbody>\n</table>\n</div>"
     },
     "execution_count": 46,
     "metadata": {},
     "output_type": "execute_result"
    }
   ],
   "source": [
    "df.groupby(\"Liked\").min()"
   ],
   "metadata": {
    "collapsed": false,
    "ExecuteTime": {
     "end_time": "2024-05-07T22:08:34.737774Z",
     "start_time": "2024-05-07T22:08:34.729905Z"
    }
   },
   "id": "e1e2e4f21d4db084",
   "execution_count": 46
  },
  {
   "cell_type": "markdown",
   "source": [
    "#### Max()"
   ],
   "metadata": {
    "collapsed": false
   },
   "id": "64ddd5c06af69923"
  },
  {
   "cell_type": "code",
   "outputs": [
    {
     "data": {
      "text/plain": "                 Flavor Liked  Flavor Rating  Texture Rating  Total Rating\nBase Flavor                                                               \nChocolate    Rocky Road   Yes            8.8             7.6          16.6\nVanilla         Vanilla   Yes           10.0             8.0          18.0",
      "text/html": "<div>\n<style scoped>\n    .dataframe tbody tr th:only-of-type {\n        vertical-align: middle;\n    }\n\n    .dataframe tbody tr th {\n        vertical-align: top;\n    }\n\n    .dataframe thead th {\n        text-align: right;\n    }\n</style>\n<table border=\"1\" class=\"dataframe\">\n  <thead>\n    <tr style=\"text-align: right;\">\n      <th></th>\n      <th>Flavor</th>\n      <th>Liked</th>\n      <th>Flavor Rating</th>\n      <th>Texture Rating</th>\n      <th>Total Rating</th>\n    </tr>\n    <tr>\n      <th>Base Flavor</th>\n      <th></th>\n      <th></th>\n      <th></th>\n      <th></th>\n      <th></th>\n    </tr>\n  </thead>\n  <tbody>\n    <tr>\n      <th>Chocolate</th>\n      <td>Rocky Road</td>\n      <td>Yes</td>\n      <td>8.8</td>\n      <td>7.6</td>\n      <td>16.6</td>\n    </tr>\n    <tr>\n      <th>Vanilla</th>\n      <td>Vanilla</td>\n      <td>Yes</td>\n      <td>10.0</td>\n      <td>8.0</td>\n      <td>18.0</td>\n    </tr>\n  </tbody>\n</table>\n</div>"
     },
     "execution_count": 47,
     "metadata": {},
     "output_type": "execute_result"
    }
   ],
   "source": [
    "df.groupby(\"Base Flavor\").max()"
   ],
   "metadata": {
    "collapsed": false,
    "ExecuteTime": {
     "end_time": "2024-05-07T22:08:35.643953Z",
     "start_time": "2024-05-07T22:08:35.635949Z"
    }
   },
   "id": "1b61a3c11a79073c",
   "execution_count": 47
  },
  {
   "cell_type": "markdown",
   "source": [
    "#### Sum()"
   ],
   "metadata": {
    "collapsed": false
   },
   "id": "23c7015c406302a1"
  },
  {
   "cell_type": "code",
   "outputs": [
    {
     "data": {
      "text/plain": "                                                        Flavor  \\\nBase Flavor                                                      \nChocolate            ChocolateRocky RoadChocolte Fudge Brownie   \nVanilla      Mint Chocolate ChipVanillaCookie DoughPistachi...   \n\n                       Liked  Flavor Rating  Texture Rating  Total Rating  \nBase Flavor                                                                \nChocolate          YesYesYes           25.2            21.7          47.1  \nVanilla      YesNoYesNoYesNo           34.2            33.9          68.1  ",
      "text/html": "<div>\n<style scoped>\n    .dataframe tbody tr th:only-of-type {\n        vertical-align: middle;\n    }\n\n    .dataframe tbody tr th {\n        vertical-align: top;\n    }\n\n    .dataframe thead th {\n        text-align: right;\n    }\n</style>\n<table border=\"1\" class=\"dataframe\">\n  <thead>\n    <tr style=\"text-align: right;\">\n      <th></th>\n      <th>Flavor</th>\n      <th>Liked</th>\n      <th>Flavor Rating</th>\n      <th>Texture Rating</th>\n      <th>Total Rating</th>\n    </tr>\n    <tr>\n      <th>Base Flavor</th>\n      <th></th>\n      <th></th>\n      <th></th>\n      <th></th>\n      <th></th>\n    </tr>\n  </thead>\n  <tbody>\n    <tr>\n      <th>Chocolate</th>\n      <td>ChocolateRocky RoadChocolte Fudge Brownie</td>\n      <td>YesYesYes</td>\n      <td>25.2</td>\n      <td>21.7</td>\n      <td>47.1</td>\n    </tr>\n    <tr>\n      <th>Vanilla</th>\n      <td>Mint Chocolate ChipVanillaCookie DoughPistachi...</td>\n      <td>YesNoYesNoYesNo</td>\n      <td>34.2</td>\n      <td>33.9</td>\n      <td>68.1</td>\n    </tr>\n  </tbody>\n</table>\n</div>"
     },
     "execution_count": 48,
     "metadata": {},
     "output_type": "execute_result"
    }
   ],
   "source": [
    "df.groupby(\"Base Flavor\").sum()"
   ],
   "metadata": {
    "collapsed": false,
    "ExecuteTime": {
     "end_time": "2024-05-07T22:08:36.502198Z",
     "start_time": "2024-05-07T22:08:36.494677Z"
    }
   },
   "id": "716758e3938d4f73",
   "execution_count": 48
  },
  {
   "cell_type": "markdown",
   "source": [
    "### Aggregation function"
   ],
   "metadata": {
    "collapsed": false
   },
   "id": "854a6c103b7e612f"
  },
  {
   "cell_type": "markdown",
   "source": [
    "##### Takes the column name and the operation function in a dictionary:"
   ],
   "metadata": {
    "collapsed": false
   },
   "id": "469cb601fb899aa9"
  },
  {
   "cell_type": "code",
   "outputs": [
    {
     "data": {
      "text/plain": "            Flavor Rating                  \n                     mean   max count   sum\nBase Flavor                                \nChocolate             8.4   8.8     3  25.2\nVanilla               5.7  10.0     6  34.2",
      "text/html": "<div>\n<style scoped>\n    .dataframe tbody tr th:only-of-type {\n        vertical-align: middle;\n    }\n\n    .dataframe tbody tr th {\n        vertical-align: top;\n    }\n\n    .dataframe thead tr th {\n        text-align: left;\n    }\n\n    .dataframe thead tr:last-of-type th {\n        text-align: right;\n    }\n</style>\n<table border=\"1\" class=\"dataframe\">\n  <thead>\n    <tr>\n      <th></th>\n      <th colspan=\"4\" halign=\"left\">Flavor Rating</th>\n    </tr>\n    <tr>\n      <th></th>\n      <th>mean</th>\n      <th>max</th>\n      <th>count</th>\n      <th>sum</th>\n    </tr>\n    <tr>\n      <th>Base Flavor</th>\n      <th></th>\n      <th></th>\n      <th></th>\n      <th></th>\n    </tr>\n  </thead>\n  <tbody>\n    <tr>\n      <th>Chocolate</th>\n      <td>8.4</td>\n      <td>8.8</td>\n      <td>3</td>\n      <td>25.2</td>\n    </tr>\n    <tr>\n      <th>Vanilla</th>\n      <td>5.7</td>\n      <td>10.0</td>\n      <td>6</td>\n      <td>34.2</td>\n    </tr>\n  </tbody>\n</table>\n</div>"
     },
     "execution_count": 49,
     "metadata": {},
     "output_type": "execute_result"
    }
   ],
   "source": [
    "df.groupby(\"Base Flavor\").agg({\"Flavor Rating\":[\"mean\",\"max\",\"count\",\"sum\"]})"
   ],
   "metadata": {
    "collapsed": false,
    "ExecuteTime": {
     "end_time": "2024-05-07T22:08:47.020771Z",
     "start_time": "2024-05-07T22:08:47.012291Z"
    }
   },
   "id": "880f6411dcb66ddf",
   "execution_count": 49
  },
  {
   "cell_type": "markdown",
   "source": [
    "#### For multiple columns:"
   ],
   "metadata": {
    "collapsed": false
   },
   "id": "e0fde4cb2cfee061"
  },
  {
   "cell_type": "code",
   "outputs": [
    {
     "data": {
      "text/plain": "            Flavor Rating                   Texture Rating                 \n                     mean   max count   sum           mean  max count   sum\nBase Flavor                                                                \nChocolate             8.4   8.8     3  25.2       7.233333  7.6     3  21.7\nVanilla               5.7  10.0     6  34.2       5.650000  8.0     6  33.9",
      "text/html": "<div>\n<style scoped>\n    .dataframe tbody tr th:only-of-type {\n        vertical-align: middle;\n    }\n\n    .dataframe tbody tr th {\n        vertical-align: top;\n    }\n\n    .dataframe thead tr th {\n        text-align: left;\n    }\n\n    .dataframe thead tr:last-of-type th {\n        text-align: right;\n    }\n</style>\n<table border=\"1\" class=\"dataframe\">\n  <thead>\n    <tr>\n      <th></th>\n      <th colspan=\"4\" halign=\"left\">Flavor Rating</th>\n      <th colspan=\"4\" halign=\"left\">Texture Rating</th>\n    </tr>\n    <tr>\n      <th></th>\n      <th>mean</th>\n      <th>max</th>\n      <th>count</th>\n      <th>sum</th>\n      <th>mean</th>\n      <th>max</th>\n      <th>count</th>\n      <th>sum</th>\n    </tr>\n    <tr>\n      <th>Base Flavor</th>\n      <th></th>\n      <th></th>\n      <th></th>\n      <th></th>\n      <th></th>\n      <th></th>\n      <th></th>\n      <th></th>\n    </tr>\n  </thead>\n  <tbody>\n    <tr>\n      <th>Chocolate</th>\n      <td>8.4</td>\n      <td>8.8</td>\n      <td>3</td>\n      <td>25.2</td>\n      <td>7.233333</td>\n      <td>7.6</td>\n      <td>3</td>\n      <td>21.7</td>\n    </tr>\n    <tr>\n      <th>Vanilla</th>\n      <td>5.7</td>\n      <td>10.0</td>\n      <td>6</td>\n      <td>34.2</td>\n      <td>5.650000</td>\n      <td>8.0</td>\n      <td>6</td>\n      <td>33.9</td>\n    </tr>\n  </tbody>\n</table>\n</div>"
     },
     "execution_count": 50,
     "metadata": {},
     "output_type": "execute_result"
    }
   ],
   "source": [
    "df.groupby(\"Base Flavor\").agg({\"Flavor Rating\":[\"mean\",\"max\",\"count\",\"sum\"],\"Texture Rating\":[\"mean\",\"max\",\"count\",\"sum\"]})"
   ],
   "metadata": {
    "collapsed": false,
    "ExecuteTime": {
     "end_time": "2024-05-07T22:08:51.491093Z",
     "start_time": "2024-05-07T22:08:51.480887Z"
    }
   },
   "id": "95705479135f1d0c",
   "execution_count": 50
  },
  {
   "cell_type": "markdown",
   "source": [
    "#### Grouping by multiple columns:"
   ],
   "metadata": {
    "collapsed": false
   },
   "id": "93cf2b0f5dcc1156"
  },
  {
   "cell_type": "code",
   "outputs": [
    {
     "data": {
      "text/plain": "                   Flavor Rating  Texture Rating  Total Rating\nBase Flavor Liked                                             \nChocolate   Yes              8.4        7.233333     15.700000\nVanilla     No               3.6        4.466667      8.066667\n            Yes              7.8        6.833333     14.633333",
      "text/html": "<div>\n<style scoped>\n    .dataframe tbody tr th:only-of-type {\n        vertical-align: middle;\n    }\n\n    .dataframe tbody tr th {\n        vertical-align: top;\n    }\n\n    .dataframe thead th {\n        text-align: right;\n    }\n</style>\n<table border=\"1\" class=\"dataframe\">\n  <thead>\n    <tr style=\"text-align: right;\">\n      <th></th>\n      <th></th>\n      <th>Flavor Rating</th>\n      <th>Texture Rating</th>\n      <th>Total Rating</th>\n    </tr>\n    <tr>\n      <th>Base Flavor</th>\n      <th>Liked</th>\n      <th></th>\n      <th></th>\n      <th></th>\n    </tr>\n  </thead>\n  <tbody>\n    <tr>\n      <th>Chocolate</th>\n      <th>Yes</th>\n      <td>8.4</td>\n      <td>7.233333</td>\n      <td>15.700000</td>\n    </tr>\n    <tr>\n      <th rowspan=\"2\" valign=\"top\">Vanilla</th>\n      <th>No</th>\n      <td>3.6</td>\n      <td>4.466667</td>\n      <td>8.066667</td>\n    </tr>\n    <tr>\n      <th>Yes</th>\n      <td>7.8</td>\n      <td>6.833333</td>\n      <td>14.633333</td>\n    </tr>\n  </tbody>\n</table>\n</div>"
     },
     "execution_count": 53,
     "metadata": {},
     "output_type": "execute_result"
    }
   ],
   "source": [
    "df.groupby([\"Base Flavor\",\"Liked\"]).mean([\"Base Flavor\",\"Liked\"])"
   ],
   "metadata": {
    "collapsed": false,
    "ExecuteTime": {
     "end_time": "2024-05-07T22:09:30.369330Z",
     "start_time": "2024-05-07T22:09:30.360886Z"
    }
   },
   "id": "e1a7708ab2573bed",
   "execution_count": 53
  },
  {
   "cell_type": "markdown",
   "source": [
    "##### and using aggregation functions:"
   ],
   "metadata": {
    "collapsed": false
   },
   "id": "b8fed1673b0d27bc"
  },
  {
   "cell_type": "code",
   "outputs": [
    {
     "data": {
      "text/plain": "                  Flavor Rating                  \n                           mean   max count   sum\nBase Flavor Liked                                \nChocolate   Yes             8.4   8.8     3  25.2\nVanilla     No              3.6   4.7     3  10.8\n            Yes             7.8  10.0     3  23.4",
      "text/html": "<div>\n<style scoped>\n    .dataframe tbody tr th:only-of-type {\n        vertical-align: middle;\n    }\n\n    .dataframe tbody tr th {\n        vertical-align: top;\n    }\n\n    .dataframe thead tr th {\n        text-align: left;\n    }\n\n    .dataframe thead tr:last-of-type th {\n        text-align: right;\n    }\n</style>\n<table border=\"1\" class=\"dataframe\">\n  <thead>\n    <tr>\n      <th></th>\n      <th></th>\n      <th colspan=\"4\" halign=\"left\">Flavor Rating</th>\n    </tr>\n    <tr>\n      <th></th>\n      <th></th>\n      <th>mean</th>\n      <th>max</th>\n      <th>count</th>\n      <th>sum</th>\n    </tr>\n    <tr>\n      <th>Base Flavor</th>\n      <th>Liked</th>\n      <th></th>\n      <th></th>\n      <th></th>\n      <th></th>\n    </tr>\n  </thead>\n  <tbody>\n    <tr>\n      <th>Chocolate</th>\n      <th>Yes</th>\n      <td>8.4</td>\n      <td>8.8</td>\n      <td>3</td>\n      <td>25.2</td>\n    </tr>\n    <tr>\n      <th rowspan=\"2\" valign=\"top\">Vanilla</th>\n      <th>No</th>\n      <td>3.6</td>\n      <td>4.7</td>\n      <td>3</td>\n      <td>10.8</td>\n    </tr>\n    <tr>\n      <th>Yes</th>\n      <td>7.8</td>\n      <td>10.0</td>\n      <td>3</td>\n      <td>23.4</td>\n    </tr>\n  </tbody>\n</table>\n</div>"
     },
     "execution_count": 54,
     "metadata": {},
     "output_type": "execute_result"
    }
   ],
   "source": [
    "df.groupby([\"Base Flavor\",\"Liked\"]).agg({\"Flavor Rating\":[\"mean\",\"max\",\"count\",\"sum\"]})"
   ],
   "metadata": {
    "collapsed": false,
    "ExecuteTime": {
     "end_time": "2024-05-07T22:09:39.223049Z",
     "start_time": "2024-05-07T22:09:39.213525Z"
    }
   },
   "id": "41a2429c6c04ac22",
   "execution_count": 54
  },
  {
   "cell_type": "markdown",
   "source": [
    "### Describe():shortcut"
   ],
   "metadata": {
    "collapsed": false
   },
   "id": "2eea945699601c3f"
  },
  {
   "cell_type": "markdown",
   "source": [
    "##### Shows a lot of operations with one simple function called describe."
   ],
   "metadata": {
    "collapsed": false
   },
   "id": "cedf7d386b4681d9"
  },
  {
   "cell_type": "code",
   "outputs": [
    {
     "data": {
      "text/plain": "            Flavor Rating                                             \\\n                    count mean       std  min    25%  50%  75%   max   \nBase Flavor                                                            \nChocolate             3.0  8.4  0.346410  8.2  8.200  8.2  8.5   8.8   \nVanilla               6.0  5.7  2.710719  2.3  4.025  5.6  6.8  10.0   \n\n            Texture Rating            ...             Total Rating         \\\n                     count      mean  ...    75%  max        count   mean   \nBase Flavor                           ...                                   \nChocolate              3.0  7.233333  ...  7.350  7.6          3.0  15.70   \nVanilla                6.0  5.650000  ...  6.375  8.0          6.0  11.35   \n\n                                                         \n                  std   min     25%   50%     75%   max  \nBase Flavor                                              \nChocolate    0.781025  15.2  15.250  15.3  15.950  16.6  \nVanilla      4.263684   5.7   9.025  11.1  13.175  18.0  \n\n[2 rows x 24 columns]",
      "text/html": "<div>\n<style scoped>\n    .dataframe tbody tr th:only-of-type {\n        vertical-align: middle;\n    }\n\n    .dataframe tbody tr th {\n        vertical-align: top;\n    }\n\n    .dataframe thead tr th {\n        text-align: left;\n    }\n\n    .dataframe thead tr:last-of-type th {\n        text-align: right;\n    }\n</style>\n<table border=\"1\" class=\"dataframe\">\n  <thead>\n    <tr>\n      <th></th>\n      <th colspan=\"8\" halign=\"left\">Flavor Rating</th>\n      <th colspan=\"5\" halign=\"left\">Texture Rating</th>\n      <th colspan=\"8\" halign=\"left\">Total Rating</th>\n    </tr>\n    <tr>\n      <th></th>\n      <th>count</th>\n      <th>mean</th>\n      <th>std</th>\n      <th>min</th>\n      <th>25%</th>\n      <th>50%</th>\n      <th>75%</th>\n      <th>max</th>\n      <th>count</th>\n      <th>mean</th>\n      <th>...</th>\n      <th>75%</th>\n      <th>max</th>\n      <th>count</th>\n      <th>mean</th>\n      <th>std</th>\n      <th>min</th>\n      <th>25%</th>\n      <th>50%</th>\n      <th>75%</th>\n      <th>max</th>\n    </tr>\n    <tr>\n      <th>Base Flavor</th>\n      <th></th>\n      <th></th>\n      <th></th>\n      <th></th>\n      <th></th>\n      <th></th>\n      <th></th>\n      <th></th>\n      <th></th>\n      <th></th>\n      <th></th>\n      <th></th>\n      <th></th>\n      <th></th>\n      <th></th>\n      <th></th>\n      <th></th>\n      <th></th>\n      <th></th>\n      <th></th>\n      <th></th>\n    </tr>\n  </thead>\n  <tbody>\n    <tr>\n      <th>Chocolate</th>\n      <td>3.0</td>\n      <td>8.4</td>\n      <td>0.346410</td>\n      <td>8.2</td>\n      <td>8.200</td>\n      <td>8.2</td>\n      <td>8.5</td>\n      <td>8.8</td>\n      <td>3.0</td>\n      <td>7.233333</td>\n      <td>...</td>\n      <td>7.350</td>\n      <td>7.6</td>\n      <td>3.0</td>\n      <td>15.70</td>\n      <td>0.781025</td>\n      <td>15.2</td>\n      <td>15.250</td>\n      <td>15.3</td>\n      <td>15.950</td>\n      <td>16.6</td>\n    </tr>\n    <tr>\n      <th>Vanilla</th>\n      <td>6.0</td>\n      <td>5.7</td>\n      <td>2.710719</td>\n      <td>2.3</td>\n      <td>4.025</td>\n      <td>5.6</td>\n      <td>6.8</td>\n      <td>10.0</td>\n      <td>6.0</td>\n      <td>5.650000</td>\n      <td>...</td>\n      <td>6.375</td>\n      <td>8.0</td>\n      <td>6.0</td>\n      <td>11.35</td>\n      <td>4.263684</td>\n      <td>5.7</td>\n      <td>9.025</td>\n      <td>11.1</td>\n      <td>13.175</td>\n      <td>18.0</td>\n    </tr>\n  </tbody>\n</table>\n<p>2 rows × 24 columns</p>\n</div>"
     },
     "execution_count": 55,
     "metadata": {},
     "output_type": "execute_result"
    }
   ],
   "source": [
    "df.groupby(\"Base Flavor\").describe()"
   ],
   "metadata": {
    "collapsed": false,
    "ExecuteTime": {
     "end_time": "2024-05-07T22:09:42.060990Z",
     "start_time": "2024-05-07T22:09:42.040294Z"
    }
   },
   "id": "11de29c4134107c9",
   "execution_count": 55
  },
  {
   "cell_type": "code",
   "outputs": [],
   "source": [],
   "metadata": {
    "collapsed": false
   },
   "id": "9a596f0cc3c62699"
  }
 ],
 "metadata": {
  "kernelspec": {
   "display_name": "Python 3",
   "language": "python",
   "name": "python3"
  },
  "language_info": {
   "codemirror_mode": {
    "name": "ipython",
    "version": 2
   },
   "file_extension": ".py",
   "mimetype": "text/x-python",
   "name": "python",
   "nbconvert_exporter": "python",
   "pygments_lexer": "ipython2",
   "version": "2.7.6"
  }
 },
 "nbformat": 4,
 "nbformat_minor": 5
}
