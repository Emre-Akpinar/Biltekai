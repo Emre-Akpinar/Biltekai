{
 "cells": [
  {
   "cell_type": "code",
   "execution_count": 1,
   "id": "initial_id",
   "metadata": {
    "collapsed": true,
    "ExecuteTime": {
     "end_time": "2024-05-01T23:28:03.019536Z",
     "start_time": "2024-05-01T23:28:02.693609Z"
    }
   },
   "outputs": [],
   "source": [
    "import pandas as pd"
   ]
  },
  {
   "cell_type": "markdown",
   "source": [
    "#### Read in csv file:"
   ],
   "metadata": {
    "collapsed": false
   },
   "id": "25c64c2f181a47e9"
  },
  {
   "cell_type": "code",
   "outputs": [
    {
     "data": {
      "text/plain": "     Rank CCA3            Country           Capital Continent  \\\n0      36  AFG        Afghanistan             Kabul      Asia   \n1     138  ALB            Albania            Tirana    Europe   \n2      34  DZA            Algeria           Algiers    Africa   \n3     213  ASM     American Samoa         Pago Pago   Oceania   \n4     203  AND            Andorra  Andorra la Vella    Europe   \n..    ...  ...                ...               ...       ...   \n229   226  WLF  Wallis and Futuna          Mata-Utu   Oceania   \n230   172  ESH     Western Sahara          El Aaiún    Africa   \n231    46  YEM              Yemen             Sanaa      Asia   \n232    63  ZMB             Zambia            Lusaka    Africa   \n233    74  ZWE           Zimbabwe            Harare    Africa   \n\n     2022 Population  2020 Population  2015 Population  2010 Population  \\\n0         41128771.0       38972230.0       33753499.0       28189672.0   \n1          2842321.0        2866849.0        2882481.0        2913399.0   \n2         44903225.0       43451666.0       39543154.0       35856344.0   \n3            44273.0          46189.0          51368.0          54849.0   \n4            79824.0          77700.0          71746.0          71519.0   \n..               ...              ...              ...              ...   \n229          11572.0          11655.0          12182.0          13142.0   \n230         575986.0         556048.0         491824.0         413296.0   \n231       33696614.0       32284046.0       28516545.0       24743946.0   \n232       20017675.0       18927715.0              NaN       13792086.0   \n233       16320537.0       15669666.0       14154937.0       12839771.0   \n\n     2000 Population  1990 Population  1980 Population  1970 Population  \\\n0         19542982.0       10694796.0       12486631.0       10752971.0   \n1          3182021.0        3295066.0        2941651.0        2324731.0   \n2         30774621.0       25518074.0       18739378.0       13795915.0   \n3            58230.0          47818.0          32886.0          27075.0   \n4            66097.0          53569.0          35611.0          19860.0   \n..               ...              ...              ...              ...   \n229          14723.0          13454.0          11315.0           9377.0   \n230         270375.0         178529.0         116775.0          76371.0   \n231       18628700.0       13375121.0        9204938.0        6843607.0   \n232        9891136.0        7686401.0        5720438.0        4281671.0   \n233       11834676.0       10113893.0        7049926.0        5202918.0   \n\n     Area (km²)  Density (per km²)  Growth Rate  World Population Percentage  \n0      652230.0            63.0587       1.0257                         0.52  \n1       28748.0            98.8702       0.9957                         0.04  \n2     2381741.0            18.8531       1.0164                         0.56  \n3         199.0           222.4774       0.9831                         0.00  \n4         468.0           170.5641       1.0100                         0.00  \n..          ...                ...          ...                          ...  \n229       142.0            81.4930       0.9953                         0.00  \n230    266000.0             2.1654       1.0184                         0.01  \n231    527968.0            63.8232       1.0217                         0.42  \n232    752612.0            26.5976       1.0280                         0.25  \n233    390757.0            41.7665       1.0204                         0.20  \n\n[234 rows x 17 columns]",
      "text/html": "<div>\n<style scoped>\n    .dataframe tbody tr th:only-of-type {\n        vertical-align: middle;\n    }\n\n    .dataframe tbody tr th {\n        vertical-align: top;\n    }\n\n    .dataframe thead th {\n        text-align: right;\n    }\n</style>\n<table border=\"1\" class=\"dataframe\">\n  <thead>\n    <tr style=\"text-align: right;\">\n      <th></th>\n      <th>Rank</th>\n      <th>CCA3</th>\n      <th>Country</th>\n      <th>Capital</th>\n      <th>Continent</th>\n      <th>2022 Population</th>\n      <th>2020 Population</th>\n      <th>2015 Population</th>\n      <th>2010 Population</th>\n      <th>2000 Population</th>\n      <th>1990 Population</th>\n      <th>1980 Population</th>\n      <th>1970 Population</th>\n      <th>Area (km²)</th>\n      <th>Density (per km²)</th>\n      <th>Growth Rate</th>\n      <th>World Population Percentage</th>\n    </tr>\n  </thead>\n  <tbody>\n    <tr>\n      <th>0</th>\n      <td>36</td>\n      <td>AFG</td>\n      <td>Afghanistan</td>\n      <td>Kabul</td>\n      <td>Asia</td>\n      <td>41128771.0</td>\n      <td>38972230.0</td>\n      <td>33753499.0</td>\n      <td>28189672.0</td>\n      <td>19542982.0</td>\n      <td>10694796.0</td>\n      <td>12486631.0</td>\n      <td>10752971.0</td>\n      <td>652230.0</td>\n      <td>63.0587</td>\n      <td>1.0257</td>\n      <td>0.52</td>\n    </tr>\n    <tr>\n      <th>1</th>\n      <td>138</td>\n      <td>ALB</td>\n      <td>Albania</td>\n      <td>Tirana</td>\n      <td>Europe</td>\n      <td>2842321.0</td>\n      <td>2866849.0</td>\n      <td>2882481.0</td>\n      <td>2913399.0</td>\n      <td>3182021.0</td>\n      <td>3295066.0</td>\n      <td>2941651.0</td>\n      <td>2324731.0</td>\n      <td>28748.0</td>\n      <td>98.8702</td>\n      <td>0.9957</td>\n      <td>0.04</td>\n    </tr>\n    <tr>\n      <th>2</th>\n      <td>34</td>\n      <td>DZA</td>\n      <td>Algeria</td>\n      <td>Algiers</td>\n      <td>Africa</td>\n      <td>44903225.0</td>\n      <td>43451666.0</td>\n      <td>39543154.0</td>\n      <td>35856344.0</td>\n      <td>30774621.0</td>\n      <td>25518074.0</td>\n      <td>18739378.0</td>\n      <td>13795915.0</td>\n      <td>2381741.0</td>\n      <td>18.8531</td>\n      <td>1.0164</td>\n      <td>0.56</td>\n    </tr>\n    <tr>\n      <th>3</th>\n      <td>213</td>\n      <td>ASM</td>\n      <td>American Samoa</td>\n      <td>Pago Pago</td>\n      <td>Oceania</td>\n      <td>44273.0</td>\n      <td>46189.0</td>\n      <td>51368.0</td>\n      <td>54849.0</td>\n      <td>58230.0</td>\n      <td>47818.0</td>\n      <td>32886.0</td>\n      <td>27075.0</td>\n      <td>199.0</td>\n      <td>222.4774</td>\n      <td>0.9831</td>\n      <td>0.00</td>\n    </tr>\n    <tr>\n      <th>4</th>\n      <td>203</td>\n      <td>AND</td>\n      <td>Andorra</td>\n      <td>Andorra la Vella</td>\n      <td>Europe</td>\n      <td>79824.0</td>\n      <td>77700.0</td>\n      <td>71746.0</td>\n      <td>71519.0</td>\n      <td>66097.0</td>\n      <td>53569.0</td>\n      <td>35611.0</td>\n      <td>19860.0</td>\n      <td>468.0</td>\n      <td>170.5641</td>\n      <td>1.0100</td>\n      <td>0.00</td>\n    </tr>\n    <tr>\n      <th>...</th>\n      <td>...</td>\n      <td>...</td>\n      <td>...</td>\n      <td>...</td>\n      <td>...</td>\n      <td>...</td>\n      <td>...</td>\n      <td>...</td>\n      <td>...</td>\n      <td>...</td>\n      <td>...</td>\n      <td>...</td>\n      <td>...</td>\n      <td>...</td>\n      <td>...</td>\n      <td>...</td>\n      <td>...</td>\n    </tr>\n    <tr>\n      <th>229</th>\n      <td>226</td>\n      <td>WLF</td>\n      <td>Wallis and Futuna</td>\n      <td>Mata-Utu</td>\n      <td>Oceania</td>\n      <td>11572.0</td>\n      <td>11655.0</td>\n      <td>12182.0</td>\n      <td>13142.0</td>\n      <td>14723.0</td>\n      <td>13454.0</td>\n      <td>11315.0</td>\n      <td>9377.0</td>\n      <td>142.0</td>\n      <td>81.4930</td>\n      <td>0.9953</td>\n      <td>0.00</td>\n    </tr>\n    <tr>\n      <th>230</th>\n      <td>172</td>\n      <td>ESH</td>\n      <td>Western Sahara</td>\n      <td>El Aaiún</td>\n      <td>Africa</td>\n      <td>575986.0</td>\n      <td>556048.0</td>\n      <td>491824.0</td>\n      <td>413296.0</td>\n      <td>270375.0</td>\n      <td>178529.0</td>\n      <td>116775.0</td>\n      <td>76371.0</td>\n      <td>266000.0</td>\n      <td>2.1654</td>\n      <td>1.0184</td>\n      <td>0.01</td>\n    </tr>\n    <tr>\n      <th>231</th>\n      <td>46</td>\n      <td>YEM</td>\n      <td>Yemen</td>\n      <td>Sanaa</td>\n      <td>Asia</td>\n      <td>33696614.0</td>\n      <td>32284046.0</td>\n      <td>28516545.0</td>\n      <td>24743946.0</td>\n      <td>18628700.0</td>\n      <td>13375121.0</td>\n      <td>9204938.0</td>\n      <td>6843607.0</td>\n      <td>527968.0</td>\n      <td>63.8232</td>\n      <td>1.0217</td>\n      <td>0.42</td>\n    </tr>\n    <tr>\n      <th>232</th>\n      <td>63</td>\n      <td>ZMB</td>\n      <td>Zambia</td>\n      <td>Lusaka</td>\n      <td>Africa</td>\n      <td>20017675.0</td>\n      <td>18927715.0</td>\n      <td>NaN</td>\n      <td>13792086.0</td>\n      <td>9891136.0</td>\n      <td>7686401.0</td>\n      <td>5720438.0</td>\n      <td>4281671.0</td>\n      <td>752612.0</td>\n      <td>26.5976</td>\n      <td>1.0280</td>\n      <td>0.25</td>\n    </tr>\n    <tr>\n      <th>233</th>\n      <td>74</td>\n      <td>ZWE</td>\n      <td>Zimbabwe</td>\n      <td>Harare</td>\n      <td>Africa</td>\n      <td>16320537.0</td>\n      <td>15669666.0</td>\n      <td>14154937.0</td>\n      <td>12839771.0</td>\n      <td>11834676.0</td>\n      <td>10113893.0</td>\n      <td>7049926.0</td>\n      <td>5202918.0</td>\n      <td>390757.0</td>\n      <td>41.7665</td>\n      <td>1.0204</td>\n      <td>0.20</td>\n    </tr>\n  </tbody>\n</table>\n<p>234 rows × 17 columns</p>\n</div>"
     },
     "execution_count": 2,
     "metadata": {},
     "output_type": "execute_result"
    }
   ],
   "source": [
    "df = pd.read_csv(r\"C:\\Users\\akpin\\PycharmProjects\\Pandas\\world_population.csv\")\n",
    "df"
   ],
   "metadata": {
    "collapsed": false,
    "ExecuteTime": {
     "end_time": "2024-05-01T23:28:05.860311Z",
     "start_time": "2024-05-01T23:28:05.838417Z"
    }
   },
   "id": "df1a5840b9acd058",
   "execution_count": 2
  },
  {
   "cell_type": "markdown",
   "source": [
    "## Filtering"
   ],
   "metadata": {
    "collapsed": false
   },
   "id": "ccc6784be72257bd"
  },
  {
   "cell_type": "markdown",
   "source": [
    "### Filter by the column 'Rank': if the rank smaller or equal to 18 inner part returns True and then displays those rows: "
   ],
   "metadata": {
    "collapsed": false
   },
   "id": "10e2213b657121ab"
  },
  {
   "cell_type": "code",
   "outputs": [
    {
     "data": {
      "text/plain": "     Rank CCA3        Country           Capital      Continent  \\\n16      8  BGD     Bangladesh             Dhaka           Asia   \n27      7  BRA         Brazil          Brasilia  South America   \n41      1  CHN          China           Beijing           Asia   \n55     15  COD       DR Congo          Kinshasa         Africa   \n57     14  EGY          Egypt             Cairo         Africa   \n63     12  ETH       Ethiopia       Addis Ababa         Africa   \n92      2  IND          India         New Delhi           Asia   \n93      4  IDN      Indonesia           Jakarta           Asia   \n94     17  IRN           Iran            Tehran           Asia   \n102    11  JPN          Japan             Tokyo           Asia   \n131    10  MEX         Mexico       Mexico City  North America   \n149     6  NGA        Nigeria             Abuja         Africa   \n156     5  PAK       Pakistan         Islamabad           Asia   \n163    13  PHL    Philippines            Manila           Asia   \n171     9  RUS         Russia            Moscow         Europe   \n213    18  TUR         Turkey            Ankara           Asia   \n221     3  USA  United States  Washington, D.C.  North America   \n228    16  VNM        Vietnam             Hanoi           Asia   \n\n     2022 Population  2020 Population  2015 Population  2010 Population  \\\n16      1.711864e+08     1.674210e+08     1.578300e+08     1.483911e+08   \n27      2.153135e+08     2.131963e+08     2.051882e+08     1.963535e+08   \n41      1.425887e+09     1.424930e+09     1.393715e+09     1.348191e+09   \n55      9.901021e+07     9.285316e+07     7.865690e+07     6.639126e+07   \n57      1.109901e+08     1.074651e+08     9.772380e+07     8.725241e+07   \n63      1.233799e+08     1.171909e+08     1.024719e+08     8.923779e+07   \n92      1.417173e+09     1.396387e+09     1.322867e+09     1.240614e+09   \n93      2.755013e+08     2.718580e+08     2.590920e+08     2.440162e+08   \n94      8.855057e+07     8.729019e+07     8.179084e+07     7.537386e+07   \n102     1.239517e+08     1.252448e+08     1.272509e+08     1.281054e+08   \n131     1.275041e+08     1.259983e+08     1.201499e+08     1.125324e+08   \n149     2.185412e+08     2.083274e+08     1.839958e+08     1.609529e+08   \n156     2.358249e+08     2.271967e+08     2.109693e+08     1.944545e+08   \n163     1.155590e+08     1.121910e+08     1.030314e+08     9.463670e+07   \n171     1.447133e+08     1.456173e+08     1.446684e+08     1.432426e+08   \n213     8.534124e+07     8.413543e+07     7.964618e+07     7.319534e+07   \n221     3.382899e+08     3.359420e+08     3.246078e+08     3.111828e+08   \n228     9.818686e+07     9.664868e+07     9.219140e+07     8.741101e+07   \n\n     2000 Population  1990 Population  1980 Population  1970 Population  \\\n16      1.291933e+08     1.071477e+08       83929765.0       67541860.0   \n27      1.758737e+08     1.507064e+08      122288383.0       96369875.0   \n41      1.264099e+09     1.153704e+09      982372466.0      822534450.0   \n55      4.861632e+07     3.598754e+07       26708686.0       20151733.0   \n57      7.137137e+07     5.721463e+07       43748556.0       34781986.0   \n63      6.703187e+07     4.787807e+07       34945469.0       28308246.0   \n92      1.059634e+09              NaN              NaN      557501301.0   \n93      2.140724e+08     1.821599e+08      148177096.0      115228394.0   \n94      6.554438e+07     5.579363e+07       38520664.0       28449705.0   \n102     1.268039e+08     1.236863e+08      117624196.0      105416839.0   \n131     9.787344e+07     8.172043e+07       67705186.0       50289306.0   \n149     1.228520e+08     9.521426e+07       72951439.0       55569264.0   \n156     1.543699e+08     1.154141e+08       80624057.0       59290872.0   \n163     7.795822e+07     6.155890e+07       48419546.0       37435586.0   \n171     1.468448e+08     1.480057e+08      138257420.0      130093010.0   \n213     6.411355e+07     5.432414e+07       44089069.0       35540990.0   \n221     2.823986e+08     2.480837e+08      223140018.0      200328340.0   \n228     7.900114e+07     6.691261e+07       52968270.0       41928849.0   \n\n     Area (km²)  Density (per km²)  Growth Rate  World Population Percentage  \n16     147570.0          1160.0350       1.0108                         2.15  \n27    8515767.0            25.2841       1.0046                         2.70  \n41    9706961.0           146.8933       1.0000                        17.88  \n55    2344858.0            42.2244       1.0325                         1.24  \n57    1002450.0           110.7188       1.0158                         1.39  \n63    1104300.0           111.7268       1.0257                         1.55  \n92    3287590.0           431.0675       1.0068                        17.77  \n93    1904569.0           144.6529       1.0064                         3.45  \n94    1648195.0            53.7258       1.0071                         1.11  \n102    377930.0           327.9753       0.9947                         1.55  \n131   1964375.0            64.9082       1.0063                         1.60  \n149    923768.0           236.5759       1.0241                         2.74  \n156    881912.0           267.4018       1.0191                         2.96  \n163    342353.0           337.5434       1.0147                         1.45  \n171  17098242.0             8.4636       0.9973                         1.81  \n213    783562.0           108.9145       1.0067                         1.07  \n221   9372610.0            36.0935       1.0038                         4.24  \n228    331212.0           296.4472       1.0074                         1.23  ",
      "text/html": "<div>\n<style scoped>\n    .dataframe tbody tr th:only-of-type {\n        vertical-align: middle;\n    }\n\n    .dataframe tbody tr th {\n        vertical-align: top;\n    }\n\n    .dataframe thead th {\n        text-align: right;\n    }\n</style>\n<table border=\"1\" class=\"dataframe\">\n  <thead>\n    <tr style=\"text-align: right;\">\n      <th></th>\n      <th>Rank</th>\n      <th>CCA3</th>\n      <th>Country</th>\n      <th>Capital</th>\n      <th>Continent</th>\n      <th>2022 Population</th>\n      <th>2020 Population</th>\n      <th>2015 Population</th>\n      <th>2010 Population</th>\n      <th>2000 Population</th>\n      <th>1990 Population</th>\n      <th>1980 Population</th>\n      <th>1970 Population</th>\n      <th>Area (km²)</th>\n      <th>Density (per km²)</th>\n      <th>Growth Rate</th>\n      <th>World Population Percentage</th>\n    </tr>\n  </thead>\n  <tbody>\n    <tr>\n      <th>16</th>\n      <td>8</td>\n      <td>BGD</td>\n      <td>Bangladesh</td>\n      <td>Dhaka</td>\n      <td>Asia</td>\n      <td>1.711864e+08</td>\n      <td>1.674210e+08</td>\n      <td>1.578300e+08</td>\n      <td>1.483911e+08</td>\n      <td>1.291933e+08</td>\n      <td>1.071477e+08</td>\n      <td>83929765.0</td>\n      <td>67541860.0</td>\n      <td>147570.0</td>\n      <td>1160.0350</td>\n      <td>1.0108</td>\n      <td>2.15</td>\n    </tr>\n    <tr>\n      <th>27</th>\n      <td>7</td>\n      <td>BRA</td>\n      <td>Brazil</td>\n      <td>Brasilia</td>\n      <td>South America</td>\n      <td>2.153135e+08</td>\n      <td>2.131963e+08</td>\n      <td>2.051882e+08</td>\n      <td>1.963535e+08</td>\n      <td>1.758737e+08</td>\n      <td>1.507064e+08</td>\n      <td>122288383.0</td>\n      <td>96369875.0</td>\n      <td>8515767.0</td>\n      <td>25.2841</td>\n      <td>1.0046</td>\n      <td>2.70</td>\n    </tr>\n    <tr>\n      <th>41</th>\n      <td>1</td>\n      <td>CHN</td>\n      <td>China</td>\n      <td>Beijing</td>\n      <td>Asia</td>\n      <td>1.425887e+09</td>\n      <td>1.424930e+09</td>\n      <td>1.393715e+09</td>\n      <td>1.348191e+09</td>\n      <td>1.264099e+09</td>\n      <td>1.153704e+09</td>\n      <td>982372466.0</td>\n      <td>822534450.0</td>\n      <td>9706961.0</td>\n      <td>146.8933</td>\n      <td>1.0000</td>\n      <td>17.88</td>\n    </tr>\n    <tr>\n      <th>55</th>\n      <td>15</td>\n      <td>COD</td>\n      <td>DR Congo</td>\n      <td>Kinshasa</td>\n      <td>Africa</td>\n      <td>9.901021e+07</td>\n      <td>9.285316e+07</td>\n      <td>7.865690e+07</td>\n      <td>6.639126e+07</td>\n      <td>4.861632e+07</td>\n      <td>3.598754e+07</td>\n      <td>26708686.0</td>\n      <td>20151733.0</td>\n      <td>2344858.0</td>\n      <td>42.2244</td>\n      <td>1.0325</td>\n      <td>1.24</td>\n    </tr>\n    <tr>\n      <th>57</th>\n      <td>14</td>\n      <td>EGY</td>\n      <td>Egypt</td>\n      <td>Cairo</td>\n      <td>Africa</td>\n      <td>1.109901e+08</td>\n      <td>1.074651e+08</td>\n      <td>9.772380e+07</td>\n      <td>8.725241e+07</td>\n      <td>7.137137e+07</td>\n      <td>5.721463e+07</td>\n      <td>43748556.0</td>\n      <td>34781986.0</td>\n      <td>1002450.0</td>\n      <td>110.7188</td>\n      <td>1.0158</td>\n      <td>1.39</td>\n    </tr>\n    <tr>\n      <th>63</th>\n      <td>12</td>\n      <td>ETH</td>\n      <td>Ethiopia</td>\n      <td>Addis Ababa</td>\n      <td>Africa</td>\n      <td>1.233799e+08</td>\n      <td>1.171909e+08</td>\n      <td>1.024719e+08</td>\n      <td>8.923779e+07</td>\n      <td>6.703187e+07</td>\n      <td>4.787807e+07</td>\n      <td>34945469.0</td>\n      <td>28308246.0</td>\n      <td>1104300.0</td>\n      <td>111.7268</td>\n      <td>1.0257</td>\n      <td>1.55</td>\n    </tr>\n    <tr>\n      <th>92</th>\n      <td>2</td>\n      <td>IND</td>\n      <td>India</td>\n      <td>New Delhi</td>\n      <td>Asia</td>\n      <td>1.417173e+09</td>\n      <td>1.396387e+09</td>\n      <td>1.322867e+09</td>\n      <td>1.240614e+09</td>\n      <td>1.059634e+09</td>\n      <td>NaN</td>\n      <td>NaN</td>\n      <td>557501301.0</td>\n      <td>3287590.0</td>\n      <td>431.0675</td>\n      <td>1.0068</td>\n      <td>17.77</td>\n    </tr>\n    <tr>\n      <th>93</th>\n      <td>4</td>\n      <td>IDN</td>\n      <td>Indonesia</td>\n      <td>Jakarta</td>\n      <td>Asia</td>\n      <td>2.755013e+08</td>\n      <td>2.718580e+08</td>\n      <td>2.590920e+08</td>\n      <td>2.440162e+08</td>\n      <td>2.140724e+08</td>\n      <td>1.821599e+08</td>\n      <td>148177096.0</td>\n      <td>115228394.0</td>\n      <td>1904569.0</td>\n      <td>144.6529</td>\n      <td>1.0064</td>\n      <td>3.45</td>\n    </tr>\n    <tr>\n      <th>94</th>\n      <td>17</td>\n      <td>IRN</td>\n      <td>Iran</td>\n      <td>Tehran</td>\n      <td>Asia</td>\n      <td>8.855057e+07</td>\n      <td>8.729019e+07</td>\n      <td>8.179084e+07</td>\n      <td>7.537386e+07</td>\n      <td>6.554438e+07</td>\n      <td>5.579363e+07</td>\n      <td>38520664.0</td>\n      <td>28449705.0</td>\n      <td>1648195.0</td>\n      <td>53.7258</td>\n      <td>1.0071</td>\n      <td>1.11</td>\n    </tr>\n    <tr>\n      <th>102</th>\n      <td>11</td>\n      <td>JPN</td>\n      <td>Japan</td>\n      <td>Tokyo</td>\n      <td>Asia</td>\n      <td>1.239517e+08</td>\n      <td>1.252448e+08</td>\n      <td>1.272509e+08</td>\n      <td>1.281054e+08</td>\n      <td>1.268039e+08</td>\n      <td>1.236863e+08</td>\n      <td>117624196.0</td>\n      <td>105416839.0</td>\n      <td>377930.0</td>\n      <td>327.9753</td>\n      <td>0.9947</td>\n      <td>1.55</td>\n    </tr>\n    <tr>\n      <th>131</th>\n      <td>10</td>\n      <td>MEX</td>\n      <td>Mexico</td>\n      <td>Mexico City</td>\n      <td>North America</td>\n      <td>1.275041e+08</td>\n      <td>1.259983e+08</td>\n      <td>1.201499e+08</td>\n      <td>1.125324e+08</td>\n      <td>9.787344e+07</td>\n      <td>8.172043e+07</td>\n      <td>67705186.0</td>\n      <td>50289306.0</td>\n      <td>1964375.0</td>\n      <td>64.9082</td>\n      <td>1.0063</td>\n      <td>1.60</td>\n    </tr>\n    <tr>\n      <th>149</th>\n      <td>6</td>\n      <td>NGA</td>\n      <td>Nigeria</td>\n      <td>Abuja</td>\n      <td>Africa</td>\n      <td>2.185412e+08</td>\n      <td>2.083274e+08</td>\n      <td>1.839958e+08</td>\n      <td>1.609529e+08</td>\n      <td>1.228520e+08</td>\n      <td>9.521426e+07</td>\n      <td>72951439.0</td>\n      <td>55569264.0</td>\n      <td>923768.0</td>\n      <td>236.5759</td>\n      <td>1.0241</td>\n      <td>2.74</td>\n    </tr>\n    <tr>\n      <th>156</th>\n      <td>5</td>\n      <td>PAK</td>\n      <td>Pakistan</td>\n      <td>Islamabad</td>\n      <td>Asia</td>\n      <td>2.358249e+08</td>\n      <td>2.271967e+08</td>\n      <td>2.109693e+08</td>\n      <td>1.944545e+08</td>\n      <td>1.543699e+08</td>\n      <td>1.154141e+08</td>\n      <td>80624057.0</td>\n      <td>59290872.0</td>\n      <td>881912.0</td>\n      <td>267.4018</td>\n      <td>1.0191</td>\n      <td>2.96</td>\n    </tr>\n    <tr>\n      <th>163</th>\n      <td>13</td>\n      <td>PHL</td>\n      <td>Philippines</td>\n      <td>Manila</td>\n      <td>Asia</td>\n      <td>1.155590e+08</td>\n      <td>1.121910e+08</td>\n      <td>1.030314e+08</td>\n      <td>9.463670e+07</td>\n      <td>7.795822e+07</td>\n      <td>6.155890e+07</td>\n      <td>48419546.0</td>\n      <td>37435586.0</td>\n      <td>342353.0</td>\n      <td>337.5434</td>\n      <td>1.0147</td>\n      <td>1.45</td>\n    </tr>\n    <tr>\n      <th>171</th>\n      <td>9</td>\n      <td>RUS</td>\n      <td>Russia</td>\n      <td>Moscow</td>\n      <td>Europe</td>\n      <td>1.447133e+08</td>\n      <td>1.456173e+08</td>\n      <td>1.446684e+08</td>\n      <td>1.432426e+08</td>\n      <td>1.468448e+08</td>\n      <td>1.480057e+08</td>\n      <td>138257420.0</td>\n      <td>130093010.0</td>\n      <td>17098242.0</td>\n      <td>8.4636</td>\n      <td>0.9973</td>\n      <td>1.81</td>\n    </tr>\n    <tr>\n      <th>213</th>\n      <td>18</td>\n      <td>TUR</td>\n      <td>Turkey</td>\n      <td>Ankara</td>\n      <td>Asia</td>\n      <td>8.534124e+07</td>\n      <td>8.413543e+07</td>\n      <td>7.964618e+07</td>\n      <td>7.319534e+07</td>\n      <td>6.411355e+07</td>\n      <td>5.432414e+07</td>\n      <td>44089069.0</td>\n      <td>35540990.0</td>\n      <td>783562.0</td>\n      <td>108.9145</td>\n      <td>1.0067</td>\n      <td>1.07</td>\n    </tr>\n    <tr>\n      <th>221</th>\n      <td>3</td>\n      <td>USA</td>\n      <td>United States</td>\n      <td>Washington, D.C.</td>\n      <td>North America</td>\n      <td>3.382899e+08</td>\n      <td>3.359420e+08</td>\n      <td>3.246078e+08</td>\n      <td>3.111828e+08</td>\n      <td>2.823986e+08</td>\n      <td>2.480837e+08</td>\n      <td>223140018.0</td>\n      <td>200328340.0</td>\n      <td>9372610.0</td>\n      <td>36.0935</td>\n      <td>1.0038</td>\n      <td>4.24</td>\n    </tr>\n    <tr>\n      <th>228</th>\n      <td>16</td>\n      <td>VNM</td>\n      <td>Vietnam</td>\n      <td>Hanoi</td>\n      <td>Asia</td>\n      <td>9.818686e+07</td>\n      <td>9.664868e+07</td>\n      <td>9.219140e+07</td>\n      <td>8.741101e+07</td>\n      <td>7.900114e+07</td>\n      <td>6.691261e+07</td>\n      <td>52968270.0</td>\n      <td>41928849.0</td>\n      <td>331212.0</td>\n      <td>296.4472</td>\n      <td>1.0074</td>\n      <td>1.23</td>\n    </tr>\n  </tbody>\n</table>\n</div>"
     },
     "execution_count": 3,
     "metadata": {},
     "output_type": "execute_result"
    }
   ],
   "source": [
    "df[df['Rank']<=18]"
   ],
   "metadata": {
    "collapsed": false,
    "ExecuteTime": {
     "end_time": "2024-05-01T23:28:11.542174Z",
     "start_time": "2024-05-01T23:28:11.521656Z"
    }
   },
   "id": "29f37c68635c214e",
   "execution_count": 3
  },
  {
   "cell_type": "markdown",
   "source": [
    "### 'isin' method return True if there is specified strings ,in the list, in the specified column"
   ],
   "metadata": {
    "collapsed": false
   },
   "id": "8e990455e56cd76d"
  },
  {
   "cell_type": "code",
   "outputs": [
    {
     "data": {
      "text/plain": "     Rank CCA3  Country Capital Continent  2022 Population  2020 Population  \\\n68     23  FRA   France   Paris    Europe       64626628.0       64480053.0   \n74     19  DEU  Germany  Berlin    Europe       83369843.0       83328988.0   \n213    18  TUR   Turkey  Ankara      Asia       85341241.0       84135428.0   \n\n     2015 Population  2010 Population  2000 Population  1990 Population  \\\n68        63809769.0       62444567.0       58665453.0       56412897.0   \n74        82073226.0       81325090.0       81551677.0       79370196.0   \n213       79646178.0       73195345.0       64113547.0       54324142.0   \n\n     1980 Population  1970 Population  Area (km²)  Density (per km²)  \\\n68        53713830.0       50523586.0    551695.0           117.1419   \n74        77786703.0       78294583.0    357114.0           233.4544   \n213       44089069.0       35540990.0    783562.0           108.9145   \n\n     Growth Rate  World Population Percentage  \n68        1.0015                         0.81  \n74        0.9995                         1.05  \n213       1.0067                         1.07  ",
      "text/html": "<div>\n<style scoped>\n    .dataframe tbody tr th:only-of-type {\n        vertical-align: middle;\n    }\n\n    .dataframe tbody tr th {\n        vertical-align: top;\n    }\n\n    .dataframe thead th {\n        text-align: right;\n    }\n</style>\n<table border=\"1\" class=\"dataframe\">\n  <thead>\n    <tr style=\"text-align: right;\">\n      <th></th>\n      <th>Rank</th>\n      <th>CCA3</th>\n      <th>Country</th>\n      <th>Capital</th>\n      <th>Continent</th>\n      <th>2022 Population</th>\n      <th>2020 Population</th>\n      <th>2015 Population</th>\n      <th>2010 Population</th>\n      <th>2000 Population</th>\n      <th>1990 Population</th>\n      <th>1980 Population</th>\n      <th>1970 Population</th>\n      <th>Area (km²)</th>\n      <th>Density (per km²)</th>\n      <th>Growth Rate</th>\n      <th>World Population Percentage</th>\n    </tr>\n  </thead>\n  <tbody>\n    <tr>\n      <th>68</th>\n      <td>23</td>\n      <td>FRA</td>\n      <td>France</td>\n      <td>Paris</td>\n      <td>Europe</td>\n      <td>64626628.0</td>\n      <td>64480053.0</td>\n      <td>63809769.0</td>\n      <td>62444567.0</td>\n      <td>58665453.0</td>\n      <td>56412897.0</td>\n      <td>53713830.0</td>\n      <td>50523586.0</td>\n      <td>551695.0</td>\n      <td>117.1419</td>\n      <td>1.0015</td>\n      <td>0.81</td>\n    </tr>\n    <tr>\n      <th>74</th>\n      <td>19</td>\n      <td>DEU</td>\n      <td>Germany</td>\n      <td>Berlin</td>\n      <td>Europe</td>\n      <td>83369843.0</td>\n      <td>83328988.0</td>\n      <td>82073226.0</td>\n      <td>81325090.0</td>\n      <td>81551677.0</td>\n      <td>79370196.0</td>\n      <td>77786703.0</td>\n      <td>78294583.0</td>\n      <td>357114.0</td>\n      <td>233.4544</td>\n      <td>0.9995</td>\n      <td>1.05</td>\n    </tr>\n    <tr>\n      <th>213</th>\n      <td>18</td>\n      <td>TUR</td>\n      <td>Turkey</td>\n      <td>Ankara</td>\n      <td>Asia</td>\n      <td>85341241.0</td>\n      <td>84135428.0</td>\n      <td>79646178.0</td>\n      <td>73195345.0</td>\n      <td>64113547.0</td>\n      <td>54324142.0</td>\n      <td>44089069.0</td>\n      <td>35540990.0</td>\n      <td>783562.0</td>\n      <td>108.9145</td>\n      <td>1.0067</td>\n      <td>1.07</td>\n    </tr>\n  </tbody>\n</table>\n</div>"
     },
     "execution_count": 4,
     "metadata": {},
     "output_type": "execute_result"
    }
   ],
   "source": [
    "specific_countries = [\"Turkey\",\"France\",\"Germany\"]\n",
    "df[df[\"Country\"].isin(specific_countries)]"
   ],
   "metadata": {
    "collapsed": false,
    "ExecuteTime": {
     "end_time": "2024-05-01T23:28:41.393029Z",
     "start_time": "2024-05-01T23:28:41.364947Z"
    }
   },
   "id": "8559fa65ef010fae",
   "execution_count": 4
  },
  {
   "cell_type": "markdown",
   "source": [
    "### 'contains' method is similar to isin. We specify the column and the type it suppose to search in and for,in below case it's in country column and string."
   ],
   "metadata": {
    "collapsed": false
   },
   "id": "ac4d964bdf74850"
  },
  {
   "cell_type": "code",
   "outputs": [
    {
     "data": {
      "text/plain": "     Rank CCA3                       Country           Capital      Continent  \\\n219    97  ARE          United Arab Emirates         Abu Dhabi           Asia   \n220    21  GBR                United Kingdom            London         Europe   \n221     3  USA                 United States  Washington, D.C.  North America   \n222   200  VIR  United States Virgin Islands  Charlotte Amalie  North America   \n\n     2022 Population  2020 Population  2015 Population  2010 Population  \\\n219        9441129.0        9287289.0        8916899.0        8481771.0   \n220       67508936.0       67059474.0       65224364.0       62760039.0   \n221      338289857.0      335942003.0      324607776.0      311182845.0   \n222          99465.0         100442.0         102803.0         106142.0   \n\n     2000 Population  1990 Population  1980 Population  1970 Population  \\\n219        3275333.0        1900151.0        1014048.0         298084.0   \n220       58850043.0       57210442.0       56326328.0       55650166.0   \n221      282398554.0      248083732.0      223140018.0      200328340.0   \n222         108185.0         100685.0          96640.0          63446.0   \n\n     Area (km²)  Density (per km²)  Growth Rate  World Population Percentage  \n219     83600.0           112.9322       1.0081                         0.12  \n220    242900.0           277.9289       1.0034                         0.85  \n221   9372610.0            36.0935       1.0038                         4.24  \n222       347.0           286.6427       0.9937                         0.00  ",
      "text/html": "<div>\n<style scoped>\n    .dataframe tbody tr th:only-of-type {\n        vertical-align: middle;\n    }\n\n    .dataframe tbody tr th {\n        vertical-align: top;\n    }\n\n    .dataframe thead th {\n        text-align: right;\n    }\n</style>\n<table border=\"1\" class=\"dataframe\">\n  <thead>\n    <tr style=\"text-align: right;\">\n      <th></th>\n      <th>Rank</th>\n      <th>CCA3</th>\n      <th>Country</th>\n      <th>Capital</th>\n      <th>Continent</th>\n      <th>2022 Population</th>\n      <th>2020 Population</th>\n      <th>2015 Population</th>\n      <th>2010 Population</th>\n      <th>2000 Population</th>\n      <th>1990 Population</th>\n      <th>1980 Population</th>\n      <th>1970 Population</th>\n      <th>Area (km²)</th>\n      <th>Density (per km²)</th>\n      <th>Growth Rate</th>\n      <th>World Population Percentage</th>\n    </tr>\n  </thead>\n  <tbody>\n    <tr>\n      <th>219</th>\n      <td>97</td>\n      <td>ARE</td>\n      <td>United Arab Emirates</td>\n      <td>Abu Dhabi</td>\n      <td>Asia</td>\n      <td>9441129.0</td>\n      <td>9287289.0</td>\n      <td>8916899.0</td>\n      <td>8481771.0</td>\n      <td>3275333.0</td>\n      <td>1900151.0</td>\n      <td>1014048.0</td>\n      <td>298084.0</td>\n      <td>83600.0</td>\n      <td>112.9322</td>\n      <td>1.0081</td>\n      <td>0.12</td>\n    </tr>\n    <tr>\n      <th>220</th>\n      <td>21</td>\n      <td>GBR</td>\n      <td>United Kingdom</td>\n      <td>London</td>\n      <td>Europe</td>\n      <td>67508936.0</td>\n      <td>67059474.0</td>\n      <td>65224364.0</td>\n      <td>62760039.0</td>\n      <td>58850043.0</td>\n      <td>57210442.0</td>\n      <td>56326328.0</td>\n      <td>55650166.0</td>\n      <td>242900.0</td>\n      <td>277.9289</td>\n      <td>1.0034</td>\n      <td>0.85</td>\n    </tr>\n    <tr>\n      <th>221</th>\n      <td>3</td>\n      <td>USA</td>\n      <td>United States</td>\n      <td>Washington, D.C.</td>\n      <td>North America</td>\n      <td>338289857.0</td>\n      <td>335942003.0</td>\n      <td>324607776.0</td>\n      <td>311182845.0</td>\n      <td>282398554.0</td>\n      <td>248083732.0</td>\n      <td>223140018.0</td>\n      <td>200328340.0</td>\n      <td>9372610.0</td>\n      <td>36.0935</td>\n      <td>1.0038</td>\n      <td>4.24</td>\n    </tr>\n    <tr>\n      <th>222</th>\n      <td>200</td>\n      <td>VIR</td>\n      <td>United States Virgin Islands</td>\n      <td>Charlotte Amalie</td>\n      <td>North America</td>\n      <td>99465.0</td>\n      <td>100442.0</td>\n      <td>102803.0</td>\n      <td>106142.0</td>\n      <td>108185.0</td>\n      <td>100685.0</td>\n      <td>96640.0</td>\n      <td>63446.0</td>\n      <td>347.0</td>\n      <td>286.6427</td>\n      <td>0.9937</td>\n      <td>0.00</td>\n    </tr>\n  </tbody>\n</table>\n</div>"
     },
     "execution_count": 5,
     "metadata": {},
     "output_type": "execute_result"
    }
   ],
   "source": [
    "df[df[\"Country\"].str.contains(\"United\")]"
   ],
   "metadata": {
    "collapsed": false,
    "ExecuteTime": {
     "end_time": "2024-05-01T23:28:56.548919Z",
     "start_time": "2024-05-01T23:28:56.524971Z"
    }
   },
   "id": "bf6e076bda89d411",
   "execution_count": 5
  },
  {
   "cell_type": "markdown",
   "source": [
    "## We can also filter based on the index:\n",
    " ##### First we set the index to the country names instead of numbers without column name:"
   ],
   "metadata": {
    "collapsed": false
   },
   "id": "7c4313c5c0fa237"
  },
  {
   "cell_type": "code",
   "outputs": [
    {
     "data": {
      "text/plain": "                   Rank CCA3           Capital Continent  2022 Population  \\\nCountry                                                                     \nAfghanistan          36  AFG             Kabul      Asia       41128771.0   \nAlbania             138  ALB            Tirana    Europe        2842321.0   \nAlgeria              34  DZA           Algiers    Africa       44903225.0   \nAmerican Samoa      213  ASM         Pago Pago   Oceania          44273.0   \nAndorra             203  AND  Andorra la Vella    Europe          79824.0   \n...                 ...  ...               ...       ...              ...   \nWallis and Futuna   226  WLF          Mata-Utu   Oceania          11572.0   \nWestern Sahara      172  ESH          El Aaiún    Africa         575986.0   \nYemen                46  YEM             Sanaa      Asia       33696614.0   \nZambia               63  ZMB            Lusaka    Africa       20017675.0   \nZimbabwe             74  ZWE            Harare    Africa       16320537.0   \n\n                   2020 Population  2015 Population  2010 Population  \\\nCountry                                                                \nAfghanistan             38972230.0       33753499.0       28189672.0   \nAlbania                  2866849.0        2882481.0        2913399.0   \nAlgeria                 43451666.0       39543154.0       35856344.0   \nAmerican Samoa             46189.0          51368.0          54849.0   \nAndorra                    77700.0          71746.0          71519.0   \n...                            ...              ...              ...   \nWallis and Futuna          11655.0          12182.0          13142.0   \nWestern Sahara            556048.0         491824.0         413296.0   \nYemen                   32284046.0       28516545.0       24743946.0   \nZambia                  18927715.0              NaN       13792086.0   \nZimbabwe                15669666.0       14154937.0       12839771.0   \n\n                   2000 Population  1990 Population  1980 Population  \\\nCountry                                                                \nAfghanistan             19542982.0       10694796.0       12486631.0   \nAlbania                  3182021.0        3295066.0        2941651.0   \nAlgeria                 30774621.0       25518074.0       18739378.0   \nAmerican Samoa             58230.0          47818.0          32886.0   \nAndorra                    66097.0          53569.0          35611.0   \n...                            ...              ...              ...   \nWallis and Futuna          14723.0          13454.0          11315.0   \nWestern Sahara            270375.0         178529.0         116775.0   \nYemen                   18628700.0       13375121.0        9204938.0   \nZambia                   9891136.0        7686401.0        5720438.0   \nZimbabwe                11834676.0       10113893.0        7049926.0   \n\n                   1970 Population  Area (km²)  Density (per km²)  \\\nCountry                                                             \nAfghanistan             10752971.0    652230.0            63.0587   \nAlbania                  2324731.0     28748.0            98.8702   \nAlgeria                 13795915.0   2381741.0            18.8531   \nAmerican Samoa             27075.0       199.0           222.4774   \nAndorra                    19860.0       468.0           170.5641   \n...                            ...         ...                ...   \nWallis and Futuna           9377.0       142.0            81.4930   \nWestern Sahara             76371.0    266000.0             2.1654   \nYemen                    6843607.0    527968.0            63.8232   \nZambia                   4281671.0    752612.0            26.5976   \nZimbabwe                 5202918.0    390757.0            41.7665   \n\n                   Growth Rate  World Population Percentage  \nCountry                                                      \nAfghanistan             1.0257                         0.52  \nAlbania                 0.9957                         0.04  \nAlgeria                 1.0164                         0.56  \nAmerican Samoa          0.9831                         0.00  \nAndorra                 1.0100                         0.00  \n...                        ...                          ...  \nWallis and Futuna       0.9953                         0.00  \nWestern Sahara          1.0184                         0.01  \nYemen                   1.0217                         0.42  \nZambia                  1.0280                         0.25  \nZimbabwe                1.0204                         0.20  \n\n[234 rows x 16 columns]",
      "text/html": "<div>\n<style scoped>\n    .dataframe tbody tr th:only-of-type {\n        vertical-align: middle;\n    }\n\n    .dataframe tbody tr th {\n        vertical-align: top;\n    }\n\n    .dataframe thead th {\n        text-align: right;\n    }\n</style>\n<table border=\"1\" class=\"dataframe\">\n  <thead>\n    <tr style=\"text-align: right;\">\n      <th></th>\n      <th>Rank</th>\n      <th>CCA3</th>\n      <th>Capital</th>\n      <th>Continent</th>\n      <th>2022 Population</th>\n      <th>2020 Population</th>\n      <th>2015 Population</th>\n      <th>2010 Population</th>\n      <th>2000 Population</th>\n      <th>1990 Population</th>\n      <th>1980 Population</th>\n      <th>1970 Population</th>\n      <th>Area (km²)</th>\n      <th>Density (per km²)</th>\n      <th>Growth Rate</th>\n      <th>World Population Percentage</th>\n    </tr>\n    <tr>\n      <th>Country</th>\n      <th></th>\n      <th></th>\n      <th></th>\n      <th></th>\n      <th></th>\n      <th></th>\n      <th></th>\n      <th></th>\n      <th></th>\n      <th></th>\n      <th></th>\n      <th></th>\n      <th></th>\n      <th></th>\n      <th></th>\n      <th></th>\n    </tr>\n  </thead>\n  <tbody>\n    <tr>\n      <th>Afghanistan</th>\n      <td>36</td>\n      <td>AFG</td>\n      <td>Kabul</td>\n      <td>Asia</td>\n      <td>41128771.0</td>\n      <td>38972230.0</td>\n      <td>33753499.0</td>\n      <td>28189672.0</td>\n      <td>19542982.0</td>\n      <td>10694796.0</td>\n      <td>12486631.0</td>\n      <td>10752971.0</td>\n      <td>652230.0</td>\n      <td>63.0587</td>\n      <td>1.0257</td>\n      <td>0.52</td>\n    </tr>\n    <tr>\n      <th>Albania</th>\n      <td>138</td>\n      <td>ALB</td>\n      <td>Tirana</td>\n      <td>Europe</td>\n      <td>2842321.0</td>\n      <td>2866849.0</td>\n      <td>2882481.0</td>\n      <td>2913399.0</td>\n      <td>3182021.0</td>\n      <td>3295066.0</td>\n      <td>2941651.0</td>\n      <td>2324731.0</td>\n      <td>28748.0</td>\n      <td>98.8702</td>\n      <td>0.9957</td>\n      <td>0.04</td>\n    </tr>\n    <tr>\n      <th>Algeria</th>\n      <td>34</td>\n      <td>DZA</td>\n      <td>Algiers</td>\n      <td>Africa</td>\n      <td>44903225.0</td>\n      <td>43451666.0</td>\n      <td>39543154.0</td>\n      <td>35856344.0</td>\n      <td>30774621.0</td>\n      <td>25518074.0</td>\n      <td>18739378.0</td>\n      <td>13795915.0</td>\n      <td>2381741.0</td>\n      <td>18.8531</td>\n      <td>1.0164</td>\n      <td>0.56</td>\n    </tr>\n    <tr>\n      <th>American Samoa</th>\n      <td>213</td>\n      <td>ASM</td>\n      <td>Pago Pago</td>\n      <td>Oceania</td>\n      <td>44273.0</td>\n      <td>46189.0</td>\n      <td>51368.0</td>\n      <td>54849.0</td>\n      <td>58230.0</td>\n      <td>47818.0</td>\n      <td>32886.0</td>\n      <td>27075.0</td>\n      <td>199.0</td>\n      <td>222.4774</td>\n      <td>0.9831</td>\n      <td>0.00</td>\n    </tr>\n    <tr>\n      <th>Andorra</th>\n      <td>203</td>\n      <td>AND</td>\n      <td>Andorra la Vella</td>\n      <td>Europe</td>\n      <td>79824.0</td>\n      <td>77700.0</td>\n      <td>71746.0</td>\n      <td>71519.0</td>\n      <td>66097.0</td>\n      <td>53569.0</td>\n      <td>35611.0</td>\n      <td>19860.0</td>\n      <td>468.0</td>\n      <td>170.5641</td>\n      <td>1.0100</td>\n      <td>0.00</td>\n    </tr>\n    <tr>\n      <th>...</th>\n      <td>...</td>\n      <td>...</td>\n      <td>...</td>\n      <td>...</td>\n      <td>...</td>\n      <td>...</td>\n      <td>...</td>\n      <td>...</td>\n      <td>...</td>\n      <td>...</td>\n      <td>...</td>\n      <td>...</td>\n      <td>...</td>\n      <td>...</td>\n      <td>...</td>\n      <td>...</td>\n    </tr>\n    <tr>\n      <th>Wallis and Futuna</th>\n      <td>226</td>\n      <td>WLF</td>\n      <td>Mata-Utu</td>\n      <td>Oceania</td>\n      <td>11572.0</td>\n      <td>11655.0</td>\n      <td>12182.0</td>\n      <td>13142.0</td>\n      <td>14723.0</td>\n      <td>13454.0</td>\n      <td>11315.0</td>\n      <td>9377.0</td>\n      <td>142.0</td>\n      <td>81.4930</td>\n      <td>0.9953</td>\n      <td>0.00</td>\n    </tr>\n    <tr>\n      <th>Western Sahara</th>\n      <td>172</td>\n      <td>ESH</td>\n      <td>El Aaiún</td>\n      <td>Africa</td>\n      <td>575986.0</td>\n      <td>556048.0</td>\n      <td>491824.0</td>\n      <td>413296.0</td>\n      <td>270375.0</td>\n      <td>178529.0</td>\n      <td>116775.0</td>\n      <td>76371.0</td>\n      <td>266000.0</td>\n      <td>2.1654</td>\n      <td>1.0184</td>\n      <td>0.01</td>\n    </tr>\n    <tr>\n      <th>Yemen</th>\n      <td>46</td>\n      <td>YEM</td>\n      <td>Sanaa</td>\n      <td>Asia</td>\n      <td>33696614.0</td>\n      <td>32284046.0</td>\n      <td>28516545.0</td>\n      <td>24743946.0</td>\n      <td>18628700.0</td>\n      <td>13375121.0</td>\n      <td>9204938.0</td>\n      <td>6843607.0</td>\n      <td>527968.0</td>\n      <td>63.8232</td>\n      <td>1.0217</td>\n      <td>0.42</td>\n    </tr>\n    <tr>\n      <th>Zambia</th>\n      <td>63</td>\n      <td>ZMB</td>\n      <td>Lusaka</td>\n      <td>Africa</td>\n      <td>20017675.0</td>\n      <td>18927715.0</td>\n      <td>NaN</td>\n      <td>13792086.0</td>\n      <td>9891136.0</td>\n      <td>7686401.0</td>\n      <td>5720438.0</td>\n      <td>4281671.0</td>\n      <td>752612.0</td>\n      <td>26.5976</td>\n      <td>1.0280</td>\n      <td>0.25</td>\n    </tr>\n    <tr>\n      <th>Zimbabwe</th>\n      <td>74</td>\n      <td>ZWE</td>\n      <td>Harare</td>\n      <td>Africa</td>\n      <td>16320537.0</td>\n      <td>15669666.0</td>\n      <td>14154937.0</td>\n      <td>12839771.0</td>\n      <td>11834676.0</td>\n      <td>10113893.0</td>\n      <td>7049926.0</td>\n      <td>5202918.0</td>\n      <td>390757.0</td>\n      <td>41.7665</td>\n      <td>1.0204</td>\n      <td>0.20</td>\n    </tr>\n  </tbody>\n</table>\n<p>234 rows × 16 columns</p>\n</div>"
     },
     "execution_count": 6,
     "metadata": {},
     "output_type": "execute_result"
    }
   ],
   "source": [
    "df2 = df.set_index(\"Country\")\n",
    "df2"
   ],
   "metadata": {
    "collapsed": false,
    "ExecuteTime": {
     "end_time": "2024-05-01T23:29:05.693467Z",
     "start_time": "2024-05-01T23:29:05.678451Z"
    }
   },
   "id": "972411c1784c656e",
   "execution_count": 6
  },
  {
   "cell_type": "markdown",
   "source": [
    "### Now we use the filter method. Specifying which columns we want to keep in it in the form of lists.(filter the columns)"
   ],
   "metadata": {
    "collapsed": false
   },
   "id": "30af35e6a36cc0c4"
  },
  {
   "cell_type": "code",
   "outputs": [
    {
     "data": {
      "text/plain": "                  Continent CCA3\nCountry                         \nAfghanistan            Asia  AFG\nAlbania              Europe  ALB\nAlgeria              Africa  DZA\nAmerican Samoa      Oceania  ASM\nAndorra              Europe  AND\n...                     ...  ...\nWallis and Futuna   Oceania  WLF\nWestern Sahara       Africa  ESH\nYemen                  Asia  YEM\nZambia               Africa  ZMB\nZimbabwe             Africa  ZWE\n\n[234 rows x 2 columns]",
      "text/html": "<div>\n<style scoped>\n    .dataframe tbody tr th:only-of-type {\n        vertical-align: middle;\n    }\n\n    .dataframe tbody tr th {\n        vertical-align: top;\n    }\n\n    .dataframe thead th {\n        text-align: right;\n    }\n</style>\n<table border=\"1\" class=\"dataframe\">\n  <thead>\n    <tr style=\"text-align: right;\">\n      <th></th>\n      <th>Continent</th>\n      <th>CCA3</th>\n    </tr>\n    <tr>\n      <th>Country</th>\n      <th></th>\n      <th></th>\n    </tr>\n  </thead>\n  <tbody>\n    <tr>\n      <th>Afghanistan</th>\n      <td>Asia</td>\n      <td>AFG</td>\n    </tr>\n    <tr>\n      <th>Albania</th>\n      <td>Europe</td>\n      <td>ALB</td>\n    </tr>\n    <tr>\n      <th>Algeria</th>\n      <td>Africa</td>\n      <td>DZA</td>\n    </tr>\n    <tr>\n      <th>American Samoa</th>\n      <td>Oceania</td>\n      <td>ASM</td>\n    </tr>\n    <tr>\n      <th>Andorra</th>\n      <td>Europe</td>\n      <td>AND</td>\n    </tr>\n    <tr>\n      <th>...</th>\n      <td>...</td>\n      <td>...</td>\n    </tr>\n    <tr>\n      <th>Wallis and Futuna</th>\n      <td>Oceania</td>\n      <td>WLF</td>\n    </tr>\n    <tr>\n      <th>Western Sahara</th>\n      <td>Africa</td>\n      <td>ESH</td>\n    </tr>\n    <tr>\n      <th>Yemen</th>\n      <td>Asia</td>\n      <td>YEM</td>\n    </tr>\n    <tr>\n      <th>Zambia</th>\n      <td>Africa</td>\n      <td>ZMB</td>\n    </tr>\n    <tr>\n      <th>Zimbabwe</th>\n      <td>Africa</td>\n      <td>ZWE</td>\n    </tr>\n  </tbody>\n</table>\n<p>234 rows × 2 columns</p>\n</div>"
     },
     "execution_count": 7,
     "metadata": {},
     "output_type": "execute_result"
    }
   ],
   "source": [
    "df2.filter(items=[\"Continent\",\"CCA3\"]) #By default the axis equals to 1"
   ],
   "metadata": {
    "collapsed": false,
    "ExecuteTime": {
     "end_time": "2024-05-01T23:29:55.454021Z",
     "start_time": "2024-05-01T23:29:55.447451Z"
    }
   },
   "id": "aeb9be9513183e35",
   "execution_count": 7
  },
  {
   "cell_type": "markdown",
   "source": [
    "### We can choose the axis=0 and search for rows that contains specified item:(filter the items or rows)"
   ],
   "metadata": {
    "collapsed": false
   },
   "id": "966bdcfeffde0bb9"
  },
  {
   "cell_type": "code",
   "outputs": [
    {
     "data": {
      "text/plain": "          Rank CCA3 Capital Continent  2022 Population  2020 Population  \\\nZimbabwe    74  ZWE  Harare    Africa       16320537.0       15669666.0   \n\n          2015 Population  2010 Population  2000 Population  1990 Population  \\\nZimbabwe       14154937.0       12839771.0       11834676.0       10113893.0   \n\n          1980 Population  1970 Population  Area (km²)  Density (per km²)  \\\nZimbabwe        7049926.0        5202918.0    390757.0            41.7665   \n\n          Growth Rate  World Population Percentage  \nZimbabwe       1.0204                          0.2  ",
      "text/html": "<div>\n<style scoped>\n    .dataframe tbody tr th:only-of-type {\n        vertical-align: middle;\n    }\n\n    .dataframe tbody tr th {\n        vertical-align: top;\n    }\n\n    .dataframe thead th {\n        text-align: right;\n    }\n</style>\n<table border=\"1\" class=\"dataframe\">\n  <thead>\n    <tr style=\"text-align: right;\">\n      <th></th>\n      <th>Rank</th>\n      <th>CCA3</th>\n      <th>Capital</th>\n      <th>Continent</th>\n      <th>2022 Population</th>\n      <th>2020 Population</th>\n      <th>2015 Population</th>\n      <th>2010 Population</th>\n      <th>2000 Population</th>\n      <th>1990 Population</th>\n      <th>1980 Population</th>\n      <th>1970 Population</th>\n      <th>Area (km²)</th>\n      <th>Density (per km²)</th>\n      <th>Growth Rate</th>\n      <th>World Population Percentage</th>\n    </tr>\n  </thead>\n  <tbody>\n    <tr>\n      <th>Zimbabwe</th>\n      <td>74</td>\n      <td>ZWE</td>\n      <td>Harare</td>\n      <td>Africa</td>\n      <td>16320537.0</td>\n      <td>15669666.0</td>\n      <td>14154937.0</td>\n      <td>12839771.0</td>\n      <td>11834676.0</td>\n      <td>10113893.0</td>\n      <td>7049926.0</td>\n      <td>5202918.0</td>\n      <td>390757.0</td>\n      <td>41.7665</td>\n      <td>1.0204</td>\n      <td>0.2</td>\n    </tr>\n  </tbody>\n</table>\n</div>"
     },
     "execution_count": 8,
     "metadata": {},
     "output_type": "execute_result"
    }
   ],
   "source": [
    "df2.filter(items=[\"Zimbabwe\"],axis=0)"
   ],
   "metadata": {
    "collapsed": false,
    "ExecuteTime": {
     "end_time": "2024-05-01T23:30:18.545948Z",
     "start_time": "2024-05-01T23:30:18.536806Z"
    }
   },
   "id": "490dde249997dd28",
   "execution_count": 8
  },
  {
   "cell_type": "markdown",
   "source": [
    "#### Filter method can also be used like contains method we did before, writing 'like' instead of 'items'."
   ],
   "metadata": {
    "collapsed": false
   },
   "id": "52b09202ed4cc22d"
  },
  {
   "cell_type": "code",
   "outputs": [
    {
     "data": {
      "text/plain": "                          Rank CCA3        Capital      Continent  \\\nCountry                                                             \nTurkey                      18  TUR         Ankara           Asia   \nTurkmenistan               111  TKM       Ashgabat           Asia   \nTurks and Caicos Islands   212  TCA  Cockburn Town  North America   \n\n                          2022 Population  2020 Population  2015 Population  \\\nCountry                                                                       \nTurkey                         85341241.0       84135428.0       79646178.0   \nTurkmenistan                    6430770.0        6250438.0        5766431.0   \nTurks and Caicos Islands          45703.0          44276.0          36538.0   \n\n                          2010 Population  2000 Population  1990 Population  \\\nCountry                                                                       \nTurkey                         73195345.0       64113547.0       54324142.0   \nTurkmenistan                    5267970.0        4569132.0        3720278.0   \nTurks and Caicos Islands          29726.0          18744.0          11709.0   \n\n                          1980 Population  1970 Population  Area (km²)  \\\nCountry                                                                  \nTurkey                         44089069.0       35540990.0    783562.0   \nTurkmenistan                    2862903.0        2201432.0    488100.0   \nTurks and Caicos Islands           7598.0           5665.0       948.0   \n\n                          Density (per km²)  Growth Rate  \\\nCountry                                                    \nTurkey                             108.9145       1.0067   \nTurkmenistan                        13.1751       1.0140   \nTurks and Caicos Islands            48.2099       1.0131   \n\n                          World Population Percentage  \nCountry                                                \nTurkey                                           1.07  \nTurkmenistan                                     0.08  \nTurks and Caicos Islands                         0.00  ",
      "text/html": "<div>\n<style scoped>\n    .dataframe tbody tr th:only-of-type {\n        vertical-align: middle;\n    }\n\n    .dataframe tbody tr th {\n        vertical-align: top;\n    }\n\n    .dataframe thead th {\n        text-align: right;\n    }\n</style>\n<table border=\"1\" class=\"dataframe\">\n  <thead>\n    <tr style=\"text-align: right;\">\n      <th></th>\n      <th>Rank</th>\n      <th>CCA3</th>\n      <th>Capital</th>\n      <th>Continent</th>\n      <th>2022 Population</th>\n      <th>2020 Population</th>\n      <th>2015 Population</th>\n      <th>2010 Population</th>\n      <th>2000 Population</th>\n      <th>1990 Population</th>\n      <th>1980 Population</th>\n      <th>1970 Population</th>\n      <th>Area (km²)</th>\n      <th>Density (per km²)</th>\n      <th>Growth Rate</th>\n      <th>World Population Percentage</th>\n    </tr>\n    <tr>\n      <th>Country</th>\n      <th></th>\n      <th></th>\n      <th></th>\n      <th></th>\n      <th></th>\n      <th></th>\n      <th></th>\n      <th></th>\n      <th></th>\n      <th></th>\n      <th></th>\n      <th></th>\n      <th></th>\n      <th></th>\n      <th></th>\n      <th></th>\n    </tr>\n  </thead>\n  <tbody>\n    <tr>\n      <th>Turkey</th>\n      <td>18</td>\n      <td>TUR</td>\n      <td>Ankara</td>\n      <td>Asia</td>\n      <td>85341241.0</td>\n      <td>84135428.0</td>\n      <td>79646178.0</td>\n      <td>73195345.0</td>\n      <td>64113547.0</td>\n      <td>54324142.0</td>\n      <td>44089069.0</td>\n      <td>35540990.0</td>\n      <td>783562.0</td>\n      <td>108.9145</td>\n      <td>1.0067</td>\n      <td>1.07</td>\n    </tr>\n    <tr>\n      <th>Turkmenistan</th>\n      <td>111</td>\n      <td>TKM</td>\n      <td>Ashgabat</td>\n      <td>Asia</td>\n      <td>6430770.0</td>\n      <td>6250438.0</td>\n      <td>5766431.0</td>\n      <td>5267970.0</td>\n      <td>4569132.0</td>\n      <td>3720278.0</td>\n      <td>2862903.0</td>\n      <td>2201432.0</td>\n      <td>488100.0</td>\n      <td>13.1751</td>\n      <td>1.0140</td>\n      <td>0.08</td>\n    </tr>\n    <tr>\n      <th>Turks and Caicos Islands</th>\n      <td>212</td>\n      <td>TCA</td>\n      <td>Cockburn Town</td>\n      <td>North America</td>\n      <td>45703.0</td>\n      <td>44276.0</td>\n      <td>36538.0</td>\n      <td>29726.0</td>\n      <td>18744.0</td>\n      <td>11709.0</td>\n      <td>7598.0</td>\n      <td>5665.0</td>\n      <td>948.0</td>\n      <td>48.2099</td>\n      <td>1.0131</td>\n      <td>0.00</td>\n    </tr>\n  </tbody>\n</table>\n</div>"
     },
     "execution_count": 9,
     "metadata": {},
     "output_type": "execute_result"
    }
   ],
   "source": [
    "df2.filter(like = \"Turk\",axis=0)"
   ],
   "metadata": {
    "collapsed": false,
    "ExecuteTime": {
     "end_time": "2024-05-01T23:30:26.043054Z",
     "start_time": "2024-05-01T23:30:26.031937Z"
    }
   },
   "id": "3ff86873bd67d9af",
   "execution_count": 9
  },
  {
   "cell_type": "markdown",
   "source": [
    "### Loc method looks just the name or value of the index column, not the actual location:"
   ],
   "metadata": {
    "collapsed": false
   },
   "id": "7ed24323130c5e11"
  },
  {
   "cell_type": "code",
   "outputs": [
    {
     "data": {
      "text/plain": "Rank                                   18\nCCA3                                  TUR\nCapital                            Ankara\nContinent                            Asia\n2022 Population                85341241.0\n2020 Population                84135428.0\n2015 Population                79646178.0\n2010 Population                73195345.0\n2000 Population                64113547.0\n1990 Population                54324142.0\n1980 Population                44089069.0\n1970 Population                35540990.0\nArea (km²)                       783562.0\nDensity (per km²)                108.9145\nGrowth Rate                        1.0067\nWorld Population Percentage          1.07\nName: Turkey, dtype: object"
     },
     "execution_count": 10,
     "metadata": {},
     "output_type": "execute_result"
    }
   ],
   "source": [
    "df2.loc[\"Turkey\"]"
   ],
   "metadata": {
    "collapsed": false,
    "ExecuteTime": {
     "end_time": "2024-05-01T23:30:40.251554Z",
     "start_time": "2024-05-01T23:30:40.245550Z"
    }
   },
   "id": "da2d2070dae36fc0",
   "execution_count": 10
  },
  {
   "cell_type": "code",
   "outputs": [
    {
     "data": {
      "text/plain": "Rank                                        203\nCCA3                                        AND\nCapital                        Andorra la Vella\nContinent                                Europe\n2022 Population                         79824.0\n2020 Population                         77700.0\n2015 Population                         71746.0\n2010 Population                         71519.0\n2000 Population                         66097.0\n1990 Population                         53569.0\n1980 Population                         35611.0\n1970 Population                         19860.0\nArea (km²)                                468.0\nDensity (per km²)                      170.5641\nGrowth Rate                                1.01\nWorld Population Percentage                 0.0\nName: Andorra, dtype: object"
     },
     "execution_count": 11,
     "metadata": {},
     "output_type": "execute_result"
    }
   ],
   "source": [
    "df2.iloc[4] #You write index in iloc"
   ],
   "metadata": {
    "collapsed": false,
    "ExecuteTime": {
     "end_time": "2024-05-01T23:30:43.115905Z",
     "start_time": "2024-05-01T23:30:43.111578Z"
    }
   },
   "id": "3d8585810faca86d",
   "execution_count": 11
  },
  {
   "cell_type": "code",
   "outputs": [
    {
     "data": {
      "text/plain": "     Rank CCA3            Country           Capital Continent  \\\n0      36  AFG        Afghanistan             Kabul      Asia   \n1     138  ALB            Albania            Tirana    Europe   \n2      34  DZA            Algeria           Algiers    Africa   \n3     213  ASM     American Samoa         Pago Pago   Oceania   \n4     203  AND            Andorra  Andorra la Vella    Europe   \n..    ...  ...                ...               ...       ...   \n229   226  WLF  Wallis and Futuna          Mata-Utu   Oceania   \n230   172  ESH     Western Sahara          El Aaiún    Africa   \n231    46  YEM              Yemen             Sanaa      Asia   \n232    63  ZMB             Zambia            Lusaka    Africa   \n233    74  ZWE           Zimbabwe            Harare    Africa   \n\n     2022 Population  2020 Population  2015 Population  2010 Population  \\\n0         41128771.0       38972230.0       33753499.0       28189672.0   \n1          2842321.0        2866849.0        2882481.0        2913399.0   \n2         44903225.0       43451666.0       39543154.0       35856344.0   \n3            44273.0          46189.0          51368.0          54849.0   \n4            79824.0          77700.0          71746.0          71519.0   \n..               ...              ...              ...              ...   \n229          11572.0          11655.0          12182.0          13142.0   \n230         575986.0         556048.0         491824.0         413296.0   \n231       33696614.0       32284046.0       28516545.0       24743946.0   \n232       20017675.0       18927715.0              NaN       13792086.0   \n233       16320537.0       15669666.0       14154937.0       12839771.0   \n\n     2000 Population  1990 Population  1980 Population  1970 Population  \\\n0         19542982.0       10694796.0       12486631.0       10752971.0   \n1          3182021.0        3295066.0        2941651.0        2324731.0   \n2         30774621.0       25518074.0       18739378.0       13795915.0   \n3            58230.0          47818.0          32886.0          27075.0   \n4            66097.0          53569.0          35611.0          19860.0   \n..               ...              ...              ...              ...   \n229          14723.0          13454.0          11315.0           9377.0   \n230         270375.0         178529.0         116775.0          76371.0   \n231       18628700.0       13375121.0        9204938.0        6843607.0   \n232        9891136.0        7686401.0        5720438.0        4281671.0   \n233       11834676.0       10113893.0        7049926.0        5202918.0   \n\n     Area (km²)  Density (per km²)  Growth Rate  World Population Percentage  \n0      652230.0            63.0587       1.0257                         0.52  \n1       28748.0            98.8702       0.9957                         0.04  \n2     2381741.0            18.8531       1.0164                         0.56  \n3         199.0           222.4774       0.9831                         0.00  \n4         468.0           170.5641       1.0100                         0.00  \n..          ...                ...          ...                          ...  \n229       142.0            81.4930       0.9953                         0.00  \n230    266000.0             2.1654       1.0184                         0.01  \n231    527968.0            63.8232       1.0217                         0.42  \n232    752612.0            26.5976       1.0280                         0.25  \n233    390757.0            41.7665       1.0204                         0.20  \n\n[234 rows x 17 columns]",
      "text/html": "<div>\n<style scoped>\n    .dataframe tbody tr th:only-of-type {\n        vertical-align: middle;\n    }\n\n    .dataframe tbody tr th {\n        vertical-align: top;\n    }\n\n    .dataframe thead th {\n        text-align: right;\n    }\n</style>\n<table border=\"1\" class=\"dataframe\">\n  <thead>\n    <tr style=\"text-align: right;\">\n      <th></th>\n      <th>Rank</th>\n      <th>CCA3</th>\n      <th>Country</th>\n      <th>Capital</th>\n      <th>Continent</th>\n      <th>2022 Population</th>\n      <th>2020 Population</th>\n      <th>2015 Population</th>\n      <th>2010 Population</th>\n      <th>2000 Population</th>\n      <th>1990 Population</th>\n      <th>1980 Population</th>\n      <th>1970 Population</th>\n      <th>Area (km²)</th>\n      <th>Density (per km²)</th>\n      <th>Growth Rate</th>\n      <th>World Population Percentage</th>\n    </tr>\n  </thead>\n  <tbody>\n    <tr>\n      <th>0</th>\n      <td>36</td>\n      <td>AFG</td>\n      <td>Afghanistan</td>\n      <td>Kabul</td>\n      <td>Asia</td>\n      <td>41128771.0</td>\n      <td>38972230.0</td>\n      <td>33753499.0</td>\n      <td>28189672.0</td>\n      <td>19542982.0</td>\n      <td>10694796.0</td>\n      <td>12486631.0</td>\n      <td>10752971.0</td>\n      <td>652230.0</td>\n      <td>63.0587</td>\n      <td>1.0257</td>\n      <td>0.52</td>\n    </tr>\n    <tr>\n      <th>1</th>\n      <td>138</td>\n      <td>ALB</td>\n      <td>Albania</td>\n      <td>Tirana</td>\n      <td>Europe</td>\n      <td>2842321.0</td>\n      <td>2866849.0</td>\n      <td>2882481.0</td>\n      <td>2913399.0</td>\n      <td>3182021.0</td>\n      <td>3295066.0</td>\n      <td>2941651.0</td>\n      <td>2324731.0</td>\n      <td>28748.0</td>\n      <td>98.8702</td>\n      <td>0.9957</td>\n      <td>0.04</td>\n    </tr>\n    <tr>\n      <th>2</th>\n      <td>34</td>\n      <td>DZA</td>\n      <td>Algeria</td>\n      <td>Algiers</td>\n      <td>Africa</td>\n      <td>44903225.0</td>\n      <td>43451666.0</td>\n      <td>39543154.0</td>\n      <td>35856344.0</td>\n      <td>30774621.0</td>\n      <td>25518074.0</td>\n      <td>18739378.0</td>\n      <td>13795915.0</td>\n      <td>2381741.0</td>\n      <td>18.8531</td>\n      <td>1.0164</td>\n      <td>0.56</td>\n    </tr>\n    <tr>\n      <th>3</th>\n      <td>213</td>\n      <td>ASM</td>\n      <td>American Samoa</td>\n      <td>Pago Pago</td>\n      <td>Oceania</td>\n      <td>44273.0</td>\n      <td>46189.0</td>\n      <td>51368.0</td>\n      <td>54849.0</td>\n      <td>58230.0</td>\n      <td>47818.0</td>\n      <td>32886.0</td>\n      <td>27075.0</td>\n      <td>199.0</td>\n      <td>222.4774</td>\n      <td>0.9831</td>\n      <td>0.00</td>\n    </tr>\n    <tr>\n      <th>4</th>\n      <td>203</td>\n      <td>AND</td>\n      <td>Andorra</td>\n      <td>Andorra la Vella</td>\n      <td>Europe</td>\n      <td>79824.0</td>\n      <td>77700.0</td>\n      <td>71746.0</td>\n      <td>71519.0</td>\n      <td>66097.0</td>\n      <td>53569.0</td>\n      <td>35611.0</td>\n      <td>19860.0</td>\n      <td>468.0</td>\n      <td>170.5641</td>\n      <td>1.0100</td>\n      <td>0.00</td>\n    </tr>\n    <tr>\n      <th>...</th>\n      <td>...</td>\n      <td>...</td>\n      <td>...</td>\n      <td>...</td>\n      <td>...</td>\n      <td>...</td>\n      <td>...</td>\n      <td>...</td>\n      <td>...</td>\n      <td>...</td>\n      <td>...</td>\n      <td>...</td>\n      <td>...</td>\n      <td>...</td>\n      <td>...</td>\n      <td>...</td>\n      <td>...</td>\n    </tr>\n    <tr>\n      <th>229</th>\n      <td>226</td>\n      <td>WLF</td>\n      <td>Wallis and Futuna</td>\n      <td>Mata-Utu</td>\n      <td>Oceania</td>\n      <td>11572.0</td>\n      <td>11655.0</td>\n      <td>12182.0</td>\n      <td>13142.0</td>\n      <td>14723.0</td>\n      <td>13454.0</td>\n      <td>11315.0</td>\n      <td>9377.0</td>\n      <td>142.0</td>\n      <td>81.4930</td>\n      <td>0.9953</td>\n      <td>0.00</td>\n    </tr>\n    <tr>\n      <th>230</th>\n      <td>172</td>\n      <td>ESH</td>\n      <td>Western Sahara</td>\n      <td>El Aaiún</td>\n      <td>Africa</td>\n      <td>575986.0</td>\n      <td>556048.0</td>\n      <td>491824.0</td>\n      <td>413296.0</td>\n      <td>270375.0</td>\n      <td>178529.0</td>\n      <td>116775.0</td>\n      <td>76371.0</td>\n      <td>266000.0</td>\n      <td>2.1654</td>\n      <td>1.0184</td>\n      <td>0.01</td>\n    </tr>\n    <tr>\n      <th>231</th>\n      <td>46</td>\n      <td>YEM</td>\n      <td>Yemen</td>\n      <td>Sanaa</td>\n      <td>Asia</td>\n      <td>33696614.0</td>\n      <td>32284046.0</td>\n      <td>28516545.0</td>\n      <td>24743946.0</td>\n      <td>18628700.0</td>\n      <td>13375121.0</td>\n      <td>9204938.0</td>\n      <td>6843607.0</td>\n      <td>527968.0</td>\n      <td>63.8232</td>\n      <td>1.0217</td>\n      <td>0.42</td>\n    </tr>\n    <tr>\n      <th>232</th>\n      <td>63</td>\n      <td>ZMB</td>\n      <td>Zambia</td>\n      <td>Lusaka</td>\n      <td>Africa</td>\n      <td>20017675.0</td>\n      <td>18927715.0</td>\n      <td>NaN</td>\n      <td>13792086.0</td>\n      <td>9891136.0</td>\n      <td>7686401.0</td>\n      <td>5720438.0</td>\n      <td>4281671.0</td>\n      <td>752612.0</td>\n      <td>26.5976</td>\n      <td>1.0280</td>\n      <td>0.25</td>\n    </tr>\n    <tr>\n      <th>233</th>\n      <td>74</td>\n      <td>ZWE</td>\n      <td>Zimbabwe</td>\n      <td>Harare</td>\n      <td>Africa</td>\n      <td>16320537.0</td>\n      <td>15669666.0</td>\n      <td>14154937.0</td>\n      <td>12839771.0</td>\n      <td>11834676.0</td>\n      <td>10113893.0</td>\n      <td>7049926.0</td>\n      <td>5202918.0</td>\n      <td>390757.0</td>\n      <td>41.7665</td>\n      <td>1.0204</td>\n      <td>0.20</td>\n    </tr>\n  </tbody>\n</table>\n<p>234 rows × 17 columns</p>\n</div>"
     },
     "execution_count": 12,
     "metadata": {},
     "output_type": "execute_result"
    }
   ],
   "source": [
    "df"
   ],
   "metadata": {
    "collapsed": false,
    "ExecuteTime": {
     "end_time": "2024-05-01T23:30:45.040350Z",
     "start_time": "2024-05-01T23:30:45.024170Z"
    }
   },
   "id": "d9519e5708507dd0",
   "execution_count": 12
  },
  {
   "cell_type": "markdown",
   "source": [
    "## Ordering: 'sort_values'."
   ],
   "metadata": {
    "collapsed": false
   },
   "id": "26290fafa57a62b4"
  },
  {
   "cell_type": "code",
   "outputs": [
    {
     "data": {
      "text/plain": "     Rank CCA3        Country           Capital      Continent  \\\n171     9  RUS         Russia            Moscow         Europe   \n16      8  BGD     Bangladesh             Dhaka           Asia   \n27      7  BRA         Brazil          Brasilia  South America   \n149     6  NGA        Nigeria             Abuja         Africa   \n156     5  PAK       Pakistan         Islamabad           Asia   \n93      4  IDN      Indonesia           Jakarta           Asia   \n221     3  USA  United States  Washington, D.C.  North America   \n92      2  IND          India         New Delhi           Asia   \n41      1  CHN          China           Beijing           Asia   \n\n     2022 Population  2020 Population  2015 Population  2010 Population  \\\n171     1.447133e+08     1.456173e+08     1.446684e+08     1.432426e+08   \n16      1.711864e+08     1.674210e+08     1.578300e+08     1.483911e+08   \n27      2.153135e+08     2.131963e+08     2.051882e+08     1.963535e+08   \n149     2.185412e+08     2.083274e+08     1.839958e+08     1.609529e+08   \n156     2.358249e+08     2.271967e+08     2.109693e+08     1.944545e+08   \n93      2.755013e+08     2.718580e+08     2.590920e+08     2.440162e+08   \n221     3.382899e+08     3.359420e+08     3.246078e+08     3.111828e+08   \n92      1.417173e+09     1.396387e+09     1.322867e+09     1.240614e+09   \n41      1.425887e+09     1.424930e+09     1.393715e+09     1.348191e+09   \n\n     2000 Population  1990 Population  1980 Population  1970 Population  \\\n171     1.468448e+08     1.480057e+08      138257420.0      130093010.0   \n16      1.291933e+08     1.071477e+08       83929765.0       67541860.0   \n27      1.758737e+08     1.507064e+08      122288383.0       96369875.0   \n149     1.228520e+08     9.521426e+07       72951439.0       55569264.0   \n156     1.543699e+08     1.154141e+08       80624057.0       59290872.0   \n93      2.140724e+08     1.821599e+08      148177096.0      115228394.0   \n221     2.823986e+08     2.480837e+08      223140018.0      200328340.0   \n92      1.059634e+09              NaN              NaN      557501301.0   \n41      1.264099e+09     1.153704e+09      982372466.0      822534450.0   \n\n     Area (km²)  Density (per km²)  Growth Rate  World Population Percentage  \n171  17098242.0             8.4636       0.9973                         1.81  \n16     147570.0          1160.0350       1.0108                         2.15  \n27    8515767.0            25.2841       1.0046                         2.70  \n149    923768.0           236.5759       1.0241                         2.74  \n156    881912.0           267.4018       1.0191                         2.96  \n93    1904569.0           144.6529       1.0064                         3.45  \n221   9372610.0            36.0935       1.0038                         4.24  \n92    3287590.0           431.0675       1.0068                        17.77  \n41    9706961.0           146.8933       1.0000                        17.88  ",
      "text/html": "<div>\n<style scoped>\n    .dataframe tbody tr th:only-of-type {\n        vertical-align: middle;\n    }\n\n    .dataframe tbody tr th {\n        vertical-align: top;\n    }\n\n    .dataframe thead th {\n        text-align: right;\n    }\n</style>\n<table border=\"1\" class=\"dataframe\">\n  <thead>\n    <tr style=\"text-align: right;\">\n      <th></th>\n      <th>Rank</th>\n      <th>CCA3</th>\n      <th>Country</th>\n      <th>Capital</th>\n      <th>Continent</th>\n      <th>2022 Population</th>\n      <th>2020 Population</th>\n      <th>2015 Population</th>\n      <th>2010 Population</th>\n      <th>2000 Population</th>\n      <th>1990 Population</th>\n      <th>1980 Population</th>\n      <th>1970 Population</th>\n      <th>Area (km²)</th>\n      <th>Density (per km²)</th>\n      <th>Growth Rate</th>\n      <th>World Population Percentage</th>\n    </tr>\n  </thead>\n  <tbody>\n    <tr>\n      <th>171</th>\n      <td>9</td>\n      <td>RUS</td>\n      <td>Russia</td>\n      <td>Moscow</td>\n      <td>Europe</td>\n      <td>1.447133e+08</td>\n      <td>1.456173e+08</td>\n      <td>1.446684e+08</td>\n      <td>1.432426e+08</td>\n      <td>1.468448e+08</td>\n      <td>1.480057e+08</td>\n      <td>138257420.0</td>\n      <td>130093010.0</td>\n      <td>17098242.0</td>\n      <td>8.4636</td>\n      <td>0.9973</td>\n      <td>1.81</td>\n    </tr>\n    <tr>\n      <th>16</th>\n      <td>8</td>\n      <td>BGD</td>\n      <td>Bangladesh</td>\n      <td>Dhaka</td>\n      <td>Asia</td>\n      <td>1.711864e+08</td>\n      <td>1.674210e+08</td>\n      <td>1.578300e+08</td>\n      <td>1.483911e+08</td>\n      <td>1.291933e+08</td>\n      <td>1.071477e+08</td>\n      <td>83929765.0</td>\n      <td>67541860.0</td>\n      <td>147570.0</td>\n      <td>1160.0350</td>\n      <td>1.0108</td>\n      <td>2.15</td>\n    </tr>\n    <tr>\n      <th>27</th>\n      <td>7</td>\n      <td>BRA</td>\n      <td>Brazil</td>\n      <td>Brasilia</td>\n      <td>South America</td>\n      <td>2.153135e+08</td>\n      <td>2.131963e+08</td>\n      <td>2.051882e+08</td>\n      <td>1.963535e+08</td>\n      <td>1.758737e+08</td>\n      <td>1.507064e+08</td>\n      <td>122288383.0</td>\n      <td>96369875.0</td>\n      <td>8515767.0</td>\n      <td>25.2841</td>\n      <td>1.0046</td>\n      <td>2.70</td>\n    </tr>\n    <tr>\n      <th>149</th>\n      <td>6</td>\n      <td>NGA</td>\n      <td>Nigeria</td>\n      <td>Abuja</td>\n      <td>Africa</td>\n      <td>2.185412e+08</td>\n      <td>2.083274e+08</td>\n      <td>1.839958e+08</td>\n      <td>1.609529e+08</td>\n      <td>1.228520e+08</td>\n      <td>9.521426e+07</td>\n      <td>72951439.0</td>\n      <td>55569264.0</td>\n      <td>923768.0</td>\n      <td>236.5759</td>\n      <td>1.0241</td>\n      <td>2.74</td>\n    </tr>\n    <tr>\n      <th>156</th>\n      <td>5</td>\n      <td>PAK</td>\n      <td>Pakistan</td>\n      <td>Islamabad</td>\n      <td>Asia</td>\n      <td>2.358249e+08</td>\n      <td>2.271967e+08</td>\n      <td>2.109693e+08</td>\n      <td>1.944545e+08</td>\n      <td>1.543699e+08</td>\n      <td>1.154141e+08</td>\n      <td>80624057.0</td>\n      <td>59290872.0</td>\n      <td>881912.0</td>\n      <td>267.4018</td>\n      <td>1.0191</td>\n      <td>2.96</td>\n    </tr>\n    <tr>\n      <th>93</th>\n      <td>4</td>\n      <td>IDN</td>\n      <td>Indonesia</td>\n      <td>Jakarta</td>\n      <td>Asia</td>\n      <td>2.755013e+08</td>\n      <td>2.718580e+08</td>\n      <td>2.590920e+08</td>\n      <td>2.440162e+08</td>\n      <td>2.140724e+08</td>\n      <td>1.821599e+08</td>\n      <td>148177096.0</td>\n      <td>115228394.0</td>\n      <td>1904569.0</td>\n      <td>144.6529</td>\n      <td>1.0064</td>\n      <td>3.45</td>\n    </tr>\n    <tr>\n      <th>221</th>\n      <td>3</td>\n      <td>USA</td>\n      <td>United States</td>\n      <td>Washington, D.C.</td>\n      <td>North America</td>\n      <td>3.382899e+08</td>\n      <td>3.359420e+08</td>\n      <td>3.246078e+08</td>\n      <td>3.111828e+08</td>\n      <td>2.823986e+08</td>\n      <td>2.480837e+08</td>\n      <td>223140018.0</td>\n      <td>200328340.0</td>\n      <td>9372610.0</td>\n      <td>36.0935</td>\n      <td>1.0038</td>\n      <td>4.24</td>\n    </tr>\n    <tr>\n      <th>92</th>\n      <td>2</td>\n      <td>IND</td>\n      <td>India</td>\n      <td>New Delhi</td>\n      <td>Asia</td>\n      <td>1.417173e+09</td>\n      <td>1.396387e+09</td>\n      <td>1.322867e+09</td>\n      <td>1.240614e+09</td>\n      <td>1.059634e+09</td>\n      <td>NaN</td>\n      <td>NaN</td>\n      <td>557501301.0</td>\n      <td>3287590.0</td>\n      <td>431.0675</td>\n      <td>1.0068</td>\n      <td>17.77</td>\n    </tr>\n    <tr>\n      <th>41</th>\n      <td>1</td>\n      <td>CHN</td>\n      <td>China</td>\n      <td>Beijing</td>\n      <td>Asia</td>\n      <td>1.425887e+09</td>\n      <td>1.424930e+09</td>\n      <td>1.393715e+09</td>\n      <td>1.348191e+09</td>\n      <td>1.264099e+09</td>\n      <td>1.153704e+09</td>\n      <td>982372466.0</td>\n      <td>822534450.0</td>\n      <td>9706961.0</td>\n      <td>146.8933</td>\n      <td>1.0000</td>\n      <td>17.88</td>\n    </tr>\n  </tbody>\n</table>\n</div>"
     },
     "execution_count": 13,
     "metadata": {},
     "output_type": "execute_result"
    }
   ],
   "source": [
    "df[df[\"Rank\"] < 10].sort_values(by=\"Rank\",ascending=False)"
   ],
   "metadata": {
    "collapsed": false,
    "ExecuteTime": {
     "end_time": "2024-05-01T23:30:57.424700Z",
     "start_time": "2024-05-01T23:30:57.407951Z"
    }
   },
   "id": "545a2b420866b4fe",
   "execution_count": 13
  },
  {
   "cell_type": "markdown",
   "source": [
    "#### sort_values is a very usefull. We can sort more than just one item: "
   ],
   "metadata": {
    "collapsed": false
   },
   "id": "66b9f16dd43a3ff5"
  },
  {
   "cell_type": "markdown",
   "source": [
    "##### Down below, I sort the countries first by the continent and then by the order of names: "
   ],
   "metadata": {
    "collapsed": false
   },
   "id": "4a4f745b6e772556"
  },
  {
   "cell_type": "code",
   "outputs": [
    {
     "data": {
      "text/plain": "     Rank CCA3        Country           Capital      Continent  \\\n149     6  NGA        Nigeria             Abuja         Africa   \n16      8  BGD     Bangladesh             Dhaka           Asia   \n41      1  CHN          China           Beijing           Asia   \n92      2  IND          India         New Delhi           Asia   \n93      4  IDN      Indonesia           Jakarta           Asia   \n156     5  PAK       Pakistan         Islamabad           Asia   \n171     9  RUS         Russia            Moscow         Europe   \n221     3  USA  United States  Washington, D.C.  North America   \n27      7  BRA         Brazil          Brasilia  South America   \n\n     2022 Population  2020 Population  2015 Population  2010 Population  \\\n149     2.185412e+08     2.083274e+08     1.839958e+08     1.609529e+08   \n16      1.711864e+08     1.674210e+08     1.578300e+08     1.483911e+08   \n41      1.425887e+09     1.424930e+09     1.393715e+09     1.348191e+09   \n92      1.417173e+09     1.396387e+09     1.322867e+09     1.240614e+09   \n93      2.755013e+08     2.718580e+08     2.590920e+08     2.440162e+08   \n156     2.358249e+08     2.271967e+08     2.109693e+08     1.944545e+08   \n171     1.447133e+08     1.456173e+08     1.446684e+08     1.432426e+08   \n221     3.382899e+08     3.359420e+08     3.246078e+08     3.111828e+08   \n27      2.153135e+08     2.131963e+08     2.051882e+08     1.963535e+08   \n\n     2000 Population  1990 Population  1980 Population  1970 Population  \\\n149     1.228520e+08     9.521426e+07       72951439.0       55569264.0   \n16      1.291933e+08     1.071477e+08       83929765.0       67541860.0   \n41      1.264099e+09     1.153704e+09      982372466.0      822534450.0   \n92      1.059634e+09              NaN              NaN      557501301.0   \n93      2.140724e+08     1.821599e+08      148177096.0      115228394.0   \n156     1.543699e+08     1.154141e+08       80624057.0       59290872.0   \n171     1.468448e+08     1.480057e+08      138257420.0      130093010.0   \n221     2.823986e+08     2.480837e+08      223140018.0      200328340.0   \n27      1.758737e+08     1.507064e+08      122288383.0       96369875.0   \n\n     Area (km²)  Density (per km²)  Growth Rate  World Population Percentage  \n149    923768.0           236.5759       1.0241                         2.74  \n16     147570.0          1160.0350       1.0108                         2.15  \n41    9706961.0           146.8933       1.0000                        17.88  \n92    3287590.0           431.0675       1.0068                        17.77  \n93    1904569.0           144.6529       1.0064                         3.45  \n156    881912.0           267.4018       1.0191                         2.96  \n171  17098242.0             8.4636       0.9973                         1.81  \n221   9372610.0            36.0935       1.0038                         4.24  \n27    8515767.0            25.2841       1.0046                         2.70  ",
      "text/html": "<div>\n<style scoped>\n    .dataframe tbody tr th:only-of-type {\n        vertical-align: middle;\n    }\n\n    .dataframe tbody tr th {\n        vertical-align: top;\n    }\n\n    .dataframe thead th {\n        text-align: right;\n    }\n</style>\n<table border=\"1\" class=\"dataframe\">\n  <thead>\n    <tr style=\"text-align: right;\">\n      <th></th>\n      <th>Rank</th>\n      <th>CCA3</th>\n      <th>Country</th>\n      <th>Capital</th>\n      <th>Continent</th>\n      <th>2022 Population</th>\n      <th>2020 Population</th>\n      <th>2015 Population</th>\n      <th>2010 Population</th>\n      <th>2000 Population</th>\n      <th>1990 Population</th>\n      <th>1980 Population</th>\n      <th>1970 Population</th>\n      <th>Area (km²)</th>\n      <th>Density (per km²)</th>\n      <th>Growth Rate</th>\n      <th>World Population Percentage</th>\n    </tr>\n  </thead>\n  <tbody>\n    <tr>\n      <th>149</th>\n      <td>6</td>\n      <td>NGA</td>\n      <td>Nigeria</td>\n      <td>Abuja</td>\n      <td>Africa</td>\n      <td>2.185412e+08</td>\n      <td>2.083274e+08</td>\n      <td>1.839958e+08</td>\n      <td>1.609529e+08</td>\n      <td>1.228520e+08</td>\n      <td>9.521426e+07</td>\n      <td>72951439.0</td>\n      <td>55569264.0</td>\n      <td>923768.0</td>\n      <td>236.5759</td>\n      <td>1.0241</td>\n      <td>2.74</td>\n    </tr>\n    <tr>\n      <th>16</th>\n      <td>8</td>\n      <td>BGD</td>\n      <td>Bangladesh</td>\n      <td>Dhaka</td>\n      <td>Asia</td>\n      <td>1.711864e+08</td>\n      <td>1.674210e+08</td>\n      <td>1.578300e+08</td>\n      <td>1.483911e+08</td>\n      <td>1.291933e+08</td>\n      <td>1.071477e+08</td>\n      <td>83929765.0</td>\n      <td>67541860.0</td>\n      <td>147570.0</td>\n      <td>1160.0350</td>\n      <td>1.0108</td>\n      <td>2.15</td>\n    </tr>\n    <tr>\n      <th>41</th>\n      <td>1</td>\n      <td>CHN</td>\n      <td>China</td>\n      <td>Beijing</td>\n      <td>Asia</td>\n      <td>1.425887e+09</td>\n      <td>1.424930e+09</td>\n      <td>1.393715e+09</td>\n      <td>1.348191e+09</td>\n      <td>1.264099e+09</td>\n      <td>1.153704e+09</td>\n      <td>982372466.0</td>\n      <td>822534450.0</td>\n      <td>9706961.0</td>\n      <td>146.8933</td>\n      <td>1.0000</td>\n      <td>17.88</td>\n    </tr>\n    <tr>\n      <th>92</th>\n      <td>2</td>\n      <td>IND</td>\n      <td>India</td>\n      <td>New Delhi</td>\n      <td>Asia</td>\n      <td>1.417173e+09</td>\n      <td>1.396387e+09</td>\n      <td>1.322867e+09</td>\n      <td>1.240614e+09</td>\n      <td>1.059634e+09</td>\n      <td>NaN</td>\n      <td>NaN</td>\n      <td>557501301.0</td>\n      <td>3287590.0</td>\n      <td>431.0675</td>\n      <td>1.0068</td>\n      <td>17.77</td>\n    </tr>\n    <tr>\n      <th>93</th>\n      <td>4</td>\n      <td>IDN</td>\n      <td>Indonesia</td>\n      <td>Jakarta</td>\n      <td>Asia</td>\n      <td>2.755013e+08</td>\n      <td>2.718580e+08</td>\n      <td>2.590920e+08</td>\n      <td>2.440162e+08</td>\n      <td>2.140724e+08</td>\n      <td>1.821599e+08</td>\n      <td>148177096.0</td>\n      <td>115228394.0</td>\n      <td>1904569.0</td>\n      <td>144.6529</td>\n      <td>1.0064</td>\n      <td>3.45</td>\n    </tr>\n    <tr>\n      <th>156</th>\n      <td>5</td>\n      <td>PAK</td>\n      <td>Pakistan</td>\n      <td>Islamabad</td>\n      <td>Asia</td>\n      <td>2.358249e+08</td>\n      <td>2.271967e+08</td>\n      <td>2.109693e+08</td>\n      <td>1.944545e+08</td>\n      <td>1.543699e+08</td>\n      <td>1.154141e+08</td>\n      <td>80624057.0</td>\n      <td>59290872.0</td>\n      <td>881912.0</td>\n      <td>267.4018</td>\n      <td>1.0191</td>\n      <td>2.96</td>\n    </tr>\n    <tr>\n      <th>171</th>\n      <td>9</td>\n      <td>RUS</td>\n      <td>Russia</td>\n      <td>Moscow</td>\n      <td>Europe</td>\n      <td>1.447133e+08</td>\n      <td>1.456173e+08</td>\n      <td>1.446684e+08</td>\n      <td>1.432426e+08</td>\n      <td>1.468448e+08</td>\n      <td>1.480057e+08</td>\n      <td>138257420.0</td>\n      <td>130093010.0</td>\n      <td>17098242.0</td>\n      <td>8.4636</td>\n      <td>0.9973</td>\n      <td>1.81</td>\n    </tr>\n    <tr>\n      <th>221</th>\n      <td>3</td>\n      <td>USA</td>\n      <td>United States</td>\n      <td>Washington, D.C.</td>\n      <td>North America</td>\n      <td>3.382899e+08</td>\n      <td>3.359420e+08</td>\n      <td>3.246078e+08</td>\n      <td>3.111828e+08</td>\n      <td>2.823986e+08</td>\n      <td>2.480837e+08</td>\n      <td>223140018.0</td>\n      <td>200328340.0</td>\n      <td>9372610.0</td>\n      <td>36.0935</td>\n      <td>1.0038</td>\n      <td>4.24</td>\n    </tr>\n    <tr>\n      <th>27</th>\n      <td>7</td>\n      <td>BRA</td>\n      <td>Brazil</td>\n      <td>Brasilia</td>\n      <td>South America</td>\n      <td>2.153135e+08</td>\n      <td>2.131963e+08</td>\n      <td>2.051882e+08</td>\n      <td>1.963535e+08</td>\n      <td>1.758737e+08</td>\n      <td>1.507064e+08</td>\n      <td>122288383.0</td>\n      <td>96369875.0</td>\n      <td>8515767.0</td>\n      <td>25.2841</td>\n      <td>1.0046</td>\n      <td>2.70</td>\n    </tr>\n  </tbody>\n</table>\n</div>"
     },
     "execution_count": 14,
     "metadata": {},
     "output_type": "execute_result"
    }
   ],
   "source": [
    "df[df[\"Rank\"] < 10].sort_values(by = [\"Continent\",\"Country\"])"
   ],
   "metadata": {
    "collapsed": false,
    "ExecuteTime": {
     "end_time": "2024-05-01T23:31:06.298653Z",
     "start_time": "2024-05-01T23:31:06.282416Z"
    }
   },
   "id": "4771173e46b74f63",
   "execution_count": 14
  },
  {
   "cell_type": "markdown",
   "source": [
    "##### It's sorts ascending by default both. I can choose,separetely,Which one is ascends or descends."
   ],
   "metadata": {
    "collapsed": false
   },
   "id": "488cea0ed32f62f3"
  },
  {
   "cell_type": "markdown",
   "source": [
    "###### Down below, I sort them ascending by Continent and descending by name:"
   ],
   "metadata": {
    "collapsed": false
   },
   "id": "2ad35a7c609aa143"
  },
  {
   "cell_type": "code",
   "outputs": [
    {
     "data": {
      "text/plain": "     Rank CCA3        Country           Capital      Continent  \\\n149     6  NGA        Nigeria             Abuja         Africa   \n156     5  PAK       Pakistan         Islamabad           Asia   \n93      4  IDN      Indonesia           Jakarta           Asia   \n92      2  IND          India         New Delhi           Asia   \n41      1  CHN          China           Beijing           Asia   \n16      8  BGD     Bangladesh             Dhaka           Asia   \n171     9  RUS         Russia            Moscow         Europe   \n221     3  USA  United States  Washington, D.C.  North America   \n27      7  BRA         Brazil          Brasilia  South America   \n\n     2022 Population  2020 Population  2015 Population  2010 Population  \\\n149     2.185412e+08     2.083274e+08     1.839958e+08     1.609529e+08   \n156     2.358249e+08     2.271967e+08     2.109693e+08     1.944545e+08   \n93      2.755013e+08     2.718580e+08     2.590920e+08     2.440162e+08   \n92      1.417173e+09     1.396387e+09     1.322867e+09     1.240614e+09   \n41      1.425887e+09     1.424930e+09     1.393715e+09     1.348191e+09   \n16      1.711864e+08     1.674210e+08     1.578300e+08     1.483911e+08   \n171     1.447133e+08     1.456173e+08     1.446684e+08     1.432426e+08   \n221     3.382899e+08     3.359420e+08     3.246078e+08     3.111828e+08   \n27      2.153135e+08     2.131963e+08     2.051882e+08     1.963535e+08   \n\n     2000 Population  1990 Population  1980 Population  1970 Population  \\\n149     1.228520e+08     9.521426e+07       72951439.0       55569264.0   \n156     1.543699e+08     1.154141e+08       80624057.0       59290872.0   \n93      2.140724e+08     1.821599e+08      148177096.0      115228394.0   \n92      1.059634e+09              NaN              NaN      557501301.0   \n41      1.264099e+09     1.153704e+09      982372466.0      822534450.0   \n16      1.291933e+08     1.071477e+08       83929765.0       67541860.0   \n171     1.468448e+08     1.480057e+08      138257420.0      130093010.0   \n221     2.823986e+08     2.480837e+08      223140018.0      200328340.0   \n27      1.758737e+08     1.507064e+08      122288383.0       96369875.0   \n\n     Area (km²)  Density (per km²)  Growth Rate  World Population Percentage  \n149    923768.0           236.5759       1.0241                         2.74  \n156    881912.0           267.4018       1.0191                         2.96  \n93    1904569.0           144.6529       1.0064                         3.45  \n92    3287590.0           431.0675       1.0068                        17.77  \n41    9706961.0           146.8933       1.0000                        17.88  \n16     147570.0          1160.0350       1.0108                         2.15  \n171  17098242.0             8.4636       0.9973                         1.81  \n221   9372610.0            36.0935       1.0038                         4.24  \n27    8515767.0            25.2841       1.0046                         2.70  ",
      "text/html": "<div>\n<style scoped>\n    .dataframe tbody tr th:only-of-type {\n        vertical-align: middle;\n    }\n\n    .dataframe tbody tr th {\n        vertical-align: top;\n    }\n\n    .dataframe thead th {\n        text-align: right;\n    }\n</style>\n<table border=\"1\" class=\"dataframe\">\n  <thead>\n    <tr style=\"text-align: right;\">\n      <th></th>\n      <th>Rank</th>\n      <th>CCA3</th>\n      <th>Country</th>\n      <th>Capital</th>\n      <th>Continent</th>\n      <th>2022 Population</th>\n      <th>2020 Population</th>\n      <th>2015 Population</th>\n      <th>2010 Population</th>\n      <th>2000 Population</th>\n      <th>1990 Population</th>\n      <th>1980 Population</th>\n      <th>1970 Population</th>\n      <th>Area (km²)</th>\n      <th>Density (per km²)</th>\n      <th>Growth Rate</th>\n      <th>World Population Percentage</th>\n    </tr>\n  </thead>\n  <tbody>\n    <tr>\n      <th>149</th>\n      <td>6</td>\n      <td>NGA</td>\n      <td>Nigeria</td>\n      <td>Abuja</td>\n      <td>Africa</td>\n      <td>2.185412e+08</td>\n      <td>2.083274e+08</td>\n      <td>1.839958e+08</td>\n      <td>1.609529e+08</td>\n      <td>1.228520e+08</td>\n      <td>9.521426e+07</td>\n      <td>72951439.0</td>\n      <td>55569264.0</td>\n      <td>923768.0</td>\n      <td>236.5759</td>\n      <td>1.0241</td>\n      <td>2.74</td>\n    </tr>\n    <tr>\n      <th>156</th>\n      <td>5</td>\n      <td>PAK</td>\n      <td>Pakistan</td>\n      <td>Islamabad</td>\n      <td>Asia</td>\n      <td>2.358249e+08</td>\n      <td>2.271967e+08</td>\n      <td>2.109693e+08</td>\n      <td>1.944545e+08</td>\n      <td>1.543699e+08</td>\n      <td>1.154141e+08</td>\n      <td>80624057.0</td>\n      <td>59290872.0</td>\n      <td>881912.0</td>\n      <td>267.4018</td>\n      <td>1.0191</td>\n      <td>2.96</td>\n    </tr>\n    <tr>\n      <th>93</th>\n      <td>4</td>\n      <td>IDN</td>\n      <td>Indonesia</td>\n      <td>Jakarta</td>\n      <td>Asia</td>\n      <td>2.755013e+08</td>\n      <td>2.718580e+08</td>\n      <td>2.590920e+08</td>\n      <td>2.440162e+08</td>\n      <td>2.140724e+08</td>\n      <td>1.821599e+08</td>\n      <td>148177096.0</td>\n      <td>115228394.0</td>\n      <td>1904569.0</td>\n      <td>144.6529</td>\n      <td>1.0064</td>\n      <td>3.45</td>\n    </tr>\n    <tr>\n      <th>92</th>\n      <td>2</td>\n      <td>IND</td>\n      <td>India</td>\n      <td>New Delhi</td>\n      <td>Asia</td>\n      <td>1.417173e+09</td>\n      <td>1.396387e+09</td>\n      <td>1.322867e+09</td>\n      <td>1.240614e+09</td>\n      <td>1.059634e+09</td>\n      <td>NaN</td>\n      <td>NaN</td>\n      <td>557501301.0</td>\n      <td>3287590.0</td>\n      <td>431.0675</td>\n      <td>1.0068</td>\n      <td>17.77</td>\n    </tr>\n    <tr>\n      <th>41</th>\n      <td>1</td>\n      <td>CHN</td>\n      <td>China</td>\n      <td>Beijing</td>\n      <td>Asia</td>\n      <td>1.425887e+09</td>\n      <td>1.424930e+09</td>\n      <td>1.393715e+09</td>\n      <td>1.348191e+09</td>\n      <td>1.264099e+09</td>\n      <td>1.153704e+09</td>\n      <td>982372466.0</td>\n      <td>822534450.0</td>\n      <td>9706961.0</td>\n      <td>146.8933</td>\n      <td>1.0000</td>\n      <td>17.88</td>\n    </tr>\n    <tr>\n      <th>16</th>\n      <td>8</td>\n      <td>BGD</td>\n      <td>Bangladesh</td>\n      <td>Dhaka</td>\n      <td>Asia</td>\n      <td>1.711864e+08</td>\n      <td>1.674210e+08</td>\n      <td>1.578300e+08</td>\n      <td>1.483911e+08</td>\n      <td>1.291933e+08</td>\n      <td>1.071477e+08</td>\n      <td>83929765.0</td>\n      <td>67541860.0</td>\n      <td>147570.0</td>\n      <td>1160.0350</td>\n      <td>1.0108</td>\n      <td>2.15</td>\n    </tr>\n    <tr>\n      <th>171</th>\n      <td>9</td>\n      <td>RUS</td>\n      <td>Russia</td>\n      <td>Moscow</td>\n      <td>Europe</td>\n      <td>1.447133e+08</td>\n      <td>1.456173e+08</td>\n      <td>1.446684e+08</td>\n      <td>1.432426e+08</td>\n      <td>1.468448e+08</td>\n      <td>1.480057e+08</td>\n      <td>138257420.0</td>\n      <td>130093010.0</td>\n      <td>17098242.0</td>\n      <td>8.4636</td>\n      <td>0.9973</td>\n      <td>1.81</td>\n    </tr>\n    <tr>\n      <th>221</th>\n      <td>3</td>\n      <td>USA</td>\n      <td>United States</td>\n      <td>Washington, D.C.</td>\n      <td>North America</td>\n      <td>3.382899e+08</td>\n      <td>3.359420e+08</td>\n      <td>3.246078e+08</td>\n      <td>3.111828e+08</td>\n      <td>2.823986e+08</td>\n      <td>2.480837e+08</td>\n      <td>223140018.0</td>\n      <td>200328340.0</td>\n      <td>9372610.0</td>\n      <td>36.0935</td>\n      <td>1.0038</td>\n      <td>4.24</td>\n    </tr>\n    <tr>\n      <th>27</th>\n      <td>7</td>\n      <td>BRA</td>\n      <td>Brazil</td>\n      <td>Brasilia</td>\n      <td>South America</td>\n      <td>2.153135e+08</td>\n      <td>2.131963e+08</td>\n      <td>2.051882e+08</td>\n      <td>1.963535e+08</td>\n      <td>1.758737e+08</td>\n      <td>1.507064e+08</td>\n      <td>122288383.0</td>\n      <td>96369875.0</td>\n      <td>8515767.0</td>\n      <td>25.2841</td>\n      <td>1.0046</td>\n      <td>2.70</td>\n    </tr>\n  </tbody>\n</table>\n</div>"
     },
     "execution_count": 15,
     "metadata": {},
     "output_type": "execute_result"
    }
   ],
   "source": [
    "df[df[\"Rank\"] < 10].sort_values(by = [\"Continent\",\"Country\"],ascending=[True,False])"
   ],
   "metadata": {
    "collapsed": false,
    "ExecuteTime": {
     "end_time": "2024-05-01T23:33:52.488275Z",
     "start_time": "2024-05-01T23:33:52.470275Z"
    }
   },
   "id": "ec2c57ff8bb86272",
   "execution_count": 15
  },
  {
   "cell_type": "code",
   "outputs": [],
   "source": [],
   "metadata": {
    "collapsed": false
   },
   "id": "a11a211634f25a7e"
  }
 ],
 "metadata": {
  "kernelspec": {
   "display_name": "Python 3",
   "language": "python",
   "name": "python3"
  },
  "language_info": {
   "codemirror_mode": {
    "name": "ipython",
    "version": 2
   },
   "file_extension": ".py",
   "mimetype": "text/x-python",
   "name": "python",
   "nbconvert_exporter": "python",
   "pygments_lexer": "ipython2",
   "version": "2.7.6"
  }
 },
 "nbformat": 4,
 "nbformat_minor": 5
}
