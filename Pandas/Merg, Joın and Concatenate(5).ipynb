{
 "cells": [
  {
   "cell_type": "code",
   "outputs": [],
   "source": [
    "import pandas as pd"
   ],
   "metadata": {
    "collapsed": false,
    "ExecuteTime": {
     "end_time": "2024-05-09T10:46:18.228765Z",
     "start_time": "2024-05-09T10:46:18.226011Z"
    }
   },
   "id": "4573eb6296cd9e25",
   "execution_count": 54
  },
  {
   "cell_type": "markdown",
   "source": [
    "Read in and assigning csv files:"
   ],
   "metadata": {
    "collapsed": false
   },
   "id": "170997c43cb0a037"
  },
  {
   "cell_type": "code",
   "outputs": [
    {
     "data": {
      "text/plain": "   FellowshipID FirstName     Skills\n0          1001     Frodo     Hiding\n1          1002   Samwise  Gardening\n2          1003   Gandalf     Spells\n3          1004    Pippin  Fireworks",
      "text/html": "<div>\n<style scoped>\n    .dataframe tbody tr th:only-of-type {\n        vertical-align: middle;\n    }\n\n    .dataframe tbody tr th {\n        vertical-align: top;\n    }\n\n    .dataframe thead th {\n        text-align: right;\n    }\n</style>\n<table border=\"1\" class=\"dataframe\">\n  <thead>\n    <tr style=\"text-align: right;\">\n      <th></th>\n      <th>FellowshipID</th>\n      <th>FirstName</th>\n      <th>Skills</th>\n    </tr>\n  </thead>\n  <tbody>\n    <tr>\n      <th>0</th>\n      <td>1001</td>\n      <td>Frodo</td>\n      <td>Hiding</td>\n    </tr>\n    <tr>\n      <th>1</th>\n      <td>1002</td>\n      <td>Samwise</td>\n      <td>Gardening</td>\n    </tr>\n    <tr>\n      <th>2</th>\n      <td>1003</td>\n      <td>Gandalf</td>\n      <td>Spells</td>\n    </tr>\n    <tr>\n      <th>3</th>\n      <td>1004</td>\n      <td>Pippin</td>\n      <td>Fireworks</td>\n    </tr>\n  </tbody>\n</table>\n</div>"
     },
     "execution_count": 55,
     "metadata": {},
     "output_type": "execute_result"
    }
   ],
   "source": [
    "df1 = pd.read_csv(r'C:\\Users\\akpin\\PycharmProjects\\Pandas\\LOTR1.csv')\n",
    "df1"
   ],
   "metadata": {
    "collapsed": false,
    "ExecuteTime": {
     "end_time": "2024-05-09T10:46:19.427271Z",
     "start_time": "2024-05-09T10:46:19.420264Z"
    }
   },
   "id": "2290dc4a0766405b",
   "execution_count": 55
  },
  {
   "cell_type": "code",
   "outputs": [
    {
     "data": {
      "text/plain": "   FellowshipID FirstName   Age\n0          1001     Frodo    50\n1          1002   Samwise    39\n2          1006   Legolas  2931\n3          1007    Elrond  6520\n4          1008  Barromir    51",
      "text/html": "<div>\n<style scoped>\n    .dataframe tbody tr th:only-of-type {\n        vertical-align: middle;\n    }\n\n    .dataframe tbody tr th {\n        vertical-align: top;\n    }\n\n    .dataframe thead th {\n        text-align: right;\n    }\n</style>\n<table border=\"1\" class=\"dataframe\">\n  <thead>\n    <tr style=\"text-align: right;\">\n      <th></th>\n      <th>FellowshipID</th>\n      <th>FirstName</th>\n      <th>Age</th>\n    </tr>\n  </thead>\n  <tbody>\n    <tr>\n      <th>0</th>\n      <td>1001</td>\n      <td>Frodo</td>\n      <td>50</td>\n    </tr>\n    <tr>\n      <th>1</th>\n      <td>1002</td>\n      <td>Samwise</td>\n      <td>39</td>\n    </tr>\n    <tr>\n      <th>2</th>\n      <td>1006</td>\n      <td>Legolas</td>\n      <td>2931</td>\n    </tr>\n    <tr>\n      <th>3</th>\n      <td>1007</td>\n      <td>Elrond</td>\n      <td>6520</td>\n    </tr>\n    <tr>\n      <th>4</th>\n      <td>1008</td>\n      <td>Barromir</td>\n      <td>51</td>\n    </tr>\n  </tbody>\n</table>\n</div>"
     },
     "execution_count": 56,
     "metadata": {},
     "output_type": "execute_result"
    }
   ],
   "source": [
    "df2 = pd.read_csv(r\"C:\\Users\\akpin\\PycharmProjects\\Pandas\\LOTR 2.csv\")\n",
    "df2"
   ],
   "metadata": {
    "collapsed": false,
    "ExecuteTime": {
     "end_time": "2024-05-09T10:46:20.010052Z",
     "start_time": "2024-05-09T10:46:20.001873Z"
    }
   },
   "id": "77f40c5d898b6c52",
   "execution_count": 56
  },
  {
   "cell_type": "markdown",
   "source": [
    "## Merge"
   ],
   "metadata": {
    "collapsed": false
   },
   "id": "59b6d396702d8955"
  },
  {
   "cell_type": "code",
   "outputs": [
    {
     "data": {
      "text/plain": "   FellowshipID FirstName     Skills  Age\n0          1001     Frodo     Hiding   50\n1          1002   Samwise  Gardening   39",
      "text/html": "<div>\n<style scoped>\n    .dataframe tbody tr th:only-of-type {\n        vertical-align: middle;\n    }\n\n    .dataframe tbody tr th {\n        vertical-align: top;\n    }\n\n    .dataframe thead th {\n        text-align: right;\n    }\n</style>\n<table border=\"1\" class=\"dataframe\">\n  <thead>\n    <tr style=\"text-align: right;\">\n      <th></th>\n      <th>FellowshipID</th>\n      <th>FirstName</th>\n      <th>Skills</th>\n      <th>Age</th>\n    </tr>\n  </thead>\n  <tbody>\n    <tr>\n      <th>0</th>\n      <td>1001</td>\n      <td>Frodo</td>\n      <td>Hiding</td>\n      <td>50</td>\n    </tr>\n    <tr>\n      <th>1</th>\n      <td>1002</td>\n      <td>Samwise</td>\n      <td>Gardening</td>\n      <td>39</td>\n    </tr>\n  </tbody>\n</table>\n</div>"
     },
     "execution_count": 57,
     "metadata": {},
     "output_type": "execute_result"
    }
   ],
   "source": [
    "df1.merge(df2)"
   ],
   "metadata": {
    "collapsed": false,
    "ExecuteTime": {
     "end_time": "2024-05-09T10:46:21.295794Z",
     "start_time": "2024-05-09T10:46:21.288266Z"
    }
   },
   "id": "77339bf52b575182",
   "execution_count": 57
  },
  {
   "cell_type": "markdown",
   "source": [
    "###### data type; 'how' and declaration;'on'"
   ],
   "metadata": {
    "collapsed": false
   },
   "id": "3c5eef2321a6274f"
  },
  {
   "cell_type": "code",
   "outputs": [
    {
     "data": {
      "text/plain": "   FellowshipID FirstName_x     Skills FirstName_y  Age\n0          1001       Frodo     Hiding       Frodo   50\n1          1002     Samwise  Gardening     Samwise   39",
      "text/html": "<div>\n<style scoped>\n    .dataframe tbody tr th:only-of-type {\n        vertical-align: middle;\n    }\n\n    .dataframe tbody tr th {\n        vertical-align: top;\n    }\n\n    .dataframe thead th {\n        text-align: right;\n    }\n</style>\n<table border=\"1\" class=\"dataframe\">\n  <thead>\n    <tr style=\"text-align: right;\">\n      <th></th>\n      <th>FellowshipID</th>\n      <th>FirstName_x</th>\n      <th>Skills</th>\n      <th>FirstName_y</th>\n      <th>Age</th>\n    </tr>\n  </thead>\n  <tbody>\n    <tr>\n      <th>0</th>\n      <td>1001</td>\n      <td>Frodo</td>\n      <td>Hiding</td>\n      <td>Frodo</td>\n      <td>50</td>\n    </tr>\n    <tr>\n      <th>1</th>\n      <td>1002</td>\n      <td>Samwise</td>\n      <td>Gardening</td>\n      <td>Samwise</td>\n      <td>39</td>\n    </tr>\n  </tbody>\n</table>\n</div>"
     },
     "execution_count": 58,
     "metadata": {},
     "output_type": "execute_result"
    }
   ],
   "source": [
    "df1.merge(df2, how = \"inner\", on = \"FellowshipID\")"
   ],
   "metadata": {
    "collapsed": false,
    "ExecuteTime": {
     "end_time": "2024-05-09T10:46:23.639610Z",
     "start_time": "2024-05-09T10:46:23.632096Z"
    }
   },
   "id": "f11bd15f3dc88cda",
   "execution_count": 58
  },
  {
   "cell_type": "code",
   "outputs": [
    {
     "data": {
      "text/plain": "   FellowshipID_x FirstName     Skills  FellowshipID_y  Age\n0            1001     Frodo     Hiding            1001   50\n1            1002   Samwise  Gardening            1002   39",
      "text/html": "<div>\n<style scoped>\n    .dataframe tbody tr th:only-of-type {\n        vertical-align: middle;\n    }\n\n    .dataframe tbody tr th {\n        vertical-align: top;\n    }\n\n    .dataframe thead th {\n        text-align: right;\n    }\n</style>\n<table border=\"1\" class=\"dataframe\">\n  <thead>\n    <tr style=\"text-align: right;\">\n      <th></th>\n      <th>FellowshipID_x</th>\n      <th>FirstName</th>\n      <th>Skills</th>\n      <th>FellowshipID_y</th>\n      <th>Age</th>\n    </tr>\n  </thead>\n  <tbody>\n    <tr>\n      <th>0</th>\n      <td>1001</td>\n      <td>Frodo</td>\n      <td>Hiding</td>\n      <td>1001</td>\n      <td>50</td>\n    </tr>\n    <tr>\n      <th>1</th>\n      <td>1002</td>\n      <td>Samwise</td>\n      <td>Gardening</td>\n      <td>1002</td>\n      <td>39</td>\n    </tr>\n  </tbody>\n</table>\n</div>"
     },
     "execution_count": 59,
     "metadata": {},
     "output_type": "execute_result"
    }
   ],
   "source": [
    "df1.merge(df2, how = \"inner\", on = \"FirstName\")"
   ],
   "metadata": {
    "collapsed": false,
    "ExecuteTime": {
     "end_time": "2024-05-09T10:46:24.487342Z",
     "start_time": "2024-05-09T10:46:24.479342Z"
    }
   },
   "id": "77de72bdd6366b56",
   "execution_count": 59
  },
  {
   "cell_type": "markdown",
   "source": [
    "### Merging on multiple columns:"
   ],
   "metadata": {
    "collapsed": false
   },
   "id": "525012df793c3aab"
  },
  {
   "cell_type": "code",
   "outputs": [
    {
     "data": {
      "text/plain": "   FellowshipID FirstName     Skills  Age\n0          1001     Frodo     Hiding   50\n1          1002   Samwise  Gardening   39",
      "text/html": "<div>\n<style scoped>\n    .dataframe tbody tr th:only-of-type {\n        vertical-align: middle;\n    }\n\n    .dataframe tbody tr th {\n        vertical-align: top;\n    }\n\n    .dataframe thead th {\n        text-align: right;\n    }\n</style>\n<table border=\"1\" class=\"dataframe\">\n  <thead>\n    <tr style=\"text-align: right;\">\n      <th></th>\n      <th>FellowshipID</th>\n      <th>FirstName</th>\n      <th>Skills</th>\n      <th>Age</th>\n    </tr>\n  </thead>\n  <tbody>\n    <tr>\n      <th>0</th>\n      <td>1001</td>\n      <td>Frodo</td>\n      <td>Hiding</td>\n      <td>50</td>\n    </tr>\n    <tr>\n      <th>1</th>\n      <td>1002</td>\n      <td>Samwise</td>\n      <td>Gardening</td>\n      <td>39</td>\n    </tr>\n  </tbody>\n</table>\n</div>"
     },
     "execution_count": 60,
     "metadata": {},
     "output_type": "execute_result"
    }
   ],
   "source": [
    "df1.merge(df2, how = \"inner\", on = [\"FellowshipID\",\"FirstName\"])"
   ],
   "metadata": {
    "collapsed": false,
    "ExecuteTime": {
     "end_time": "2024-05-09T10:46:26.559542Z",
     "start_time": "2024-05-09T10:46:26.552010Z"
    }
   },
   "id": "563a8e154e392f01",
   "execution_count": 60
  },
  {
   "cell_type": "markdown",
   "source": [
    "#### Outer merge:"
   ],
   "metadata": {
    "collapsed": false
   },
   "id": "3d31364680756dea"
  },
  {
   "cell_type": "code",
   "outputs": [
    {
     "data": {
      "text/plain": "   FellowshipID FirstName     Skills     Age\n0          1001     Frodo     Hiding    50.0\n1          1002   Samwise  Gardening    39.0\n2          1003   Gandalf     Spells     NaN\n3          1004    Pippin  Fireworks     NaN\n4          1006   Legolas        NaN  2931.0\n5          1007    Elrond        NaN  6520.0\n6          1008  Barromir        NaN    51.0",
      "text/html": "<div>\n<style scoped>\n    .dataframe tbody tr th:only-of-type {\n        vertical-align: middle;\n    }\n\n    .dataframe tbody tr th {\n        vertical-align: top;\n    }\n\n    .dataframe thead th {\n        text-align: right;\n    }\n</style>\n<table border=\"1\" class=\"dataframe\">\n  <thead>\n    <tr style=\"text-align: right;\">\n      <th></th>\n      <th>FellowshipID</th>\n      <th>FirstName</th>\n      <th>Skills</th>\n      <th>Age</th>\n    </tr>\n  </thead>\n  <tbody>\n    <tr>\n      <th>0</th>\n      <td>1001</td>\n      <td>Frodo</td>\n      <td>Hiding</td>\n      <td>50.0</td>\n    </tr>\n    <tr>\n      <th>1</th>\n      <td>1002</td>\n      <td>Samwise</td>\n      <td>Gardening</td>\n      <td>39.0</td>\n    </tr>\n    <tr>\n      <th>2</th>\n      <td>1003</td>\n      <td>Gandalf</td>\n      <td>Spells</td>\n      <td>NaN</td>\n    </tr>\n    <tr>\n      <th>3</th>\n      <td>1004</td>\n      <td>Pippin</td>\n      <td>Fireworks</td>\n      <td>NaN</td>\n    </tr>\n    <tr>\n      <th>4</th>\n      <td>1006</td>\n      <td>Legolas</td>\n      <td>NaN</td>\n      <td>2931.0</td>\n    </tr>\n    <tr>\n      <th>5</th>\n      <td>1007</td>\n      <td>Elrond</td>\n      <td>NaN</td>\n      <td>6520.0</td>\n    </tr>\n    <tr>\n      <th>6</th>\n      <td>1008</td>\n      <td>Barromir</td>\n      <td>NaN</td>\n      <td>51.0</td>\n    </tr>\n  </tbody>\n</table>\n</div>"
     },
     "execution_count": 61,
     "metadata": {},
     "output_type": "execute_result"
    }
   ],
   "source": [
    "df1.merge(df2, how = \"outer\")"
   ],
   "metadata": {
    "collapsed": false,
    "ExecuteTime": {
     "end_time": "2024-05-09T10:46:29.122535Z",
     "start_time": "2024-05-09T10:46:29.114063Z"
    }
   },
   "id": "4c41a9723563db20",
   "execution_count": 61
  },
  {
   "cell_type": "markdown",
   "source": [
    "#### Left merge:"
   ],
   "metadata": {
    "collapsed": false
   },
   "id": "904021861d7a8b58"
  },
  {
   "cell_type": "code",
   "outputs": [
    {
     "data": {
      "text/plain": "   FellowshipID FirstName     Skills   Age\n0          1001     Frodo     Hiding  50.0\n1          1002   Samwise  Gardening  39.0\n2          1003   Gandalf     Spells   NaN\n3          1004    Pippin  Fireworks   NaN",
      "text/html": "<div>\n<style scoped>\n    .dataframe tbody tr th:only-of-type {\n        vertical-align: middle;\n    }\n\n    .dataframe tbody tr th {\n        vertical-align: top;\n    }\n\n    .dataframe thead th {\n        text-align: right;\n    }\n</style>\n<table border=\"1\" class=\"dataframe\">\n  <thead>\n    <tr style=\"text-align: right;\">\n      <th></th>\n      <th>FellowshipID</th>\n      <th>FirstName</th>\n      <th>Skills</th>\n      <th>Age</th>\n    </tr>\n  </thead>\n  <tbody>\n    <tr>\n      <th>0</th>\n      <td>1001</td>\n      <td>Frodo</td>\n      <td>Hiding</td>\n      <td>50.0</td>\n    </tr>\n    <tr>\n      <th>1</th>\n      <td>1002</td>\n      <td>Samwise</td>\n      <td>Gardening</td>\n      <td>39.0</td>\n    </tr>\n    <tr>\n      <th>2</th>\n      <td>1003</td>\n      <td>Gandalf</td>\n      <td>Spells</td>\n      <td>NaN</td>\n    </tr>\n    <tr>\n      <th>3</th>\n      <td>1004</td>\n      <td>Pippin</td>\n      <td>Fireworks</td>\n      <td>NaN</td>\n    </tr>\n  </tbody>\n</table>\n</div>"
     },
     "execution_count": 62,
     "metadata": {},
     "output_type": "execute_result"
    }
   ],
   "source": [
    "df1.merge(df2, how = \"left\")"
   ],
   "metadata": {
    "collapsed": false,
    "ExecuteTime": {
     "end_time": "2024-05-09T10:46:31.024815Z",
     "start_time": "2024-05-09T10:46:31.018205Z"
    }
   },
   "id": "549d0762a15557b3",
   "execution_count": 62
  },
  {
   "cell_type": "markdown",
   "source": [
    "#### Right merge:"
   ],
   "metadata": {
    "collapsed": false
   },
   "id": "61e07935ac06c96b"
  },
  {
   "cell_type": "code",
   "outputs": [
    {
     "data": {
      "text/plain": "   FellowshipID FirstName     Skills   Age\n0          1001     Frodo     Hiding    50\n1          1002   Samwise  Gardening    39\n2          1006   Legolas        NaN  2931\n3          1007    Elrond        NaN  6520\n4          1008  Barromir        NaN    51",
      "text/html": "<div>\n<style scoped>\n    .dataframe tbody tr th:only-of-type {\n        vertical-align: middle;\n    }\n\n    .dataframe tbody tr th {\n        vertical-align: top;\n    }\n\n    .dataframe thead th {\n        text-align: right;\n    }\n</style>\n<table border=\"1\" class=\"dataframe\">\n  <thead>\n    <tr style=\"text-align: right;\">\n      <th></th>\n      <th>FellowshipID</th>\n      <th>FirstName</th>\n      <th>Skills</th>\n      <th>Age</th>\n    </tr>\n  </thead>\n  <tbody>\n    <tr>\n      <th>0</th>\n      <td>1001</td>\n      <td>Frodo</td>\n      <td>Hiding</td>\n      <td>50</td>\n    </tr>\n    <tr>\n      <th>1</th>\n      <td>1002</td>\n      <td>Samwise</td>\n      <td>Gardening</td>\n      <td>39</td>\n    </tr>\n    <tr>\n      <th>2</th>\n      <td>1006</td>\n      <td>Legolas</td>\n      <td>NaN</td>\n      <td>2931</td>\n    </tr>\n    <tr>\n      <th>3</th>\n      <td>1007</td>\n      <td>Elrond</td>\n      <td>NaN</td>\n      <td>6520</td>\n    </tr>\n    <tr>\n      <th>4</th>\n      <td>1008</td>\n      <td>Barromir</td>\n      <td>NaN</td>\n      <td>51</td>\n    </tr>\n  </tbody>\n</table>\n</div>"
     },
     "execution_count": 63,
     "metadata": {},
     "output_type": "execute_result"
    }
   ],
   "source": [
    "df1.merge(df2, how = \"right\")"
   ],
   "metadata": {
    "collapsed": false,
    "ExecuteTime": {
     "end_time": "2024-05-09T10:46:32.553828Z",
     "start_time": "2024-05-09T10:46:32.545787Z"
    }
   },
   "id": "2c659e373ae1d526",
   "execution_count": 63
  },
  {
   "cell_type": "markdown",
   "source": [
    "#### Cross merge:"
   ],
   "metadata": {
    "collapsed": false
   },
   "id": "90bb3151c0247baa"
  },
  {
   "cell_type": "code",
   "outputs": [
    {
     "data": {
      "text/plain": "    FellowshipID_x FirstName_x     Skills  FellowshipID_y FirstName_y   Age\n0             1001       Frodo     Hiding            1001       Frodo    50\n1             1001       Frodo     Hiding            1002     Samwise    39\n2             1001       Frodo     Hiding            1006     Legolas  2931\n3             1001       Frodo     Hiding            1007      Elrond  6520\n4             1001       Frodo     Hiding            1008    Barromir    51\n5             1002     Samwise  Gardening            1001       Frodo    50\n6             1002     Samwise  Gardening            1002     Samwise    39\n7             1002     Samwise  Gardening            1006     Legolas  2931\n8             1002     Samwise  Gardening            1007      Elrond  6520\n9             1002     Samwise  Gardening            1008    Barromir    51\n10            1003     Gandalf     Spells            1001       Frodo    50\n11            1003     Gandalf     Spells            1002     Samwise    39\n12            1003     Gandalf     Spells            1006     Legolas  2931\n13            1003     Gandalf     Spells            1007      Elrond  6520\n14            1003     Gandalf     Spells            1008    Barromir    51\n15            1004      Pippin  Fireworks            1001       Frodo    50\n16            1004      Pippin  Fireworks            1002     Samwise    39\n17            1004      Pippin  Fireworks            1006     Legolas  2931\n18            1004      Pippin  Fireworks            1007      Elrond  6520\n19            1004      Pippin  Fireworks            1008    Barromir    51",
      "text/html": "<div>\n<style scoped>\n    .dataframe tbody tr th:only-of-type {\n        vertical-align: middle;\n    }\n\n    .dataframe tbody tr th {\n        vertical-align: top;\n    }\n\n    .dataframe thead th {\n        text-align: right;\n    }\n</style>\n<table border=\"1\" class=\"dataframe\">\n  <thead>\n    <tr style=\"text-align: right;\">\n      <th></th>\n      <th>FellowshipID_x</th>\n      <th>FirstName_x</th>\n      <th>Skills</th>\n      <th>FellowshipID_y</th>\n      <th>FirstName_y</th>\n      <th>Age</th>\n    </tr>\n  </thead>\n  <tbody>\n    <tr>\n      <th>0</th>\n      <td>1001</td>\n      <td>Frodo</td>\n      <td>Hiding</td>\n      <td>1001</td>\n      <td>Frodo</td>\n      <td>50</td>\n    </tr>\n    <tr>\n      <th>1</th>\n      <td>1001</td>\n      <td>Frodo</td>\n      <td>Hiding</td>\n      <td>1002</td>\n      <td>Samwise</td>\n      <td>39</td>\n    </tr>\n    <tr>\n      <th>2</th>\n      <td>1001</td>\n      <td>Frodo</td>\n      <td>Hiding</td>\n      <td>1006</td>\n      <td>Legolas</td>\n      <td>2931</td>\n    </tr>\n    <tr>\n      <th>3</th>\n      <td>1001</td>\n      <td>Frodo</td>\n      <td>Hiding</td>\n      <td>1007</td>\n      <td>Elrond</td>\n      <td>6520</td>\n    </tr>\n    <tr>\n      <th>4</th>\n      <td>1001</td>\n      <td>Frodo</td>\n      <td>Hiding</td>\n      <td>1008</td>\n      <td>Barromir</td>\n      <td>51</td>\n    </tr>\n    <tr>\n      <th>5</th>\n      <td>1002</td>\n      <td>Samwise</td>\n      <td>Gardening</td>\n      <td>1001</td>\n      <td>Frodo</td>\n      <td>50</td>\n    </tr>\n    <tr>\n      <th>6</th>\n      <td>1002</td>\n      <td>Samwise</td>\n      <td>Gardening</td>\n      <td>1002</td>\n      <td>Samwise</td>\n      <td>39</td>\n    </tr>\n    <tr>\n      <th>7</th>\n      <td>1002</td>\n      <td>Samwise</td>\n      <td>Gardening</td>\n      <td>1006</td>\n      <td>Legolas</td>\n      <td>2931</td>\n    </tr>\n    <tr>\n      <th>8</th>\n      <td>1002</td>\n      <td>Samwise</td>\n      <td>Gardening</td>\n      <td>1007</td>\n      <td>Elrond</td>\n      <td>6520</td>\n    </tr>\n    <tr>\n      <th>9</th>\n      <td>1002</td>\n      <td>Samwise</td>\n      <td>Gardening</td>\n      <td>1008</td>\n      <td>Barromir</td>\n      <td>51</td>\n    </tr>\n    <tr>\n      <th>10</th>\n      <td>1003</td>\n      <td>Gandalf</td>\n      <td>Spells</td>\n      <td>1001</td>\n      <td>Frodo</td>\n      <td>50</td>\n    </tr>\n    <tr>\n      <th>11</th>\n      <td>1003</td>\n      <td>Gandalf</td>\n      <td>Spells</td>\n      <td>1002</td>\n      <td>Samwise</td>\n      <td>39</td>\n    </tr>\n    <tr>\n      <th>12</th>\n      <td>1003</td>\n      <td>Gandalf</td>\n      <td>Spells</td>\n      <td>1006</td>\n      <td>Legolas</td>\n      <td>2931</td>\n    </tr>\n    <tr>\n      <th>13</th>\n      <td>1003</td>\n      <td>Gandalf</td>\n      <td>Spells</td>\n      <td>1007</td>\n      <td>Elrond</td>\n      <td>6520</td>\n    </tr>\n    <tr>\n      <th>14</th>\n      <td>1003</td>\n      <td>Gandalf</td>\n      <td>Spells</td>\n      <td>1008</td>\n      <td>Barromir</td>\n      <td>51</td>\n    </tr>\n    <tr>\n      <th>15</th>\n      <td>1004</td>\n      <td>Pippin</td>\n      <td>Fireworks</td>\n      <td>1001</td>\n      <td>Frodo</td>\n      <td>50</td>\n    </tr>\n    <tr>\n      <th>16</th>\n      <td>1004</td>\n      <td>Pippin</td>\n      <td>Fireworks</td>\n      <td>1002</td>\n      <td>Samwise</td>\n      <td>39</td>\n    </tr>\n    <tr>\n      <th>17</th>\n      <td>1004</td>\n      <td>Pippin</td>\n      <td>Fireworks</td>\n      <td>1006</td>\n      <td>Legolas</td>\n      <td>2931</td>\n    </tr>\n    <tr>\n      <th>18</th>\n      <td>1004</td>\n      <td>Pippin</td>\n      <td>Fireworks</td>\n      <td>1007</td>\n      <td>Elrond</td>\n      <td>6520</td>\n    </tr>\n    <tr>\n      <th>19</th>\n      <td>1004</td>\n      <td>Pippin</td>\n      <td>Fireworks</td>\n      <td>1008</td>\n      <td>Barromir</td>\n      <td>51</td>\n    </tr>\n  </tbody>\n</table>\n</div>"
     },
     "execution_count": 64,
     "metadata": {},
     "output_type": "execute_result"
    }
   ],
   "source": [
    "df1.merge(df2, how = \"cross\")"
   ],
   "metadata": {
    "collapsed": false,
    "ExecuteTime": {
     "end_time": "2024-05-09T10:46:33.778424Z",
     "start_time": "2024-05-09T10:46:33.769798Z"
    }
   },
   "id": "b66eea5eeec294c6",
   "execution_count": 64
  },
  {
   "cell_type": "markdown",
   "source": [
    "## Join"
   ],
   "metadata": {
    "collapsed": false
   },
   "id": "a066528db58ba3fa"
  },
  {
   "cell_type": "markdown",
   "source": [
    "##### in merge we had a lot of defaults but here we do not. We need to set them by hand."
   ],
   "metadata": {
    "collapsed": false
   },
   "id": "1af8852c595e584c"
  },
  {
   "cell_type": "code",
   "outputs": [
    {
     "data": {
      "text/plain": "     FellowshipID  FellowshipID_left FirstName_left     Skills  \\\nNaN             0                NaN            NaN        NaN   \nNaN             1                NaN            NaN        NaN   \nNaN             2                NaN            NaN        NaN   \nNaN             3                NaN            NaN        NaN   \nNaN             4                NaN            NaN        NaN   \n0.0          1001             1001.0          Frodo     Hiding   \n1.0          1002             1002.0        Samwise  Gardening   \n2.0          1003             1003.0        Gandalf     Spells   \n3.0          1004             1004.0         Pippin  Fireworks   \n\n     FellowshipID_right FirstName_right     Age  \nNaN              1001.0           Frodo    50.0  \nNaN              1002.0         Samwise    39.0  \nNaN              1006.0         Legolas  2931.0  \nNaN              1007.0          Elrond  6520.0  \nNaN              1008.0        Barromir    51.0  \n0.0                 NaN             NaN     NaN  \n1.0                 NaN             NaN     NaN  \n2.0                 NaN             NaN     NaN  \n3.0                 NaN             NaN     NaN  ",
      "text/html": "<div>\n<style scoped>\n    .dataframe tbody tr th:only-of-type {\n        vertical-align: middle;\n    }\n\n    .dataframe tbody tr th {\n        vertical-align: top;\n    }\n\n    .dataframe thead th {\n        text-align: right;\n    }\n</style>\n<table border=\"1\" class=\"dataframe\">\n  <thead>\n    <tr style=\"text-align: right;\">\n      <th></th>\n      <th>FellowshipID</th>\n      <th>FellowshipID_left</th>\n      <th>FirstName_left</th>\n      <th>Skills</th>\n      <th>FellowshipID_right</th>\n      <th>FirstName_right</th>\n      <th>Age</th>\n    </tr>\n  </thead>\n  <tbody>\n    <tr>\n      <th>NaN</th>\n      <td>0</td>\n      <td>NaN</td>\n      <td>NaN</td>\n      <td>NaN</td>\n      <td>1001.0</td>\n      <td>Frodo</td>\n      <td>50.0</td>\n    </tr>\n    <tr>\n      <th>NaN</th>\n      <td>1</td>\n      <td>NaN</td>\n      <td>NaN</td>\n      <td>NaN</td>\n      <td>1002.0</td>\n      <td>Samwise</td>\n      <td>39.0</td>\n    </tr>\n    <tr>\n      <th>NaN</th>\n      <td>2</td>\n      <td>NaN</td>\n      <td>NaN</td>\n      <td>NaN</td>\n      <td>1006.0</td>\n      <td>Legolas</td>\n      <td>2931.0</td>\n    </tr>\n    <tr>\n      <th>NaN</th>\n      <td>3</td>\n      <td>NaN</td>\n      <td>NaN</td>\n      <td>NaN</td>\n      <td>1007.0</td>\n      <td>Elrond</td>\n      <td>6520.0</td>\n    </tr>\n    <tr>\n      <th>NaN</th>\n      <td>4</td>\n      <td>NaN</td>\n      <td>NaN</td>\n      <td>NaN</td>\n      <td>1008.0</td>\n      <td>Barromir</td>\n      <td>51.0</td>\n    </tr>\n    <tr>\n      <th>0.0</th>\n      <td>1001</td>\n      <td>1001.0</td>\n      <td>Frodo</td>\n      <td>Hiding</td>\n      <td>NaN</td>\n      <td>NaN</td>\n      <td>NaN</td>\n    </tr>\n    <tr>\n      <th>1.0</th>\n      <td>1002</td>\n      <td>1002.0</td>\n      <td>Samwise</td>\n      <td>Gardening</td>\n      <td>NaN</td>\n      <td>NaN</td>\n      <td>NaN</td>\n    </tr>\n    <tr>\n      <th>2.0</th>\n      <td>1003</td>\n      <td>1003.0</td>\n      <td>Gandalf</td>\n      <td>Spells</td>\n      <td>NaN</td>\n      <td>NaN</td>\n      <td>NaN</td>\n    </tr>\n    <tr>\n      <th>3.0</th>\n      <td>1004</td>\n      <td>1004.0</td>\n      <td>Pippin</td>\n      <td>Fireworks</td>\n      <td>NaN</td>\n      <td>NaN</td>\n      <td>NaN</td>\n    </tr>\n  </tbody>\n</table>\n</div>"
     },
     "execution_count": 65,
     "metadata": {},
     "output_type": "execute_result"
    }
   ],
   "source": [
    "df1.join(df2, on = \"FellowshipID\",how = \"outer\", lsuffix = \"_left\", rsuffix = \"_right\")"
   ],
   "metadata": {
    "collapsed": false,
    "ExecuteTime": {
     "end_time": "2024-05-09T10:46:37.232713Z",
     "start_time": "2024-05-09T10:46:37.222341Z"
    }
   },
   "id": "7e48bd15a49b9de1",
   "execution_count": 65
  },
  {
   "cell_type": "markdown",
   "source": [
    "##### It's not working well with names. We need to use index."
   ],
   "metadata": {
    "collapsed": false
   },
   "id": "1bf05d4913c61442"
  },
  {
   "cell_type": "code",
   "outputs": [
    {
     "data": {
      "text/plain": "             FirstName_left     Skills FirstName_right   Age\nFellowshipID                                                \n1001                  Frodo     Hiding           Frodo  50.0\n1002                Samwise  Gardening         Samwise  39.0\n1003                Gandalf     Spells             NaN   NaN\n1004                 Pippin  Fireworks             NaN   NaN",
      "text/html": "<div>\n<style scoped>\n    .dataframe tbody tr th:only-of-type {\n        vertical-align: middle;\n    }\n\n    .dataframe tbody tr th {\n        vertical-align: top;\n    }\n\n    .dataframe thead th {\n        text-align: right;\n    }\n</style>\n<table border=\"1\" class=\"dataframe\">\n  <thead>\n    <tr style=\"text-align: right;\">\n      <th></th>\n      <th>FirstName_left</th>\n      <th>Skills</th>\n      <th>FirstName_right</th>\n      <th>Age</th>\n    </tr>\n    <tr>\n      <th>FellowshipID</th>\n      <th></th>\n      <th></th>\n      <th></th>\n      <th></th>\n    </tr>\n  </thead>\n  <tbody>\n    <tr>\n      <th>1001</th>\n      <td>Frodo</td>\n      <td>Hiding</td>\n      <td>Frodo</td>\n      <td>50.0</td>\n    </tr>\n    <tr>\n      <th>1002</th>\n      <td>Samwise</td>\n      <td>Gardening</td>\n      <td>Samwise</td>\n      <td>39.0</td>\n    </tr>\n    <tr>\n      <th>1003</th>\n      <td>Gandalf</td>\n      <td>Spells</td>\n      <td>NaN</td>\n      <td>NaN</td>\n    </tr>\n    <tr>\n      <th>1004</th>\n      <td>Pippin</td>\n      <td>Fireworks</td>\n      <td>NaN</td>\n      <td>NaN</td>\n    </tr>\n  </tbody>\n</table>\n</div>"
     },
     "execution_count": 66,
     "metadata": {},
     "output_type": "execute_result"
    }
   ],
   "source": [
    "df4 = df1.set_index(\"FellowshipID\").join(df2.set_index(\"FellowshipID\"),lsuffix = \"_left\", rsuffix = \"_right\")\n",
    "df4"
   ],
   "metadata": {
    "collapsed": false,
    "ExecuteTime": {
     "end_time": "2024-05-09T10:46:38.850880Z",
     "start_time": "2024-05-09T10:46:38.842880Z"
    }
   },
   "id": "6ca86811be0d72f0",
   "execution_count": 66
  },
  {
   "cell_type": "markdown",
   "source": [
    "##### We can do the same things we did in merge but we have fellowship as a index now."
   ],
   "metadata": {
    "collapsed": false
   },
   "id": "716a3716fa288f76"
  },
  {
   "cell_type": "code",
   "outputs": [
    {
     "data": {
      "text/plain": "             FirstName_left     Skills FirstName_right     Age\nFellowshipID                                                  \n1001                  Frodo     Hiding           Frodo    50.0\n1002                Samwise  Gardening         Samwise    39.0\n1003                Gandalf     Spells             NaN     NaN\n1004                 Pippin  Fireworks             NaN     NaN\n1006                    NaN        NaN         Legolas  2931.0\n1007                    NaN        NaN          Elrond  6520.0\n1008                    NaN        NaN        Barromir    51.0",
      "text/html": "<div>\n<style scoped>\n    .dataframe tbody tr th:only-of-type {\n        vertical-align: middle;\n    }\n\n    .dataframe tbody tr th {\n        vertical-align: top;\n    }\n\n    .dataframe thead th {\n        text-align: right;\n    }\n</style>\n<table border=\"1\" class=\"dataframe\">\n  <thead>\n    <tr style=\"text-align: right;\">\n      <th></th>\n      <th>FirstName_left</th>\n      <th>Skills</th>\n      <th>FirstName_right</th>\n      <th>Age</th>\n    </tr>\n    <tr>\n      <th>FellowshipID</th>\n      <th></th>\n      <th></th>\n      <th></th>\n      <th></th>\n    </tr>\n  </thead>\n  <tbody>\n    <tr>\n      <th>1001</th>\n      <td>Frodo</td>\n      <td>Hiding</td>\n      <td>Frodo</td>\n      <td>50.0</td>\n    </tr>\n    <tr>\n      <th>1002</th>\n      <td>Samwise</td>\n      <td>Gardening</td>\n      <td>Samwise</td>\n      <td>39.0</td>\n    </tr>\n    <tr>\n      <th>1003</th>\n      <td>Gandalf</td>\n      <td>Spells</td>\n      <td>NaN</td>\n      <td>NaN</td>\n    </tr>\n    <tr>\n      <th>1004</th>\n      <td>Pippin</td>\n      <td>Fireworks</td>\n      <td>NaN</td>\n      <td>NaN</td>\n    </tr>\n    <tr>\n      <th>1006</th>\n      <td>NaN</td>\n      <td>NaN</td>\n      <td>Legolas</td>\n      <td>2931.0</td>\n    </tr>\n    <tr>\n      <th>1007</th>\n      <td>NaN</td>\n      <td>NaN</td>\n      <td>Elrond</td>\n      <td>6520.0</td>\n    </tr>\n    <tr>\n      <th>1008</th>\n      <td>NaN</td>\n      <td>NaN</td>\n      <td>Barromir</td>\n      <td>51.0</td>\n    </tr>\n  </tbody>\n</table>\n</div>"
     },
     "execution_count": 67,
     "metadata": {},
     "output_type": "execute_result"
    }
   ],
   "source": [
    "df1.set_index(\"FellowshipID\").join(df2.set_index(\"FellowshipID\"),lsuffix = \"_left\", rsuffix = \"_right\", how = \"outer\")"
   ],
   "metadata": {
    "collapsed": false,
    "ExecuteTime": {
     "end_time": "2024-05-09T10:46:54.738554Z",
     "start_time": "2024-05-09T10:46:54.730792Z"
    }
   },
   "id": "e89a49bcd9865c84",
   "execution_count": 67
  },
  {
   "cell_type": "markdown",
   "source": [
    "## Concatenate"
   ],
   "metadata": {
    "collapsed": false
   },
   "id": "b2391e2fbf3dcde4"
  },
  {
   "cell_type": "markdown",
   "source": [
    "##### adding frames back to back, on top of eachother."
   ],
   "metadata": {
    "collapsed": false
   },
   "id": "9b9d8c7d26e2b7ec"
  },
  {
   "cell_type": "code",
   "outputs": [
    {
     "data": {
      "text/plain": "   FellowshipID FirstName     Skills     Age\n0          1001     Frodo     Hiding     NaN\n1          1002   Samwise  Gardening     NaN\n2          1003   Gandalf     Spells     NaN\n3          1004    Pippin  Fireworks     NaN\n0          1001     Frodo        NaN    50.0\n1          1002   Samwise        NaN    39.0\n2          1006   Legolas        NaN  2931.0\n3          1007    Elrond        NaN  6520.0\n4          1008  Barromir        NaN    51.0",
      "text/html": "<div>\n<style scoped>\n    .dataframe tbody tr th:only-of-type {\n        vertical-align: middle;\n    }\n\n    .dataframe tbody tr th {\n        vertical-align: top;\n    }\n\n    .dataframe thead th {\n        text-align: right;\n    }\n</style>\n<table border=\"1\" class=\"dataframe\">\n  <thead>\n    <tr style=\"text-align: right;\">\n      <th></th>\n      <th>FellowshipID</th>\n      <th>FirstName</th>\n      <th>Skills</th>\n      <th>Age</th>\n    </tr>\n  </thead>\n  <tbody>\n    <tr>\n      <th>0</th>\n      <td>1001</td>\n      <td>Frodo</td>\n      <td>Hiding</td>\n      <td>NaN</td>\n    </tr>\n    <tr>\n      <th>1</th>\n      <td>1002</td>\n      <td>Samwise</td>\n      <td>Gardening</td>\n      <td>NaN</td>\n    </tr>\n    <tr>\n      <th>2</th>\n      <td>1003</td>\n      <td>Gandalf</td>\n      <td>Spells</td>\n      <td>NaN</td>\n    </tr>\n    <tr>\n      <th>3</th>\n      <td>1004</td>\n      <td>Pippin</td>\n      <td>Fireworks</td>\n      <td>NaN</td>\n    </tr>\n    <tr>\n      <th>0</th>\n      <td>1001</td>\n      <td>Frodo</td>\n      <td>NaN</td>\n      <td>50.0</td>\n    </tr>\n    <tr>\n      <th>1</th>\n      <td>1002</td>\n      <td>Samwise</td>\n      <td>NaN</td>\n      <td>39.0</td>\n    </tr>\n    <tr>\n      <th>2</th>\n      <td>1006</td>\n      <td>Legolas</td>\n      <td>NaN</td>\n      <td>2931.0</td>\n    </tr>\n    <tr>\n      <th>3</th>\n      <td>1007</td>\n      <td>Elrond</td>\n      <td>NaN</td>\n      <td>6520.0</td>\n    </tr>\n    <tr>\n      <th>4</th>\n      <td>1008</td>\n      <td>Barromir</td>\n      <td>NaN</td>\n      <td>51.0</td>\n    </tr>\n  </tbody>\n</table>\n</div>"
     },
     "execution_count": 68,
     "metadata": {},
     "output_type": "execute_result"
    }
   ],
   "source": [
    "pd.concat([df1,df2])"
   ],
   "metadata": {
    "collapsed": false,
    "ExecuteTime": {
     "end_time": "2024-05-09T10:46:56.539605Z",
     "start_time": "2024-05-09T10:46:56.532264Z"
    }
   },
   "id": "7a912288c1f5f0c7",
   "execution_count": 68
  },
  {
   "cell_type": "code",
   "outputs": [
    {
     "data": {
      "text/plain": "   FellowshipID FirstName\n0          1001     Frodo\n1          1002   Samwise\n2          1003   Gandalf\n3          1004    Pippin\n0          1001     Frodo\n1          1002   Samwise\n2          1006   Legolas\n3          1007    Elrond\n4          1008  Barromir",
      "text/html": "<div>\n<style scoped>\n    .dataframe tbody tr th:only-of-type {\n        vertical-align: middle;\n    }\n\n    .dataframe tbody tr th {\n        vertical-align: top;\n    }\n\n    .dataframe thead th {\n        text-align: right;\n    }\n</style>\n<table border=\"1\" class=\"dataframe\">\n  <thead>\n    <tr style=\"text-align: right;\">\n      <th></th>\n      <th>FellowshipID</th>\n      <th>FirstName</th>\n    </tr>\n  </thead>\n  <tbody>\n    <tr>\n      <th>0</th>\n      <td>1001</td>\n      <td>Frodo</td>\n    </tr>\n    <tr>\n      <th>1</th>\n      <td>1002</td>\n      <td>Samwise</td>\n    </tr>\n    <tr>\n      <th>2</th>\n      <td>1003</td>\n      <td>Gandalf</td>\n    </tr>\n    <tr>\n      <th>3</th>\n      <td>1004</td>\n      <td>Pippin</td>\n    </tr>\n    <tr>\n      <th>0</th>\n      <td>1001</td>\n      <td>Frodo</td>\n    </tr>\n    <tr>\n      <th>1</th>\n      <td>1002</td>\n      <td>Samwise</td>\n    </tr>\n    <tr>\n      <th>2</th>\n      <td>1006</td>\n      <td>Legolas</td>\n    </tr>\n    <tr>\n      <th>3</th>\n      <td>1007</td>\n      <td>Elrond</td>\n    </tr>\n    <tr>\n      <th>4</th>\n      <td>1008</td>\n      <td>Barromir</td>\n    </tr>\n  </tbody>\n</table>\n</div>"
     },
     "execution_count": 69,
     "metadata": {},
     "output_type": "execute_result"
    }
   ],
   "source": [
    "pd.concat([df1,df2],join = \"inner\")"
   ],
   "metadata": {
    "collapsed": false,
    "ExecuteTime": {
     "end_time": "2024-05-09T10:46:57.041153Z",
     "start_time": "2024-05-09T10:46:57.035594Z"
    }
   },
   "id": "875f30a202f30131",
   "execution_count": 69
  },
  {
   "cell_type": "code",
   "outputs": [
    {
     "data": {
      "text/plain": "   FellowshipID FirstName     Skills     Age\n0          1001     Frodo     Hiding     NaN\n1          1002   Samwise  Gardening     NaN\n2          1003   Gandalf     Spells     NaN\n3          1004    Pippin  Fireworks     NaN\n0          1001     Frodo        NaN    50.0\n1          1002   Samwise        NaN    39.0\n2          1006   Legolas        NaN  2931.0\n3          1007    Elrond        NaN  6520.0\n4          1008  Barromir        NaN    51.0",
      "text/html": "<div>\n<style scoped>\n    .dataframe tbody tr th:only-of-type {\n        vertical-align: middle;\n    }\n\n    .dataframe tbody tr th {\n        vertical-align: top;\n    }\n\n    .dataframe thead th {\n        text-align: right;\n    }\n</style>\n<table border=\"1\" class=\"dataframe\">\n  <thead>\n    <tr style=\"text-align: right;\">\n      <th></th>\n      <th>FellowshipID</th>\n      <th>FirstName</th>\n      <th>Skills</th>\n      <th>Age</th>\n    </tr>\n  </thead>\n  <tbody>\n    <tr>\n      <th>0</th>\n      <td>1001</td>\n      <td>Frodo</td>\n      <td>Hiding</td>\n      <td>NaN</td>\n    </tr>\n    <tr>\n      <th>1</th>\n      <td>1002</td>\n      <td>Samwise</td>\n      <td>Gardening</td>\n      <td>NaN</td>\n    </tr>\n    <tr>\n      <th>2</th>\n      <td>1003</td>\n      <td>Gandalf</td>\n      <td>Spells</td>\n      <td>NaN</td>\n    </tr>\n    <tr>\n      <th>3</th>\n      <td>1004</td>\n      <td>Pippin</td>\n      <td>Fireworks</td>\n      <td>NaN</td>\n    </tr>\n    <tr>\n      <th>0</th>\n      <td>1001</td>\n      <td>Frodo</td>\n      <td>NaN</td>\n      <td>50.0</td>\n    </tr>\n    <tr>\n      <th>1</th>\n      <td>1002</td>\n      <td>Samwise</td>\n      <td>NaN</td>\n      <td>39.0</td>\n    </tr>\n    <tr>\n      <th>2</th>\n      <td>1006</td>\n      <td>Legolas</td>\n      <td>NaN</td>\n      <td>2931.0</td>\n    </tr>\n    <tr>\n      <th>3</th>\n      <td>1007</td>\n      <td>Elrond</td>\n      <td>NaN</td>\n      <td>6520.0</td>\n    </tr>\n    <tr>\n      <th>4</th>\n      <td>1008</td>\n      <td>Barromir</td>\n      <td>NaN</td>\n      <td>51.0</td>\n    </tr>\n  </tbody>\n</table>\n</div>"
     },
     "execution_count": 70,
     "metadata": {},
     "output_type": "execute_result"
    }
   ],
   "source": [
    "pd.concat([df1,df2],join=\"outer\")"
   ],
   "metadata": {
    "collapsed": false,
    "ExecuteTime": {
     "end_time": "2024-05-09T10:46:57.510509Z",
     "start_time": "2024-05-09T10:46:57.503001Z"
    }
   },
   "id": "20be0cd501eaa159",
   "execution_count": 70
  },
  {
   "cell_type": "markdown",
   "source": [
    "#### Concatenate by rows instead of default,columns."
   ],
   "metadata": {
    "collapsed": false
   },
   "id": "9af333cf338b3b84"
  },
  {
   "cell_type": "code",
   "outputs": [
    {
     "data": {
      "text/plain": "   FellowshipID FirstName     Skills  FellowshipID FirstName   Age\n0        1001.0     Frodo     Hiding          1001     Frodo    50\n1        1002.0   Samwise  Gardening          1002   Samwise    39\n2        1003.0   Gandalf     Spells          1006   Legolas  2931\n3        1004.0    Pippin  Fireworks          1007    Elrond  6520\n4           NaN       NaN        NaN          1008  Barromir    51",
      "text/html": "<div>\n<style scoped>\n    .dataframe tbody tr th:only-of-type {\n        vertical-align: middle;\n    }\n\n    .dataframe tbody tr th {\n        vertical-align: top;\n    }\n\n    .dataframe thead th {\n        text-align: right;\n    }\n</style>\n<table border=\"1\" class=\"dataframe\">\n  <thead>\n    <tr style=\"text-align: right;\">\n      <th></th>\n      <th>FellowshipID</th>\n      <th>FirstName</th>\n      <th>Skills</th>\n      <th>FellowshipID</th>\n      <th>FirstName</th>\n      <th>Age</th>\n    </tr>\n  </thead>\n  <tbody>\n    <tr>\n      <th>0</th>\n      <td>1001.0</td>\n      <td>Frodo</td>\n      <td>Hiding</td>\n      <td>1001</td>\n      <td>Frodo</td>\n      <td>50</td>\n    </tr>\n    <tr>\n      <th>1</th>\n      <td>1002.0</td>\n      <td>Samwise</td>\n      <td>Gardening</td>\n      <td>1002</td>\n      <td>Samwise</td>\n      <td>39</td>\n    </tr>\n    <tr>\n      <th>2</th>\n      <td>1003.0</td>\n      <td>Gandalf</td>\n      <td>Spells</td>\n      <td>1006</td>\n      <td>Legolas</td>\n      <td>2931</td>\n    </tr>\n    <tr>\n      <th>3</th>\n      <td>1004.0</td>\n      <td>Pippin</td>\n      <td>Fireworks</td>\n      <td>1007</td>\n      <td>Elrond</td>\n      <td>6520</td>\n    </tr>\n    <tr>\n      <th>4</th>\n      <td>NaN</td>\n      <td>NaN</td>\n      <td>NaN</td>\n      <td>1008</td>\n      <td>Barromir</td>\n      <td>51</td>\n    </tr>\n  </tbody>\n</table>\n</div>"
     },
     "execution_count": 71,
     "metadata": {},
     "output_type": "execute_result"
    }
   ],
   "source": [
    "pd.concat([df1,df2],join = \"outer\", axis=1)"
   ],
   "metadata": {
    "collapsed": false,
    "ExecuteTime": {
     "end_time": "2024-05-09T10:46:58.665715Z",
     "start_time": "2024-05-09T10:46:58.658607Z"
    }
   },
   "id": "6f0ea566a0093eaf",
   "execution_count": 71
  },
  {
   "cell_type": "code",
   "outputs": [],
   "source": [],
   "metadata": {
    "collapsed": false
   },
   "id": "961872c7c377001d"
  }
 ],
 "metadata": {
  "kernelspec": {
   "display_name": "Python 3",
   "language": "python",
   "name": "python3"
  },
  "language_info": {
   "codemirror_mode": {
    "name": "ipython",
    "version": 2
   },
   "file_extension": ".py",
   "mimetype": "text/x-python",
   "name": "python",
   "nbconvert_exporter": "python",
   "pygments_lexer": "ipython2",
   "version": "2.7.6"
  }
 },
 "nbformat": 4,
 "nbformat_minor": 5
}
