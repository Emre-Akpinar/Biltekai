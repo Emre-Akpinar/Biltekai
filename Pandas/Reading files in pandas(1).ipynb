{
 "cells": [
  {
   "cell_type": "code",
   "outputs": [],
   "source": [
    "import pandas as pd"
   ],
   "metadata": {
    "collapsed": false,
    "ExecuteTime": {
     "end_time": "2024-05-01T23:19:01.170514Z",
     "start_time": "2024-05-01T23:19:01.167940Z"
    }
   },
   "id": "770592cfb35a657f",
   "execution_count": 7
  },
  {
   "cell_type": "markdown",
   "source": [
    "###        Read in Csv files:"
   ],
   "metadata": {
    "collapsed": false
   },
   "id": "785c7ab86eb20b50"
  },
  {
   "cell_type": "code",
   "outputs": [
    {
     "data": {
      "text/plain": "             Country                               Region\n0       Afghanistan         ASIA (EX. NEAR EAST)         \n1           Albania   EASTERN EUROPE                     \n2           Algeria   NORTHERN AFRICA                    \n3    American Samoa   OCEANIA                            \n4           Andorra   WESTERN EUROPE                     \n..               ...                                  ...\n222       West Bank   NEAR EAST                          \n223  Western Sahara   NORTHERN AFRICA                    \n224           Yemen   NEAR EAST                          \n225          Zambia   SUB-SAHARAN AFRICA                 \n226        Zimbabwe   SUB-SAHARAN AFRICA                 \n\n[227 rows x 2 columns]",
      "text/html": "<div>\n<style scoped>\n    .dataframe tbody tr th:only-of-type {\n        vertical-align: middle;\n    }\n\n    .dataframe tbody tr th {\n        vertical-align: top;\n    }\n\n    .dataframe thead th {\n        text-align: right;\n    }\n</style>\n<table border=\"1\" class=\"dataframe\">\n  <thead>\n    <tr style=\"text-align: right;\">\n      <th></th>\n      <th>Country</th>\n      <th>Region</th>\n    </tr>\n  </thead>\n  <tbody>\n    <tr>\n      <th>0</th>\n      <td>Afghanistan</td>\n      <td>ASIA (EX. NEAR EAST)</td>\n    </tr>\n    <tr>\n      <th>1</th>\n      <td>Albania</td>\n      <td>EASTERN EUROPE</td>\n    </tr>\n    <tr>\n      <th>2</th>\n      <td>Algeria</td>\n      <td>NORTHERN AFRICA</td>\n    </tr>\n    <tr>\n      <th>3</th>\n      <td>American Samoa</td>\n      <td>OCEANIA</td>\n    </tr>\n    <tr>\n      <th>4</th>\n      <td>Andorra</td>\n      <td>WESTERN EUROPE</td>\n    </tr>\n    <tr>\n      <th>...</th>\n      <td>...</td>\n      <td>...</td>\n    </tr>\n    <tr>\n      <th>222</th>\n      <td>West Bank</td>\n      <td>NEAR EAST</td>\n    </tr>\n    <tr>\n      <th>223</th>\n      <td>Western Sahara</td>\n      <td>NORTHERN AFRICA</td>\n    </tr>\n    <tr>\n      <th>224</th>\n      <td>Yemen</td>\n      <td>NEAR EAST</td>\n    </tr>\n    <tr>\n      <th>225</th>\n      <td>Zambia</td>\n      <td>SUB-SAHARAN AFRICA</td>\n    </tr>\n    <tr>\n      <th>226</th>\n      <td>Zimbabwe</td>\n      <td>SUB-SAHARAN AFRICA</td>\n    </tr>\n  </tbody>\n</table>\n<p>227 rows × 2 columns</p>\n</div>"
     },
     "execution_count": 8,
     "metadata": {},
     "output_type": "execute_result"
    }
   ],
   "source": [
    "pd.read_csv(r\"C:\\Users\\akpin\\PycharmProjects\\Pandas\\countries of the world.csv\")"
   ],
   "metadata": {
    "collapsed": false,
    "ExecuteTime": {
     "end_time": "2024-05-01T23:19:03.827112Z",
     "start_time": "2024-05-01T23:19:03.819598Z"
    }
   },
   "id": "dd4259ab5029e05e",
   "execution_count": 8
  },
  {
   "cell_type": "markdown",
   "source": [
    "####  Defining Header:"
   ],
   "metadata": {
    "collapsed": false
   },
   "id": "cf8d81cb7237b01e"
  },
  {
   "cell_type": "code",
   "outputs": [
    {
     "data": {
      "text/plain": "                   0                                    1\n0            Country                               Region\n1       Afghanistan         ASIA (EX. NEAR EAST)         \n2           Albania   EASTERN EUROPE                     \n3           Algeria   NORTHERN AFRICA                    \n4    American Samoa   OCEANIA                            \n..               ...                                  ...\n223       West Bank   NEAR EAST                          \n224  Western Sahara   NORTHERN AFRICA                    \n225           Yemen   NEAR EAST                          \n226          Zambia   SUB-SAHARAN AFRICA                 \n227        Zimbabwe   SUB-SAHARAN AFRICA                 \n\n[228 rows x 2 columns]",
      "text/html": "<div>\n<style scoped>\n    .dataframe tbody tr th:only-of-type {\n        vertical-align: middle;\n    }\n\n    .dataframe tbody tr th {\n        vertical-align: top;\n    }\n\n    .dataframe thead th {\n        text-align: right;\n    }\n</style>\n<table border=\"1\" class=\"dataframe\">\n  <thead>\n    <tr style=\"text-align: right;\">\n      <th></th>\n      <th>0</th>\n      <th>1</th>\n    </tr>\n  </thead>\n  <tbody>\n    <tr>\n      <th>0</th>\n      <td>Country</td>\n      <td>Region</td>\n    </tr>\n    <tr>\n      <th>1</th>\n      <td>Afghanistan</td>\n      <td>ASIA (EX. NEAR EAST)</td>\n    </tr>\n    <tr>\n      <th>2</th>\n      <td>Albania</td>\n      <td>EASTERN EUROPE</td>\n    </tr>\n    <tr>\n      <th>3</th>\n      <td>Algeria</td>\n      <td>NORTHERN AFRICA</td>\n    </tr>\n    <tr>\n      <th>4</th>\n      <td>American Samoa</td>\n      <td>OCEANIA</td>\n    </tr>\n    <tr>\n      <th>...</th>\n      <td>...</td>\n      <td>...</td>\n    </tr>\n    <tr>\n      <th>223</th>\n      <td>West Bank</td>\n      <td>NEAR EAST</td>\n    </tr>\n    <tr>\n      <th>224</th>\n      <td>Western Sahara</td>\n      <td>NORTHERN AFRICA</td>\n    </tr>\n    <tr>\n      <th>225</th>\n      <td>Yemen</td>\n      <td>NEAR EAST</td>\n    </tr>\n    <tr>\n      <th>226</th>\n      <td>Zambia</td>\n      <td>SUB-SAHARAN AFRICA</td>\n    </tr>\n    <tr>\n      <th>227</th>\n      <td>Zimbabwe</td>\n      <td>SUB-SAHARAN AFRICA</td>\n    </tr>\n  </tbody>\n</table>\n<p>228 rows × 2 columns</p>\n</div>"
     },
     "execution_count": 9,
     "metadata": {},
     "output_type": "execute_result"
    }
   ],
   "source": [
    "pd.read_csv(r\"C:\\Users\\akpin\\PycharmProjects\\Pandas\\countries of the world.csv\",header=None)"
   ],
   "metadata": {
    "collapsed": false,
    "ExecuteTime": {
     "end_time": "2024-05-01T23:19:05.758102Z",
     "start_time": "2024-05-01T23:19:05.751097Z"
    }
   },
   "id": "b5faad8aad3ec6d9",
   "execution_count": 9
  },
  {
   "cell_type": "markdown",
   "source": [
    "#### Setting Names. Usually used when the file doesnt have a header: "
   ],
   "metadata": {
    "collapsed": false
   },
   "id": "a105d46025606943"
  },
  {
   "cell_type": "code",
   "outputs": [
    {
     "data": {
      "text/plain": "             Country                               Region\n0            Country                               Region\n1       Afghanistan         ASIA (EX. NEAR EAST)         \n2           Albania   EASTERN EUROPE                     \n3           Algeria   NORTHERN AFRICA                    \n4    American Samoa   OCEANIA                            \n..               ...                                  ...\n223       West Bank   NEAR EAST                          \n224  Western Sahara   NORTHERN AFRICA                    \n225           Yemen   NEAR EAST                          \n226          Zambia   SUB-SAHARAN AFRICA                 \n227        Zimbabwe   SUB-SAHARAN AFRICA                 \n\n[228 rows x 2 columns]",
      "text/html": "<div>\n<style scoped>\n    .dataframe tbody tr th:only-of-type {\n        vertical-align: middle;\n    }\n\n    .dataframe tbody tr th {\n        vertical-align: top;\n    }\n\n    .dataframe thead th {\n        text-align: right;\n    }\n</style>\n<table border=\"1\" class=\"dataframe\">\n  <thead>\n    <tr style=\"text-align: right;\">\n      <th></th>\n      <th>Country</th>\n      <th>Region</th>\n    </tr>\n  </thead>\n  <tbody>\n    <tr>\n      <th>0</th>\n      <td>Country</td>\n      <td>Region</td>\n    </tr>\n    <tr>\n      <th>1</th>\n      <td>Afghanistan</td>\n      <td>ASIA (EX. NEAR EAST)</td>\n    </tr>\n    <tr>\n      <th>2</th>\n      <td>Albania</td>\n      <td>EASTERN EUROPE</td>\n    </tr>\n    <tr>\n      <th>3</th>\n      <td>Algeria</td>\n      <td>NORTHERN AFRICA</td>\n    </tr>\n    <tr>\n      <th>4</th>\n      <td>American Samoa</td>\n      <td>OCEANIA</td>\n    </tr>\n    <tr>\n      <th>...</th>\n      <td>...</td>\n      <td>...</td>\n    </tr>\n    <tr>\n      <th>223</th>\n      <td>West Bank</td>\n      <td>NEAR EAST</td>\n    </tr>\n    <tr>\n      <th>224</th>\n      <td>Western Sahara</td>\n      <td>NORTHERN AFRICA</td>\n    </tr>\n    <tr>\n      <th>225</th>\n      <td>Yemen</td>\n      <td>NEAR EAST</td>\n    </tr>\n    <tr>\n      <th>226</th>\n      <td>Zambia</td>\n      <td>SUB-SAHARAN AFRICA</td>\n    </tr>\n    <tr>\n      <th>227</th>\n      <td>Zimbabwe</td>\n      <td>SUB-SAHARAN AFRICA</td>\n    </tr>\n  </tbody>\n</table>\n<p>228 rows × 2 columns</p>\n</div>"
     },
     "execution_count": 10,
     "metadata": {},
     "output_type": "execute_result"
    }
   ],
   "source": [
    "pd.read_csv(r\"C:\\Users\\akpin\\PycharmProjects\\Pandas\\countries of the world.csv\",header=None, names = [\"Country\",\"Region\"])"
   ],
   "metadata": {
    "collapsed": false,
    "ExecuteTime": {
     "end_time": "2024-05-01T23:19:10.350631Z",
     "start_time": "2024-05-01T23:19:10.342631Z"
    }
   },
   "id": "7159282a0ab7df4c",
   "execution_count": 10
  },
  {
   "cell_type": "markdown",
   "source": [
    "##### Assigning the data frame to a variable and calling it. So we can use it like writing 'df.': "
   ],
   "metadata": {
    "collapsed": false
   },
   "id": "503b9189548588fd"
  },
  {
   "cell_type": "code",
   "outputs": [
    {
     "data": {
      "text/plain": "             Country                               Region\n0       Afghanistan         ASIA (EX. NEAR EAST)         \n1           Albania   EASTERN EUROPE                     \n2           Algeria   NORTHERN AFRICA                    \n3    American Samoa   OCEANIA                            \n4           Andorra   WESTERN EUROPE                     \n..               ...                                  ...\n222       West Bank   NEAR EAST                          \n223  Western Sahara   NORTHERN AFRICA                    \n224           Yemen   NEAR EAST                          \n225          Zambia   SUB-SAHARAN AFRICA                 \n226        Zimbabwe   SUB-SAHARAN AFRICA                 \n\n[227 rows x 2 columns]",
      "text/html": "<div>\n<style scoped>\n    .dataframe tbody tr th:only-of-type {\n        vertical-align: middle;\n    }\n\n    .dataframe tbody tr th {\n        vertical-align: top;\n    }\n\n    .dataframe thead th {\n        text-align: right;\n    }\n</style>\n<table border=\"1\" class=\"dataframe\">\n  <thead>\n    <tr style=\"text-align: right;\">\n      <th></th>\n      <th>Country</th>\n      <th>Region</th>\n    </tr>\n  </thead>\n  <tbody>\n    <tr>\n      <th>0</th>\n      <td>Afghanistan</td>\n      <td>ASIA (EX. NEAR EAST)</td>\n    </tr>\n    <tr>\n      <th>1</th>\n      <td>Albania</td>\n      <td>EASTERN EUROPE</td>\n    </tr>\n    <tr>\n      <th>2</th>\n      <td>Algeria</td>\n      <td>NORTHERN AFRICA</td>\n    </tr>\n    <tr>\n      <th>3</th>\n      <td>American Samoa</td>\n      <td>OCEANIA</td>\n    </tr>\n    <tr>\n      <th>4</th>\n      <td>Andorra</td>\n      <td>WESTERN EUROPE</td>\n    </tr>\n    <tr>\n      <th>...</th>\n      <td>...</td>\n      <td>...</td>\n    </tr>\n    <tr>\n      <th>222</th>\n      <td>West Bank</td>\n      <td>NEAR EAST</td>\n    </tr>\n    <tr>\n      <th>223</th>\n      <td>Western Sahara</td>\n      <td>NORTHERN AFRICA</td>\n    </tr>\n    <tr>\n      <th>224</th>\n      <td>Yemen</td>\n      <td>NEAR EAST</td>\n    </tr>\n    <tr>\n      <th>225</th>\n      <td>Zambia</td>\n      <td>SUB-SAHARAN AFRICA</td>\n    </tr>\n    <tr>\n      <th>226</th>\n      <td>Zimbabwe</td>\n      <td>SUB-SAHARAN AFRICA</td>\n    </tr>\n  </tbody>\n</table>\n<p>227 rows × 2 columns</p>\n</div>"
     },
     "execution_count": 11,
     "metadata": {},
     "output_type": "execute_result"
    }
   ],
   "source": [
    "df = pd.read_csv(r\"C:\\Users\\akpin\\PycharmProjects\\Pandas\\countries of the world.csv\")\n",
    "df"
   ],
   "metadata": {
    "collapsed": false,
    "ExecuteTime": {
     "end_time": "2024-05-01T23:19:14.227604Z",
     "start_time": "2024-05-01T23:19:14.220059Z"
    }
   },
   "id": "8d8a84798b417746",
   "execution_count": 11
  },
  {
   "cell_type": "markdown",
   "source": [
    "### Read in .txt files:"
   ],
   "metadata": {
    "collapsed": false
   },
   "id": "34b2a5a66b74fe48"
  },
  {
   "cell_type": "code",
   "outputs": [
    {
     "data": {
      "text/plain": "                                       Country\\tRegion\n0          Afghanistan \\tASIA (EX. NEAR EAST)         \n1        Albania \\tEASTERN EUROPE                     \n2        Algeria \\tNORTHERN AFRICA                    \n3    American Samoa \\tOCEANIA                      ...\n4        Andorra \\tWESTERN EUROPE                     \n..                                                 ...\n222    West Bank \\tNEAR EAST                          \n223  Western Sahara \\tNORTHERN AFRICA              ...\n224        Yemen \\tNEAR EAST                          \n225       Zambia \\tSUB-SAHARAN AFRICA                 \n226     Zimbabwe \\tSUB-SAHARAN AFRICA                 \n\n[227 rows x 1 columns]",
      "text/html": "<div>\n<style scoped>\n    .dataframe tbody tr th:only-of-type {\n        vertical-align: middle;\n    }\n\n    .dataframe tbody tr th {\n        vertical-align: top;\n    }\n\n    .dataframe thead th {\n        text-align: right;\n    }\n</style>\n<table border=\"1\" class=\"dataframe\">\n  <thead>\n    <tr style=\"text-align: right;\">\n      <th></th>\n      <th>Country\\tRegion</th>\n    </tr>\n  </thead>\n  <tbody>\n    <tr>\n      <th>0</th>\n      <td>Afghanistan \\tASIA (EX. NEAR EAST)</td>\n    </tr>\n    <tr>\n      <th>1</th>\n      <td>Albania \\tEASTERN EUROPE</td>\n    </tr>\n    <tr>\n      <th>2</th>\n      <td>Algeria \\tNORTHERN AFRICA</td>\n    </tr>\n    <tr>\n      <th>3</th>\n      <td>American Samoa \\tOCEANIA                      ...</td>\n    </tr>\n    <tr>\n      <th>4</th>\n      <td>Andorra \\tWESTERN EUROPE</td>\n    </tr>\n    <tr>\n      <th>...</th>\n      <td>...</td>\n    </tr>\n    <tr>\n      <th>222</th>\n      <td>West Bank \\tNEAR EAST</td>\n    </tr>\n    <tr>\n      <th>223</th>\n      <td>Western Sahara \\tNORTHERN AFRICA              ...</td>\n    </tr>\n    <tr>\n      <th>224</th>\n      <td>Yemen \\tNEAR EAST</td>\n    </tr>\n    <tr>\n      <th>225</th>\n      <td>Zambia \\tSUB-SAHARAN AFRICA</td>\n    </tr>\n    <tr>\n      <th>226</th>\n      <td>Zimbabwe \\tSUB-SAHARAN AFRICA</td>\n    </tr>\n  </tbody>\n</table>\n<p>227 rows × 1 columns</p>\n</div>"
     },
     "execution_count": 12,
     "metadata": {},
     "output_type": "execute_result"
    }
   ],
   "source": [
    "df = pd.read_csv(r\"C:\\Users\\akpin\\PycharmProjects\\Pandas\\countries of the world.txt\")\n",
    "df"
   ],
   "metadata": {
    "collapsed": false,
    "ExecuteTime": {
     "end_time": "2024-05-01T23:19:22.028620Z",
     "start_time": "2024-05-01T23:19:22.002091Z"
    }
   },
   "id": "8c707a65c1923916",
   "execution_count": 12
  },
  {
   "cell_type": "markdown",
   "source": [
    "##### Did not import properly. We need to use seperater. We can do that in various ways:"
   ],
   "metadata": {
    "collapsed": false
   },
   "id": "17b0912184ac5c31"
  },
  {
   "cell_type": "code",
   "outputs": [
    {
     "data": {
      "text/plain": "             Country                               Region\n0       Afghanistan         ASIA (EX. NEAR EAST)         \n1           Albania   EASTERN EUROPE                     \n2           Algeria   NORTHERN AFRICA                    \n3    American Samoa   OCEANIA                            \n4           Andorra   WESTERN EUROPE                     \n..               ...                                  ...\n222       West Bank   NEAR EAST                          \n223  Western Sahara   NORTHERN AFRICA                    \n224           Yemen   NEAR EAST                          \n225          Zambia   SUB-SAHARAN AFRICA                 \n226        Zimbabwe   SUB-SAHARAN AFRICA                 \n\n[227 rows x 2 columns]",
      "text/html": "<div>\n<style scoped>\n    .dataframe tbody tr th:only-of-type {\n        vertical-align: middle;\n    }\n\n    .dataframe tbody tr th {\n        vertical-align: top;\n    }\n\n    .dataframe thead th {\n        text-align: right;\n    }\n</style>\n<table border=\"1\" class=\"dataframe\">\n  <thead>\n    <tr style=\"text-align: right;\">\n      <th></th>\n      <th>Country</th>\n      <th>Region</th>\n    </tr>\n  </thead>\n  <tbody>\n    <tr>\n      <th>0</th>\n      <td>Afghanistan</td>\n      <td>ASIA (EX. NEAR EAST)</td>\n    </tr>\n    <tr>\n      <th>1</th>\n      <td>Albania</td>\n      <td>EASTERN EUROPE</td>\n    </tr>\n    <tr>\n      <th>2</th>\n      <td>Algeria</td>\n      <td>NORTHERN AFRICA</td>\n    </tr>\n    <tr>\n      <th>3</th>\n      <td>American Samoa</td>\n      <td>OCEANIA</td>\n    </tr>\n    <tr>\n      <th>4</th>\n      <td>Andorra</td>\n      <td>WESTERN EUROPE</td>\n    </tr>\n    <tr>\n      <th>...</th>\n      <td>...</td>\n      <td>...</td>\n    </tr>\n    <tr>\n      <th>222</th>\n      <td>West Bank</td>\n      <td>NEAR EAST</td>\n    </tr>\n    <tr>\n      <th>223</th>\n      <td>Western Sahara</td>\n      <td>NORTHERN AFRICA</td>\n    </tr>\n    <tr>\n      <th>224</th>\n      <td>Yemen</td>\n      <td>NEAR EAST</td>\n    </tr>\n    <tr>\n      <th>225</th>\n      <td>Zambia</td>\n      <td>SUB-SAHARAN AFRICA</td>\n    </tr>\n    <tr>\n      <th>226</th>\n      <td>Zimbabwe</td>\n      <td>SUB-SAHARAN AFRICA</td>\n    </tr>\n  </tbody>\n</table>\n<p>227 rows × 2 columns</p>\n</div>"
     },
     "execution_count": 13,
     "metadata": {},
     "output_type": "execute_result"
    }
   ],
   "source": [
    "df = pd.read_csv(r\"C:\\Users\\akpin\\PycharmProjects\\Pandas\\countries of the world.txt\",sep=\"\\t\")\n",
    "df"
   ],
   "metadata": {
    "collapsed": false,
    "ExecuteTime": {
     "end_time": "2024-05-01T23:19:26.045828Z",
     "start_time": "2024-05-01T23:19:26.038314Z"
    }
   },
   "id": "ae64e3f9e197aff7",
   "execution_count": 13
  },
  {
   "cell_type": "markdown",
   "source": [
    "#### We can have it to read the file as a table:"
   ],
   "metadata": {
    "collapsed": false
   },
   "id": "78ff77df092835f8"
  },
  {
   "cell_type": "code",
   "outputs": [
    {
     "data": {
      "text/plain": "             Country                               Region\n0       Afghanistan         ASIA (EX. NEAR EAST)         \n1           Albania   EASTERN EUROPE                     \n2           Algeria   NORTHERN AFRICA                    \n3    American Samoa   OCEANIA                            \n4           Andorra   WESTERN EUROPE                     \n..               ...                                  ...\n222       West Bank   NEAR EAST                          \n223  Western Sahara   NORTHERN AFRICA                    \n224           Yemen   NEAR EAST                          \n225          Zambia   SUB-SAHARAN AFRICA                 \n226        Zimbabwe   SUB-SAHARAN AFRICA                 \n\n[227 rows x 2 columns]",
      "text/html": "<div>\n<style scoped>\n    .dataframe tbody tr th:only-of-type {\n        vertical-align: middle;\n    }\n\n    .dataframe tbody tr th {\n        vertical-align: top;\n    }\n\n    .dataframe thead th {\n        text-align: right;\n    }\n</style>\n<table border=\"1\" class=\"dataframe\">\n  <thead>\n    <tr style=\"text-align: right;\">\n      <th></th>\n      <th>Country</th>\n      <th>Region</th>\n    </tr>\n  </thead>\n  <tbody>\n    <tr>\n      <th>0</th>\n      <td>Afghanistan</td>\n      <td>ASIA (EX. NEAR EAST)</td>\n    </tr>\n    <tr>\n      <th>1</th>\n      <td>Albania</td>\n      <td>EASTERN EUROPE</td>\n    </tr>\n    <tr>\n      <th>2</th>\n      <td>Algeria</td>\n      <td>NORTHERN AFRICA</td>\n    </tr>\n    <tr>\n      <th>3</th>\n      <td>American Samoa</td>\n      <td>OCEANIA</td>\n    </tr>\n    <tr>\n      <th>4</th>\n      <td>Andorra</td>\n      <td>WESTERN EUROPE</td>\n    </tr>\n    <tr>\n      <th>...</th>\n      <td>...</td>\n      <td>...</td>\n    </tr>\n    <tr>\n      <th>222</th>\n      <td>West Bank</td>\n      <td>NEAR EAST</td>\n    </tr>\n    <tr>\n      <th>223</th>\n      <td>Western Sahara</td>\n      <td>NORTHERN AFRICA</td>\n    </tr>\n    <tr>\n      <th>224</th>\n      <td>Yemen</td>\n      <td>NEAR EAST</td>\n    </tr>\n    <tr>\n      <th>225</th>\n      <td>Zambia</td>\n      <td>SUB-SAHARAN AFRICA</td>\n    </tr>\n    <tr>\n      <th>226</th>\n      <td>Zimbabwe</td>\n      <td>SUB-SAHARAN AFRICA</td>\n    </tr>\n  </tbody>\n</table>\n<p>227 rows × 2 columns</p>\n</div>"
     },
     "execution_count": 14,
     "metadata": {},
     "output_type": "execute_result"
    }
   ],
   "source": [
    "df = pd.read_table(r\"C:\\Users\\akpin\\PycharmProjects\\Pandas\\countries of the world.txt\")\n",
    "df"
   ],
   "metadata": {
    "collapsed": false,
    "ExecuteTime": {
     "end_time": "2024-05-01T23:19:31.717412Z",
     "start_time": "2024-05-01T23:19:31.709740Z"
    }
   },
   "id": "32d7fe088264bbe5",
   "execution_count": 14
  },
  {
   "cell_type": "markdown",
   "source": [
    "#### We can use read in as a table to read csv file as well:"
   ],
   "metadata": {
    "collapsed": false
   },
   "id": "cc53bc0742268cd9"
  },
  {
   "cell_type": "code",
   "outputs": [
    {
     "data": {
      "text/plain": "                                        Country,Region\n0           Afghanistan ,ASIA (EX. NEAR EAST)         \n1         Albania ,EASTERN EUROPE                     \n2         Algeria ,NORTHERN AFRICA                    \n3    American Samoa ,OCEANIA                       ...\n4         Andorra ,WESTERN EUROPE                     \n..                                                 ...\n222     West Bank ,NEAR EAST                          \n223  Western Sahara ,NORTHERN AFRICA               ...\n224         Yemen ,NEAR EAST                          \n225        Zambia ,SUB-SAHARAN AFRICA                 \n226      Zimbabwe ,SUB-SAHARAN AFRICA                 \n\n[227 rows x 1 columns]",
      "text/html": "<div>\n<style scoped>\n    .dataframe tbody tr th:only-of-type {\n        vertical-align: middle;\n    }\n\n    .dataframe tbody tr th {\n        vertical-align: top;\n    }\n\n    .dataframe thead th {\n        text-align: right;\n    }\n</style>\n<table border=\"1\" class=\"dataframe\">\n  <thead>\n    <tr style=\"text-align: right;\">\n      <th></th>\n      <th>Country,Region</th>\n    </tr>\n  </thead>\n  <tbody>\n    <tr>\n      <th>0</th>\n      <td>Afghanistan ,ASIA (EX. NEAR EAST)</td>\n    </tr>\n    <tr>\n      <th>1</th>\n      <td>Albania ,EASTERN EUROPE</td>\n    </tr>\n    <tr>\n      <th>2</th>\n      <td>Algeria ,NORTHERN AFRICA</td>\n    </tr>\n    <tr>\n      <th>3</th>\n      <td>American Samoa ,OCEANIA                       ...</td>\n    </tr>\n    <tr>\n      <th>4</th>\n      <td>Andorra ,WESTERN EUROPE</td>\n    </tr>\n    <tr>\n      <th>...</th>\n      <td>...</td>\n    </tr>\n    <tr>\n      <th>222</th>\n      <td>West Bank ,NEAR EAST</td>\n    </tr>\n    <tr>\n      <th>223</th>\n      <td>Western Sahara ,NORTHERN AFRICA               ...</td>\n    </tr>\n    <tr>\n      <th>224</th>\n      <td>Yemen ,NEAR EAST</td>\n    </tr>\n    <tr>\n      <th>225</th>\n      <td>Zambia ,SUB-SAHARAN AFRICA</td>\n    </tr>\n    <tr>\n      <th>226</th>\n      <td>Zimbabwe ,SUB-SAHARAN AFRICA</td>\n    </tr>\n  </tbody>\n</table>\n<p>227 rows × 1 columns</p>\n</div>"
     },
     "execution_count": 15,
     "metadata": {},
     "output_type": "execute_result"
    }
   ],
   "source": [
    "df = pd.read_table(r\"C:\\Users\\akpin\\PycharmProjects\\Pandas\\countries of the world.csv\")\n",
    "df"
   ],
   "metadata": {
    "collapsed": false,
    "ExecuteTime": {
     "end_time": "2024-05-01T23:19:39.792180Z",
     "start_time": "2024-05-01T23:19:39.784550Z"
    }
   },
   "id": "5eb0191826d8d6bf",
   "execution_count": 15
  },
  {
   "cell_type": "markdown",
   "source": [
    "##### But now we need to use seperater:"
   ],
   "metadata": {
    "collapsed": false
   },
   "id": "f782f0880fbfa52c"
  },
  {
   "cell_type": "code",
   "outputs": [
    {
     "data": {
      "text/plain": "             Country                               Region\n0       Afghanistan         ASIA (EX. NEAR EAST)         \n1           Albania   EASTERN EUROPE                     \n2           Algeria   NORTHERN AFRICA                    \n3    American Samoa   OCEANIA                            \n4           Andorra   WESTERN EUROPE                     \n..               ...                                  ...\n222       West Bank   NEAR EAST                          \n223  Western Sahara   NORTHERN AFRICA                    \n224           Yemen   NEAR EAST                          \n225          Zambia   SUB-SAHARAN AFRICA                 \n226        Zimbabwe   SUB-SAHARAN AFRICA                 \n\n[227 rows x 2 columns]",
      "text/html": "<div>\n<style scoped>\n    .dataframe tbody tr th:only-of-type {\n        vertical-align: middle;\n    }\n\n    .dataframe tbody tr th {\n        vertical-align: top;\n    }\n\n    .dataframe thead th {\n        text-align: right;\n    }\n</style>\n<table border=\"1\" class=\"dataframe\">\n  <thead>\n    <tr style=\"text-align: right;\">\n      <th></th>\n      <th>Country</th>\n      <th>Region</th>\n    </tr>\n  </thead>\n  <tbody>\n    <tr>\n      <th>0</th>\n      <td>Afghanistan</td>\n      <td>ASIA (EX. NEAR EAST)</td>\n    </tr>\n    <tr>\n      <th>1</th>\n      <td>Albania</td>\n      <td>EASTERN EUROPE</td>\n    </tr>\n    <tr>\n      <th>2</th>\n      <td>Algeria</td>\n      <td>NORTHERN AFRICA</td>\n    </tr>\n    <tr>\n      <th>3</th>\n      <td>American Samoa</td>\n      <td>OCEANIA</td>\n    </tr>\n    <tr>\n      <th>4</th>\n      <td>Andorra</td>\n      <td>WESTERN EUROPE</td>\n    </tr>\n    <tr>\n      <th>...</th>\n      <td>...</td>\n      <td>...</td>\n    </tr>\n    <tr>\n      <th>222</th>\n      <td>West Bank</td>\n      <td>NEAR EAST</td>\n    </tr>\n    <tr>\n      <th>223</th>\n      <td>Western Sahara</td>\n      <td>NORTHERN AFRICA</td>\n    </tr>\n    <tr>\n      <th>224</th>\n      <td>Yemen</td>\n      <td>NEAR EAST</td>\n    </tr>\n    <tr>\n      <th>225</th>\n      <td>Zambia</td>\n      <td>SUB-SAHARAN AFRICA</td>\n    </tr>\n    <tr>\n      <th>226</th>\n      <td>Zimbabwe</td>\n      <td>SUB-SAHARAN AFRICA</td>\n    </tr>\n  </tbody>\n</table>\n<p>227 rows × 2 columns</p>\n</div>"
     },
     "execution_count": 16,
     "metadata": {},
     "output_type": "execute_result"
    }
   ],
   "source": [
    "df = pd.read_table(r\"C:\\Users\\akpin\\PycharmProjects\\Pandas\\countries of the world.csv\",sep=\",\")\n",
    "df"
   ],
   "metadata": {
    "collapsed": false,
    "ExecuteTime": {
     "end_time": "2024-05-01T23:19:41.963612Z",
     "start_time": "2024-05-01T23:19:41.955168Z"
    }
   },
   "id": "65b937b2a42f5990",
   "execution_count": 16
  },
  {
   "cell_type": "markdown",
   "source": [
    "### Read in .json files:"
   ],
   "metadata": {
    "collapsed": false
   },
   "id": "1d27570f89c6b164"
  },
  {
   "cell_type": "code",
   "outputs": [
    {
     "data": {
      "text/plain": "                                           12 Strong  \\\n0  {'Genre': 'Action', 'Gross': '$453,173', 'IMDB...   \n\n            A Fantastic Woman (Una Mujer Fantástica)  \\\n0  {'popcornscore': 83, 'rating': 'R', 'tomatosco...   \n\n                          All The Money In The World  \\\n0  {'popcornscore': 71, 'rating': 'R', 'tomatosco...   \n\n                          Bilal: A New Breed Of Hero  \\\n0  {'popcornscore': 91, 'rating': 'PG13', 'tomato...   \n\n                                Call Me By Your Name  \\\n0  {'popcornscore': 87, 'rating': 'R', 'tomatosco...   \n\n                                        Darkest Hour  \\\n0  {'popcornscore': 84, 'rating': 'PG13', 'tomato...   \n\n                                      Den Of Thieves  \\\n0  {'Genre': 'Action', 'Gross': '$491,898', 'IMDB...   \n\n                                           Ferdinand  \\\n0  {'popcornscore': 49, 'rating': 'PG', 'tomatosc...   \n\n                                  Fifty Shades Freed  \\\n0  {'Genre': 'Drama', 'Gross': 'unknown', 'IMDB M...   \n\n                   Film Stars Don'T Die In Liverpool  ...  \\\n0  {'popcornscore': 69, 'rating': 'R', 'tomatosco...  ...   \n\n                                  The 15:17 To Paris  \\\n0  {'Genre': 'Drama', 'Gross': 'unknown', 'IMDB M...   \n\n                                        The Commuter  \\\n0  {'popcornscore': 48, 'rating': 'PG13', 'tomato...   \n\n                                 The Disaster Artist  \\\n0  {'popcornscore': 89, 'rating': 'R', 'tomatosco...   \n\n                                The Greatest Showman  \\\n0  {'Genre': 'Biography', 'Gross': '$627,248', 'I...   \n\n                              The Insult (L'Insulte)  \\\n0  {'popcornscore': 86, 'rating': 'R', 'tomatosco...   \n\n                                            The Post  \\\n0  {'Genre': 'Biography', 'Gross': '$463,228', 'I...   \n\n                                  The Shape Of Water  \\\n0  {'Genre': 'Adventure', 'Gross': '$448,287', 'I...   \n\n           Three Billboards Outside Ebbing, Missouri  \\\n0  {'popcornscore': 87, 'rating': 'R', 'tomatosco...   \n\n                           Till The End Of The World  \\\n0  {'popcornscore': -1, 'rating': 'NR', 'tomatosc...   \n\n                                          Winchester  \n0  {'Genre': 'Biography', 'Gross': '$696,786', 'I...  \n\n[1 rows x 38 columns]",
      "text/html": "<div>\n<style scoped>\n    .dataframe tbody tr th:only-of-type {\n        vertical-align: middle;\n    }\n\n    .dataframe tbody tr th {\n        vertical-align: top;\n    }\n\n    .dataframe thead th {\n        text-align: right;\n    }\n</style>\n<table border=\"1\" class=\"dataframe\">\n  <thead>\n    <tr style=\"text-align: right;\">\n      <th></th>\n      <th>12 Strong</th>\n      <th>A Fantastic Woman (Una Mujer Fantástica)</th>\n      <th>All The Money In The World</th>\n      <th>Bilal: A New Breed Of Hero</th>\n      <th>Call Me By Your Name</th>\n      <th>Darkest Hour</th>\n      <th>Den Of Thieves</th>\n      <th>Ferdinand</th>\n      <th>Fifty Shades Freed</th>\n      <th>Film Stars Don'T Die In Liverpool</th>\n      <th>...</th>\n      <th>The 15:17 To Paris</th>\n      <th>The Commuter</th>\n      <th>The Disaster Artist</th>\n      <th>The Greatest Showman</th>\n      <th>The Insult (L'Insulte)</th>\n      <th>The Post</th>\n      <th>The Shape Of Water</th>\n      <th>Three Billboards Outside Ebbing, Missouri</th>\n      <th>Till The End Of The World</th>\n      <th>Winchester</th>\n    </tr>\n  </thead>\n  <tbody>\n    <tr>\n      <th>0</th>\n      <td>{'Genre': 'Action', 'Gross': '$453,173', 'IMDB...</td>\n      <td>{'popcornscore': 83, 'rating': 'R', 'tomatosco...</td>\n      <td>{'popcornscore': 71, 'rating': 'R', 'tomatosco...</td>\n      <td>{'popcornscore': 91, 'rating': 'PG13', 'tomato...</td>\n      <td>{'popcornscore': 87, 'rating': 'R', 'tomatosco...</td>\n      <td>{'popcornscore': 84, 'rating': 'PG13', 'tomato...</td>\n      <td>{'Genre': 'Action', 'Gross': '$491,898', 'IMDB...</td>\n      <td>{'popcornscore': 49, 'rating': 'PG', 'tomatosc...</td>\n      <td>{'Genre': 'Drama', 'Gross': 'unknown', 'IMDB M...</td>\n      <td>{'popcornscore': 69, 'rating': 'R', 'tomatosco...</td>\n      <td>...</td>\n      <td>{'Genre': 'Drama', 'Gross': 'unknown', 'IMDB M...</td>\n      <td>{'popcornscore': 48, 'rating': 'PG13', 'tomato...</td>\n      <td>{'popcornscore': 89, 'rating': 'R', 'tomatosco...</td>\n      <td>{'Genre': 'Biography', 'Gross': '$627,248', 'I...</td>\n      <td>{'popcornscore': 86, 'rating': 'R', 'tomatosco...</td>\n      <td>{'Genre': 'Biography', 'Gross': '$463,228', 'I...</td>\n      <td>{'Genre': 'Adventure', 'Gross': '$448,287', 'I...</td>\n      <td>{'popcornscore': 87, 'rating': 'R', 'tomatosco...</td>\n      <td>{'popcornscore': -1, 'rating': 'NR', 'tomatosc...</td>\n      <td>{'Genre': 'Biography', 'Gross': '$696,786', 'I...</td>\n    </tr>\n  </tbody>\n</table>\n<p>1 rows × 38 columns</p>\n</div>"
     },
     "execution_count": 17,
     "metadata": {},
     "output_type": "execute_result"
    }
   ],
   "source": [
    "df = pd.read_json(r\"C:\\Users\\akpin\\PycharmProjects\\Pandas\\json_sample.json\")\n",
    "df"
   ],
   "metadata": {
    "collapsed": false,
    "ExecuteTime": {
     "end_time": "2024-05-01T23:19:47.343658Z",
     "start_time": "2024-05-01T23:19:47.297780Z"
    }
   },
   "id": "7168b57171fc608a",
   "execution_count": 17
  },
  {
   "cell_type": "markdown",
   "source": [
    "### Read in excel files: (First you need to pip install openpyxl)"
   ],
   "metadata": {
    "collapsed": false
   },
   "id": "ae183604f01f2074"
  },
  {
   "cell_type": "markdown",
   "source": [
    "##### There is two sheets in this excel file. Default is the first one: "
   ],
   "metadata": {
    "collapsed": false
   },
   "id": "edf0ccae1b37b66a"
  },
  {
   "cell_type": "code",
   "outputs": [
    {
     "data": {
      "text/plain": "     Rank CCA3            Country           Capital Continent  \\\n0      36  AFG        Afghanistan             Kabul      Asia   \n1     138  ALB            Albania            Tirana    Europe   \n2      34  DZA            Algeria           Algiers    Africa   \n3     213  ASM     American Samoa         Pago Pago   Oceania   \n4     203  AND            Andorra  Andorra la Vella    Europe   \n..    ...  ...                ...               ...       ...   \n229   226  WLF  Wallis and Futuna          Mata-Utu   Oceania   \n230   172  ESH     Western Sahara         El AaiÃºn    Africa   \n231    46  YEM              Yemen             Sanaa      Asia   \n232    63  ZMB             Zambia            Lusaka    Africa   \n233    74  ZWE           Zimbabwe            Harare    Africa   \n\n     2022 Population  2020 Population  2015 Population  2010 Population  \\\n0           41128771         38972230         33753499         28189672   \n1            2842321          2866849          2882481          2913399   \n2           44903225         43451666         39543154         35856344   \n3              44273            46189            51368            54849   \n4              79824            77700            71746            71519   \n..               ...              ...              ...              ...   \n229            11572            11655            12182            13142   \n230           575986           556048           491824           413296   \n231         33696614         32284046         28516545         24743946   \n232         20017675         18927715         16248230         13792086   \n233         16320537         15669666         14154937         12839771   \n\n     2000 Population  1990 Population  1980 Population  1970 Population  \\\n0           19542982         10694796         12486631         10752971   \n1            3182021          3295066          2941651          2324731   \n2           30774621         25518074         18739378         13795915   \n3              58230            47818            32886            27075   \n4              66097            53569            35611            19860   \n..               ...              ...              ...              ...   \n229            14723            13454            11315             9377   \n230           270375           178529           116775            76371   \n231         18628700         13375121          9204938          6843607   \n232          9891136          7686401          5720438          4281671   \n233         11834676         10113893          7049926          5202918   \n\n     Area (kmÂ²)  Density (per kmÂ²)  Growth Rate  World Population Percentage  \n0         652230             63.0587       1.0257                         0.52  \n1          28748             98.8702       0.9957                         0.04  \n2        2381741             18.8531       1.0164                         0.56  \n3            199            222.4774       0.9831                         0.00  \n4            468            170.5641       1.0100                         0.00  \n..           ...                 ...          ...                          ...  \n229          142             81.4930       0.9953                         0.00  \n230       266000              2.1654       1.0184                         0.01  \n231       527968             63.8232       1.0217                         0.42  \n232       752612             26.5976       1.0280                         0.25  \n233       390757             41.7665       1.0204                         0.20  \n\n[234 rows x 17 columns]",
      "text/html": "<div>\n<style scoped>\n    .dataframe tbody tr th:only-of-type {\n        vertical-align: middle;\n    }\n\n    .dataframe tbody tr th {\n        vertical-align: top;\n    }\n\n    .dataframe thead th {\n        text-align: right;\n    }\n</style>\n<table border=\"1\" class=\"dataframe\">\n  <thead>\n    <tr style=\"text-align: right;\">\n      <th></th>\n      <th>Rank</th>\n      <th>CCA3</th>\n      <th>Country</th>\n      <th>Capital</th>\n      <th>Continent</th>\n      <th>2022 Population</th>\n      <th>2020 Population</th>\n      <th>2015 Population</th>\n      <th>2010 Population</th>\n      <th>2000 Population</th>\n      <th>1990 Population</th>\n      <th>1980 Population</th>\n      <th>1970 Population</th>\n      <th>Area (kmÂ²)</th>\n      <th>Density (per kmÂ²)</th>\n      <th>Growth Rate</th>\n      <th>World Population Percentage</th>\n    </tr>\n  </thead>\n  <tbody>\n    <tr>\n      <th>0</th>\n      <td>36</td>\n      <td>AFG</td>\n      <td>Afghanistan</td>\n      <td>Kabul</td>\n      <td>Asia</td>\n      <td>41128771</td>\n      <td>38972230</td>\n      <td>33753499</td>\n      <td>28189672</td>\n      <td>19542982</td>\n      <td>10694796</td>\n      <td>12486631</td>\n      <td>10752971</td>\n      <td>652230</td>\n      <td>63.0587</td>\n      <td>1.0257</td>\n      <td>0.52</td>\n    </tr>\n    <tr>\n      <th>1</th>\n      <td>138</td>\n      <td>ALB</td>\n      <td>Albania</td>\n      <td>Tirana</td>\n      <td>Europe</td>\n      <td>2842321</td>\n      <td>2866849</td>\n      <td>2882481</td>\n      <td>2913399</td>\n      <td>3182021</td>\n      <td>3295066</td>\n      <td>2941651</td>\n      <td>2324731</td>\n      <td>28748</td>\n      <td>98.8702</td>\n      <td>0.9957</td>\n      <td>0.04</td>\n    </tr>\n    <tr>\n      <th>2</th>\n      <td>34</td>\n      <td>DZA</td>\n      <td>Algeria</td>\n      <td>Algiers</td>\n      <td>Africa</td>\n      <td>44903225</td>\n      <td>43451666</td>\n      <td>39543154</td>\n      <td>35856344</td>\n      <td>30774621</td>\n      <td>25518074</td>\n      <td>18739378</td>\n      <td>13795915</td>\n      <td>2381741</td>\n      <td>18.8531</td>\n      <td>1.0164</td>\n      <td>0.56</td>\n    </tr>\n    <tr>\n      <th>3</th>\n      <td>213</td>\n      <td>ASM</td>\n      <td>American Samoa</td>\n      <td>Pago Pago</td>\n      <td>Oceania</td>\n      <td>44273</td>\n      <td>46189</td>\n      <td>51368</td>\n      <td>54849</td>\n      <td>58230</td>\n      <td>47818</td>\n      <td>32886</td>\n      <td>27075</td>\n      <td>199</td>\n      <td>222.4774</td>\n      <td>0.9831</td>\n      <td>0.00</td>\n    </tr>\n    <tr>\n      <th>4</th>\n      <td>203</td>\n      <td>AND</td>\n      <td>Andorra</td>\n      <td>Andorra la Vella</td>\n      <td>Europe</td>\n      <td>79824</td>\n      <td>77700</td>\n      <td>71746</td>\n      <td>71519</td>\n      <td>66097</td>\n      <td>53569</td>\n      <td>35611</td>\n      <td>19860</td>\n      <td>468</td>\n      <td>170.5641</td>\n      <td>1.0100</td>\n      <td>0.00</td>\n    </tr>\n    <tr>\n      <th>...</th>\n      <td>...</td>\n      <td>...</td>\n      <td>...</td>\n      <td>...</td>\n      <td>...</td>\n      <td>...</td>\n      <td>...</td>\n      <td>...</td>\n      <td>...</td>\n      <td>...</td>\n      <td>...</td>\n      <td>...</td>\n      <td>...</td>\n      <td>...</td>\n      <td>...</td>\n      <td>...</td>\n      <td>...</td>\n    </tr>\n    <tr>\n      <th>229</th>\n      <td>226</td>\n      <td>WLF</td>\n      <td>Wallis and Futuna</td>\n      <td>Mata-Utu</td>\n      <td>Oceania</td>\n      <td>11572</td>\n      <td>11655</td>\n      <td>12182</td>\n      <td>13142</td>\n      <td>14723</td>\n      <td>13454</td>\n      <td>11315</td>\n      <td>9377</td>\n      <td>142</td>\n      <td>81.4930</td>\n      <td>0.9953</td>\n      <td>0.00</td>\n    </tr>\n    <tr>\n      <th>230</th>\n      <td>172</td>\n      <td>ESH</td>\n      <td>Western Sahara</td>\n      <td>El AaiÃºn</td>\n      <td>Africa</td>\n      <td>575986</td>\n      <td>556048</td>\n      <td>491824</td>\n      <td>413296</td>\n      <td>270375</td>\n      <td>178529</td>\n      <td>116775</td>\n      <td>76371</td>\n      <td>266000</td>\n      <td>2.1654</td>\n      <td>1.0184</td>\n      <td>0.01</td>\n    </tr>\n    <tr>\n      <th>231</th>\n      <td>46</td>\n      <td>YEM</td>\n      <td>Yemen</td>\n      <td>Sanaa</td>\n      <td>Asia</td>\n      <td>33696614</td>\n      <td>32284046</td>\n      <td>28516545</td>\n      <td>24743946</td>\n      <td>18628700</td>\n      <td>13375121</td>\n      <td>9204938</td>\n      <td>6843607</td>\n      <td>527968</td>\n      <td>63.8232</td>\n      <td>1.0217</td>\n      <td>0.42</td>\n    </tr>\n    <tr>\n      <th>232</th>\n      <td>63</td>\n      <td>ZMB</td>\n      <td>Zambia</td>\n      <td>Lusaka</td>\n      <td>Africa</td>\n      <td>20017675</td>\n      <td>18927715</td>\n      <td>16248230</td>\n      <td>13792086</td>\n      <td>9891136</td>\n      <td>7686401</td>\n      <td>5720438</td>\n      <td>4281671</td>\n      <td>752612</td>\n      <td>26.5976</td>\n      <td>1.0280</td>\n      <td>0.25</td>\n    </tr>\n    <tr>\n      <th>233</th>\n      <td>74</td>\n      <td>ZWE</td>\n      <td>Zimbabwe</td>\n      <td>Harare</td>\n      <td>Africa</td>\n      <td>16320537</td>\n      <td>15669666</td>\n      <td>14154937</td>\n      <td>12839771</td>\n      <td>11834676</td>\n      <td>10113893</td>\n      <td>7049926</td>\n      <td>5202918</td>\n      <td>390757</td>\n      <td>41.7665</td>\n      <td>1.0204</td>\n      <td>0.20</td>\n    </tr>\n  </tbody>\n</table>\n<p>234 rows × 17 columns</p>\n</div>"
     },
     "execution_count": 18,
     "metadata": {},
     "output_type": "execute_result"
    }
   ],
   "source": [
    "df = pd.read_excel(r\"C:\\Users\\akpin\\PycharmProjects\\Pandas\\world_population_excel_workbook.xlsx\")\n",
    "df"
   ],
   "metadata": {
    "collapsed": false,
    "ExecuteTime": {
     "end_time": "2024-05-01T23:19:57.325914Z",
     "start_time": "2024-05-01T23:19:57.012460Z"
    }
   },
   "id": "dd57c4abc35ca6d3",
   "execution_count": 18
  },
  {
   "cell_type": "markdown",
   "source": [
    "##### If we want to read in the second or any other sheet, we specify the name of the sheet"
   ],
   "metadata": {
    "collapsed": false
   },
   "id": "d549a3a86583bb8a"
  },
  {
   "cell_type": "code",
   "outputs": [
    {
     "data": {
      "text/plain": "     Rank CCA3            Country           Capital\n0      36  AFG        Afghanistan             Kabul\n1     138  ALB            Albania            Tirana\n2      34  DZA            Algeria           Algiers\n3     213  ASM     American Samoa         Pago Pago\n4     203  AND            Andorra  Andorra la Vella\n..    ...  ...                ...               ...\n229   226  WLF  Wallis and Futuna          Mata-Utu\n230   172  ESH     Western Sahara         El AaiÃºn\n231    46  YEM              Yemen             Sanaa\n232    63  ZMB             Zambia            Lusaka\n233    74  ZWE           Zimbabwe            Harare\n\n[234 rows x 4 columns]",
      "text/html": "<div>\n<style scoped>\n    .dataframe tbody tr th:only-of-type {\n        vertical-align: middle;\n    }\n\n    .dataframe tbody tr th {\n        vertical-align: top;\n    }\n\n    .dataframe thead th {\n        text-align: right;\n    }\n</style>\n<table border=\"1\" class=\"dataframe\">\n  <thead>\n    <tr style=\"text-align: right;\">\n      <th></th>\n      <th>Rank</th>\n      <th>CCA3</th>\n      <th>Country</th>\n      <th>Capital</th>\n    </tr>\n  </thead>\n  <tbody>\n    <tr>\n      <th>0</th>\n      <td>36</td>\n      <td>AFG</td>\n      <td>Afghanistan</td>\n      <td>Kabul</td>\n    </tr>\n    <tr>\n      <th>1</th>\n      <td>138</td>\n      <td>ALB</td>\n      <td>Albania</td>\n      <td>Tirana</td>\n    </tr>\n    <tr>\n      <th>2</th>\n      <td>34</td>\n      <td>DZA</td>\n      <td>Algeria</td>\n      <td>Algiers</td>\n    </tr>\n    <tr>\n      <th>3</th>\n      <td>213</td>\n      <td>ASM</td>\n      <td>American Samoa</td>\n      <td>Pago Pago</td>\n    </tr>\n    <tr>\n      <th>4</th>\n      <td>203</td>\n      <td>AND</td>\n      <td>Andorra</td>\n      <td>Andorra la Vella</td>\n    </tr>\n    <tr>\n      <th>...</th>\n      <td>...</td>\n      <td>...</td>\n      <td>...</td>\n      <td>...</td>\n    </tr>\n    <tr>\n      <th>229</th>\n      <td>226</td>\n      <td>WLF</td>\n      <td>Wallis and Futuna</td>\n      <td>Mata-Utu</td>\n    </tr>\n    <tr>\n      <th>230</th>\n      <td>172</td>\n      <td>ESH</td>\n      <td>Western Sahara</td>\n      <td>El AaiÃºn</td>\n    </tr>\n    <tr>\n      <th>231</th>\n      <td>46</td>\n      <td>YEM</td>\n      <td>Yemen</td>\n      <td>Sanaa</td>\n    </tr>\n    <tr>\n      <th>232</th>\n      <td>63</td>\n      <td>ZMB</td>\n      <td>Zambia</td>\n      <td>Lusaka</td>\n    </tr>\n    <tr>\n      <th>233</th>\n      <td>74</td>\n      <td>ZWE</td>\n      <td>Zimbabwe</td>\n      <td>Harare</td>\n    </tr>\n  </tbody>\n</table>\n<p>234 rows × 4 columns</p>\n</div>"
     },
     "execution_count": 19,
     "metadata": {},
     "output_type": "execute_result"
    }
   ],
   "source": [
    "df2 = pd.read_excel(r\"C:\\Users\\akpin\\PycharmProjects\\Pandas\\world_population_excel_workbook.xlsx\",sheet_name=\"Sheet1\")\n",
    "df2"
   ],
   "metadata": {
    "collapsed": false,
    "ExecuteTime": {
     "end_time": "2024-05-01T23:20:05.341749Z",
     "start_time": "2024-05-01T23:20:05.308067Z"
    }
   },
   "id": "28d503169ff898b0",
   "execution_count": 19
  },
  {
   "cell_type": "markdown",
   "source": [
    "### Looking at data in data frame:"
   ],
   "metadata": {
    "collapsed": false
   },
   "id": "542abdd8e86a2fe9"
  },
  {
   "cell_type": "code",
   "outputs": [
    {
     "name": "stdout",
     "output_type": "stream",
     "text": [
      "<class 'pandas.core.frame.DataFrame'>\n",
      "RangeIndex: 234 entries, 0 to 233\n",
      "Data columns (total 4 columns):\n",
      " #   Column   Non-Null Count  Dtype \n",
      "---  ------   --------------  ----- \n",
      " 0   Rank     234 non-null    int64 \n",
      " 1   CCA3     234 non-null    object\n",
      " 2   Country  234 non-null    object\n",
      " 3   Capital  234 non-null    object\n",
      "dtypes: int64(1), object(3)\n",
      "memory usage: 7.4+ KB\n"
     ]
    }
   ],
   "source": [
    "df2.info()"
   ],
   "metadata": {
    "collapsed": false,
    "ExecuteTime": {
     "end_time": "2024-05-01T23:20:10.474289Z",
     "start_time": "2024-05-01T23:20:10.453064Z"
    }
   },
   "id": "1e243f2280cd263a",
   "execution_count": 20
  },
  {
   "cell_type": "code",
   "outputs": [
    {
     "data": {
      "text/plain": "(234, 4)"
     },
     "execution_count": 21,
     "metadata": {},
     "output_type": "execute_result"
    }
   ],
   "source": [
    "df2.shape"
   ],
   "metadata": {
    "collapsed": false,
    "ExecuteTime": {
     "end_time": "2024-05-01T23:20:16.877947Z",
     "start_time": "2024-05-01T23:20:16.873756Z"
    }
   },
   "id": "8a7d9d6cf176bd8e",
   "execution_count": 21
  },
  {
   "cell_type": "code",
   "outputs": [
    {
     "data": {
      "text/plain": "   Rank CCA3         Country           Capital\n0    36  AFG     Afghanistan             Kabul\n1   138  ALB         Albania            Tirana\n2    34  DZA         Algeria           Algiers\n3   213  ASM  American Samoa         Pago Pago\n4   203  AND         Andorra  Andorra la Vella\n5    42  AGO          Angola            Luanda",
      "text/html": "<div>\n<style scoped>\n    .dataframe tbody tr th:only-of-type {\n        vertical-align: middle;\n    }\n\n    .dataframe tbody tr th {\n        vertical-align: top;\n    }\n\n    .dataframe thead th {\n        text-align: right;\n    }\n</style>\n<table border=\"1\" class=\"dataframe\">\n  <thead>\n    <tr style=\"text-align: right;\">\n      <th></th>\n      <th>Rank</th>\n      <th>CCA3</th>\n      <th>Country</th>\n      <th>Capital</th>\n    </tr>\n  </thead>\n  <tbody>\n    <tr>\n      <th>0</th>\n      <td>36</td>\n      <td>AFG</td>\n      <td>Afghanistan</td>\n      <td>Kabul</td>\n    </tr>\n    <tr>\n      <th>1</th>\n      <td>138</td>\n      <td>ALB</td>\n      <td>Albania</td>\n      <td>Tirana</td>\n    </tr>\n    <tr>\n      <th>2</th>\n      <td>34</td>\n      <td>DZA</td>\n      <td>Algeria</td>\n      <td>Algiers</td>\n    </tr>\n    <tr>\n      <th>3</th>\n      <td>213</td>\n      <td>ASM</td>\n      <td>American Samoa</td>\n      <td>Pago Pago</td>\n    </tr>\n    <tr>\n      <th>4</th>\n      <td>203</td>\n      <td>AND</td>\n      <td>Andorra</td>\n      <td>Andorra la Vella</td>\n    </tr>\n    <tr>\n      <th>5</th>\n      <td>42</td>\n      <td>AGO</td>\n      <td>Angola</td>\n      <td>Luanda</td>\n    </tr>\n  </tbody>\n</table>\n</div>"
     },
     "execution_count": 22,
     "metadata": {},
     "output_type": "execute_result"
    }
   ],
   "source": [
    "df2.head(6)"
   ],
   "metadata": {
    "collapsed": false,
    "ExecuteTime": {
     "end_time": "2024-05-01T23:20:24.976582Z",
     "start_time": "2024-05-01T23:20:24.970284Z"
    }
   },
   "id": "76e7c260429d6e50",
   "execution_count": 22
  },
  {
   "cell_type": "code",
   "outputs": [
    {
     "data": {
      "text/plain": "     Rank CCA3            Country    Capital\n228    16  VNM            Vietnam      Hanoi\n229   226  WLF  Wallis and Futuna   Mata-Utu\n230   172  ESH     Western Sahara  El AaiÃºn\n231    46  YEM              Yemen      Sanaa\n232    63  ZMB             Zambia     Lusaka\n233    74  ZWE           Zimbabwe     Harare",
      "text/html": "<div>\n<style scoped>\n    .dataframe tbody tr th:only-of-type {\n        vertical-align: middle;\n    }\n\n    .dataframe tbody tr th {\n        vertical-align: top;\n    }\n\n    .dataframe thead th {\n        text-align: right;\n    }\n</style>\n<table border=\"1\" class=\"dataframe\">\n  <thead>\n    <tr style=\"text-align: right;\">\n      <th></th>\n      <th>Rank</th>\n      <th>CCA3</th>\n      <th>Country</th>\n      <th>Capital</th>\n    </tr>\n  </thead>\n  <tbody>\n    <tr>\n      <th>228</th>\n      <td>16</td>\n      <td>VNM</td>\n      <td>Vietnam</td>\n      <td>Hanoi</td>\n    </tr>\n    <tr>\n      <th>229</th>\n      <td>226</td>\n      <td>WLF</td>\n      <td>Wallis and Futuna</td>\n      <td>Mata-Utu</td>\n    </tr>\n    <tr>\n      <th>230</th>\n      <td>172</td>\n      <td>ESH</td>\n      <td>Western Sahara</td>\n      <td>El AaiÃºn</td>\n    </tr>\n    <tr>\n      <th>231</th>\n      <td>46</td>\n      <td>YEM</td>\n      <td>Yemen</td>\n      <td>Sanaa</td>\n    </tr>\n    <tr>\n      <th>232</th>\n      <td>63</td>\n      <td>ZMB</td>\n      <td>Zambia</td>\n      <td>Lusaka</td>\n    </tr>\n    <tr>\n      <th>233</th>\n      <td>74</td>\n      <td>ZWE</td>\n      <td>Zimbabwe</td>\n      <td>Harare</td>\n    </tr>\n  </tbody>\n</table>\n</div>"
     },
     "execution_count": 23,
     "metadata": {},
     "output_type": "execute_result"
    }
   ],
   "source": [
    "df2.tail(6)"
   ],
   "metadata": {
    "collapsed": false,
    "ExecuteTime": {
     "end_time": "2024-05-01T23:20:26.013734Z",
     "start_time": "2024-05-01T23:20:26.007942Z"
    }
   },
   "id": "93b8dc2c752cc708",
   "execution_count": 23
  },
  {
   "cell_type": "code",
   "outputs": [
    {
     "data": {
      "text/plain": "0       36\n1      138\n2       34\n3      213\n4      203\n      ... \n229    226\n230    172\n231     46\n232     63\n233     74\nName: Rank, Length: 234, dtype: int64"
     },
     "execution_count": 24,
     "metadata": {},
     "output_type": "execute_result"
    }
   ],
   "source": [
    "df2[\"Rank\"]"
   ],
   "metadata": {
    "collapsed": false,
    "ExecuteTime": {
     "end_time": "2024-05-01T23:20:29.522935Z",
     "start_time": "2024-05-01T23:20:29.518278Z"
    }
   },
   "id": "d729a99ef35f6508",
   "execution_count": 24
  },
  {
   "cell_type": "code",
   "outputs": [
    {
     "data": {
      "text/plain": "Rank               43\nCCA3              UZB\nCountry    Uzbekistan\nCapital      Tashkent\nName: 224, dtype: object"
     },
     "execution_count": 25,
     "metadata": {},
     "output_type": "execute_result"
    }
   ],
   "source": [
    "df2.loc[224]"
   ],
   "metadata": {
    "collapsed": false,
    "ExecuteTime": {
     "end_time": "2024-05-01T23:20:32.375024Z",
     "start_time": "2024-05-01T23:20:32.370013Z"
    }
   },
   "id": "61a40655a7aa2bdc",
   "execution_count": 25
  },
  {
   "cell_type": "code",
   "outputs": [
    {
     "data": {
      "text/plain": "Rank               43\nCCA3              UZB\nCountry    Uzbekistan\nCapital      Tashkent\nName: 224, dtype: object"
     },
     "execution_count": 26,
     "metadata": {},
     "output_type": "execute_result"
    }
   ],
   "source": [
    "df2.iloc[224]"
   ],
   "metadata": {
    "collapsed": false,
    "ExecuteTime": {
     "end_time": "2024-05-01T23:20:33.712260Z",
     "start_time": "2024-05-01T23:20:33.708260Z"
    }
   },
   "id": "b406863f10b69725",
   "execution_count": 26
  },
  {
   "cell_type": "code",
   "outputs": [
    {
     "data": {
      "text/plain": "     CCA3            Country           Capital Continent  2022 Population  \\\nRank                                                                        \n36    AFG        Afghanistan             Kabul      Asia         41128771   \n138   ALB            Albania            Tirana    Europe          2842321   \n34    DZA            Algeria           Algiers    Africa         44903225   \n213   ASM     American Samoa         Pago Pago   Oceania            44273   \n203   AND            Andorra  Andorra la Vella    Europe            79824   \n...   ...                ...               ...       ...              ...   \n226   WLF  Wallis and Futuna          Mata-Utu   Oceania            11572   \n172   ESH     Western Sahara         El AaiÃºn    Africa           575986   \n46    YEM              Yemen             Sanaa      Asia         33696614   \n63    ZMB             Zambia            Lusaka    Africa         20017675   \n74    ZWE           Zimbabwe            Harare    Africa         16320537   \n\n      2020 Population  2015 Population  2010 Population  2000 Population  \\\nRank                                                                       \n36           38972230         33753499         28189672         19542982   \n138           2866849          2882481          2913399          3182021   \n34           43451666         39543154         35856344         30774621   \n213             46189            51368            54849            58230   \n203             77700            71746            71519            66097   \n...               ...              ...              ...              ...   \n226             11655            12182            13142            14723   \n172            556048           491824           413296           270375   \n46           32284046         28516545         24743946         18628700   \n63           18927715         16248230         13792086          9891136   \n74           15669666         14154937         12839771         11834676   \n\n      1990 Population  1980 Population  1970 Population  Area (kmÂ²)  \\\nRank                                                                   \n36           10694796         12486631         10752971       652230   \n138           3295066          2941651          2324731        28748   \n34           25518074         18739378         13795915      2381741   \n213             47818            32886            27075          199   \n203             53569            35611            19860          468   \n...               ...              ...              ...          ...   \n226             13454            11315             9377          142   \n172            178529           116775            76371       266000   \n46           13375121          9204938          6843607       527968   \n63            7686401          5720438          4281671       752612   \n74           10113893          7049926          5202918       390757   \n\n      Density (per kmÂ²)  Growth Rate  World Population Percentage  \nRank                                                                \n36               63.0587       1.0257                         0.52  \n138              98.8702       0.9957                         0.04  \n34               18.8531       1.0164                         0.56  \n213             222.4774       0.9831                         0.00  \n203             170.5641       1.0100                         0.00  \n...                  ...          ...                          ...  \n226              81.4930       0.9953                         0.00  \n172               2.1654       1.0184                         0.01  \n46               63.8232       1.0217                         0.42  \n63               26.5976       1.0280                         0.25  \n74               41.7665       1.0204                         0.20  \n\n[234 rows x 16 columns]",
      "text/html": "<div>\n<style scoped>\n    .dataframe tbody tr th:only-of-type {\n        vertical-align: middle;\n    }\n\n    .dataframe tbody tr th {\n        vertical-align: top;\n    }\n\n    .dataframe thead th {\n        text-align: right;\n    }\n</style>\n<table border=\"1\" class=\"dataframe\">\n  <thead>\n    <tr style=\"text-align: right;\">\n      <th></th>\n      <th>CCA3</th>\n      <th>Country</th>\n      <th>Capital</th>\n      <th>Continent</th>\n      <th>2022 Population</th>\n      <th>2020 Population</th>\n      <th>2015 Population</th>\n      <th>2010 Population</th>\n      <th>2000 Population</th>\n      <th>1990 Population</th>\n      <th>1980 Population</th>\n      <th>1970 Population</th>\n      <th>Area (kmÂ²)</th>\n      <th>Density (per kmÂ²)</th>\n      <th>Growth Rate</th>\n      <th>World Population Percentage</th>\n    </tr>\n    <tr>\n      <th>Rank</th>\n      <th></th>\n      <th></th>\n      <th></th>\n      <th></th>\n      <th></th>\n      <th></th>\n      <th></th>\n      <th></th>\n      <th></th>\n      <th></th>\n      <th></th>\n      <th></th>\n      <th></th>\n      <th></th>\n      <th></th>\n      <th></th>\n    </tr>\n  </thead>\n  <tbody>\n    <tr>\n      <th>36</th>\n      <td>AFG</td>\n      <td>Afghanistan</td>\n      <td>Kabul</td>\n      <td>Asia</td>\n      <td>41128771</td>\n      <td>38972230</td>\n      <td>33753499</td>\n      <td>28189672</td>\n      <td>19542982</td>\n      <td>10694796</td>\n      <td>12486631</td>\n      <td>10752971</td>\n      <td>652230</td>\n      <td>63.0587</td>\n      <td>1.0257</td>\n      <td>0.52</td>\n    </tr>\n    <tr>\n      <th>138</th>\n      <td>ALB</td>\n      <td>Albania</td>\n      <td>Tirana</td>\n      <td>Europe</td>\n      <td>2842321</td>\n      <td>2866849</td>\n      <td>2882481</td>\n      <td>2913399</td>\n      <td>3182021</td>\n      <td>3295066</td>\n      <td>2941651</td>\n      <td>2324731</td>\n      <td>28748</td>\n      <td>98.8702</td>\n      <td>0.9957</td>\n      <td>0.04</td>\n    </tr>\n    <tr>\n      <th>34</th>\n      <td>DZA</td>\n      <td>Algeria</td>\n      <td>Algiers</td>\n      <td>Africa</td>\n      <td>44903225</td>\n      <td>43451666</td>\n      <td>39543154</td>\n      <td>35856344</td>\n      <td>30774621</td>\n      <td>25518074</td>\n      <td>18739378</td>\n      <td>13795915</td>\n      <td>2381741</td>\n      <td>18.8531</td>\n      <td>1.0164</td>\n      <td>0.56</td>\n    </tr>\n    <tr>\n      <th>213</th>\n      <td>ASM</td>\n      <td>American Samoa</td>\n      <td>Pago Pago</td>\n      <td>Oceania</td>\n      <td>44273</td>\n      <td>46189</td>\n      <td>51368</td>\n      <td>54849</td>\n      <td>58230</td>\n      <td>47818</td>\n      <td>32886</td>\n      <td>27075</td>\n      <td>199</td>\n      <td>222.4774</td>\n      <td>0.9831</td>\n      <td>0.00</td>\n    </tr>\n    <tr>\n      <th>203</th>\n      <td>AND</td>\n      <td>Andorra</td>\n      <td>Andorra la Vella</td>\n      <td>Europe</td>\n      <td>79824</td>\n      <td>77700</td>\n      <td>71746</td>\n      <td>71519</td>\n      <td>66097</td>\n      <td>53569</td>\n      <td>35611</td>\n      <td>19860</td>\n      <td>468</td>\n      <td>170.5641</td>\n      <td>1.0100</td>\n      <td>0.00</td>\n    </tr>\n    <tr>\n      <th>...</th>\n      <td>...</td>\n      <td>...</td>\n      <td>...</td>\n      <td>...</td>\n      <td>...</td>\n      <td>...</td>\n      <td>...</td>\n      <td>...</td>\n      <td>...</td>\n      <td>...</td>\n      <td>...</td>\n      <td>...</td>\n      <td>...</td>\n      <td>...</td>\n      <td>...</td>\n      <td>...</td>\n    </tr>\n    <tr>\n      <th>226</th>\n      <td>WLF</td>\n      <td>Wallis and Futuna</td>\n      <td>Mata-Utu</td>\n      <td>Oceania</td>\n      <td>11572</td>\n      <td>11655</td>\n      <td>12182</td>\n      <td>13142</td>\n      <td>14723</td>\n      <td>13454</td>\n      <td>11315</td>\n      <td>9377</td>\n      <td>142</td>\n      <td>81.4930</td>\n      <td>0.9953</td>\n      <td>0.00</td>\n    </tr>\n    <tr>\n      <th>172</th>\n      <td>ESH</td>\n      <td>Western Sahara</td>\n      <td>El AaiÃºn</td>\n      <td>Africa</td>\n      <td>575986</td>\n      <td>556048</td>\n      <td>491824</td>\n      <td>413296</td>\n      <td>270375</td>\n      <td>178529</td>\n      <td>116775</td>\n      <td>76371</td>\n      <td>266000</td>\n      <td>2.1654</td>\n      <td>1.0184</td>\n      <td>0.01</td>\n    </tr>\n    <tr>\n      <th>46</th>\n      <td>YEM</td>\n      <td>Yemen</td>\n      <td>Sanaa</td>\n      <td>Asia</td>\n      <td>33696614</td>\n      <td>32284046</td>\n      <td>28516545</td>\n      <td>24743946</td>\n      <td>18628700</td>\n      <td>13375121</td>\n      <td>9204938</td>\n      <td>6843607</td>\n      <td>527968</td>\n      <td>63.8232</td>\n      <td>1.0217</td>\n      <td>0.42</td>\n    </tr>\n    <tr>\n      <th>63</th>\n      <td>ZMB</td>\n      <td>Zambia</td>\n      <td>Lusaka</td>\n      <td>Africa</td>\n      <td>20017675</td>\n      <td>18927715</td>\n      <td>16248230</td>\n      <td>13792086</td>\n      <td>9891136</td>\n      <td>7686401</td>\n      <td>5720438</td>\n      <td>4281671</td>\n      <td>752612</td>\n      <td>26.5976</td>\n      <td>1.0280</td>\n      <td>0.25</td>\n    </tr>\n    <tr>\n      <th>74</th>\n      <td>ZWE</td>\n      <td>Zimbabwe</td>\n      <td>Harare</td>\n      <td>Africa</td>\n      <td>16320537</td>\n      <td>15669666</td>\n      <td>14154937</td>\n      <td>12839771</td>\n      <td>11834676</td>\n      <td>10113893</td>\n      <td>7049926</td>\n      <td>5202918</td>\n      <td>390757</td>\n      <td>41.7665</td>\n      <td>1.0204</td>\n      <td>0.20</td>\n    </tr>\n  </tbody>\n</table>\n<p>234 rows × 16 columns</p>\n</div>"
     },
     "execution_count": 27,
     "metadata": {},
     "output_type": "execute_result"
    }
   ],
   "source": [
    "df3 = pd.read_excel(r\"C:\\Users\\akpin\\PycharmProjects\\Pandas\\world_population_excel_workbook.xlsx\",index_col=0)\n",
    "df3"
   ],
   "metadata": {
    "collapsed": false,
    "ExecuteTime": {
     "end_time": "2024-05-01T23:20:42.055266Z",
     "start_time": "2024-05-01T23:20:42.003639Z"
    }
   },
   "id": "c55534d6bfd9bfcd",
   "execution_count": 27
  },
  {
   "cell_type": "markdown",
   "source": [
    "#### Integer location:"
   ],
   "metadata": {
    "collapsed": false
   },
   "id": "cd704e33aa5b6354"
  },
  {
   "cell_type": "markdown",
   "source": [
    "##### Did not display the 213 by rank which is American Samoa"
   ],
   "metadata": {
    "collapsed": false
   },
   "id": "a594420e87c54fc"
  },
  {
   "cell_type": "code",
   "outputs": [
    {
     "data": {
      "text/plain": "CCA3                                TUR\nCountry                          Turkey\nCapital                          Ankara\nContinent                          Asia\n2022 Population                85341241\n2020 Population                84135428\n2015 Population                79646178\n2010 Population                73195345\n2000 Population                64113547\n1990 Population                54324142\n1980 Population                44089069\n1970 Population                35540990\nArea (kmÂ²)                      783562\nDensity (per kmÂ²)             108.9145\nGrowth Rate                      1.0067\nWorld Population Percentage        1.07\nName: 18, dtype: object"
     },
     "execution_count": 28,
     "metadata": {},
     "output_type": "execute_result"
    }
   ],
   "source": [
    "df3.iloc[213]"
   ],
   "metadata": {
    "collapsed": false,
    "ExecuteTime": {
     "end_time": "2024-05-01T23:22:19.223984Z",
     "start_time": "2024-05-01T23:22:19.219311Z"
    }
   },
   "id": "acc1736b586b3b00",
   "execution_count": 28
  },
  {
   "cell_type": "markdown",
   "source": [
    "#### Location:"
   ],
   "metadata": {
    "collapsed": false
   },
   "id": "fb3028e8125bd632"
  },
  {
   "cell_type": "code",
   "outputs": [
    {
     "data": {
      "text/plain": "CCA3                                      ASM\nCountry                        American Samoa\nCapital                             Pago Pago\nContinent                             Oceania\n2022 Population                         44273\n2020 Population                         46189\n2015 Population                         51368\n2010 Population                         54849\n2000 Population                         58230\n1990 Population                         47818\n1980 Population                         32886\n1970 Population                         27075\nArea (kmÂ²)                               199\nDensity (per kmÂ²)                   222.4774\nGrowth Rate                            0.9831\nWorld Population Percentage               0.0\nName: 213, dtype: object"
     },
     "execution_count": 29,
     "metadata": {},
     "output_type": "execute_result"
    }
   ],
   "source": [
    "df3.loc[213]"
   ],
   "metadata": {
    "collapsed": false,
    "ExecuteTime": {
     "end_time": "2024-05-01T23:22:26.599188Z",
     "start_time": "2024-05-01T23:22:26.594188Z"
    }
   },
   "id": "d96f281166696e5b",
   "execution_count": 29
  },
  {
   "cell_type": "code",
   "outputs": [],
   "source": [],
   "metadata": {
    "collapsed": false
   },
   "id": "cc972627f13cf3e0"
  }
 ],
 "metadata": {
  "kernelspec": {
   "display_name": "Python 3",
   "language": "python",
   "name": "python3"
  },
  "language_info": {
   "codemirror_mode": {
    "name": "ipython",
    "version": 2
   },
   "file_extension": ".py",
   "mimetype": "text/x-python",
   "name": "python",
   "nbconvert_exporter": "python",
   "pygments_lexer": "ipython2",
   "version": "2.7.6"
  }
 },
 "nbformat": 4,
 "nbformat_minor": 5
}
